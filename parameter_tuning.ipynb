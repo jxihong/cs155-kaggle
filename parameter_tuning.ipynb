{
 "cells": [
  {
   "cell_type": "markdown",
   "metadata": {},
   "source": [
    "# Parameter Tuning for Random Forest"
   ]
  },
  {
   "cell_type": "code",
   "execution_count": 2,
   "metadata": {
    "collapsed": false
   },
   "outputs": [],
   "source": [
    "import numpy as np\n",
    "from sklearn.ensemble import RandomForestClassifier\n",
    "from sklearn.model_selection import GridSearchCV"
   ]
  },
  {
   "cell_type": "code",
   "execution_count": 3,
   "metadata": {
    "collapsed": true
   },
   "outputs": [],
   "source": [
    "from sklearn import metrics\n",
    "from sklearn.model_selection import KFold"
   ]
  },
  {
   "cell_type": "code",
   "execution_count": 4,
   "metadata": {
    "collapsed": false
   },
   "outputs": [
    {
     "name": "stderr",
     "output_type": "stream",
     "text": [
      "/usr/local/lib/python2.7/site-packages/matplotlib/font_manager.py:273: UserWarning: Matplotlib is building the font cache using fc-list. This may take a moment.\n",
      "  warnings.warn('Matplotlib is building the font cache using fc-list. This may take a moment.')\n"
     ]
    }
   ],
   "source": [
    "import matplotlib.pylab as plt\n",
    "%matplotlib inline"
   ]
  },
  {
   "cell_type": "code",
   "execution_count": 5,
   "metadata": {
    "collapsed": true
   },
   "outputs": [],
   "source": [
    "from data_utils import load_train, load_test, write_test"
   ]
  },
  {
   "cell_type": "code",
   "execution_count": 6,
   "metadata": {
    "collapsed": true
   },
   "outputs": [],
   "source": [
    "X_train, y_train = load_train('data/train_2008.csv')"
   ]
  },
  {
   "cell_type": "code",
   "execution_count": 7,
   "metadata": {
    "collapsed": false
   },
   "outputs": [
    {
     "data": {
      "text/plain": [
       "((64667, 366), (64667,))"
      ]
     },
     "execution_count": 7,
     "metadata": {},
     "output_type": "execute_result"
    }
   ],
   "source": [
    "X_train.shape, y_train.shape"
   ]
  },
  {
   "cell_type": "code",
   "execution_count": 8,
   "metadata": {
    "collapsed": true
   },
   "outputs": [],
   "source": [
    "y_train[y_train == 1] = -1\n",
    "y_train[y_train == 2] = 1"
   ]
  },
  {
   "cell_type": "code",
   "execution_count": 9,
   "metadata": {
    "collapsed": false
   },
   "outputs": [
    {
     "data": {
      "text/plain": [
       "array([-1, -1, -1, ..., -1, -1, -1])"
      ]
     },
     "execution_count": 9,
     "metadata": {},
     "output_type": "execute_result"
    }
   ],
   "source": [
    "y_train"
   ]
  },
  {
   "cell_type": "code",
   "execution_count": 10,
   "metadata": {
    "collapsed": true
   },
   "outputs": [],
   "source": [
    "def evaluate_model(clf, X_train, y_train, X_test, y_test):\n",
    "    #Fit the algorithm on the data\n",
    "    clf.fit(X_train, y_train, eval_metric='error')\n",
    "    \n",
    "    y_train_pred = clf.predict(X_train)\n",
    "    y_test_pred = clf.predict(X_test)\n",
    "    \n",
    "    #Print model report:\n",
    "    print \"Model Report\"\n",
    "    print \"Accuracy (Train): %f\" % metrics.accuracy_score(y_train, y_train_pred)\n",
    "    print \"AUC Score (Train): %f\" % metrics.roc_auc_score(y_train, y_train_pred)\n",
    "    \n",
    "    print \"\\nAccuracy (Test): %f\" % metrics.accuracy_score(y_test, y_test_pred)\n",
    "    print \"AUC Score (Test): %f\" % metrics.roc_auc_score(y_test, y_test_pred)"
   ]
  },
  {
   "cell_type": "markdown",
   "metadata": {},
   "source": [
    "## Find the right size for each tree estimator"
   ]
  },
  {
   "cell_type": "code",
   "execution_count": 41,
   "metadata": {
    "collapsed": false
   },
   "outputs": [
    {
     "name": "stdout",
     "output_type": "stream",
     "text": [
      "0.739 (+/-0.006) for {'n_estimators': 100, 'criterion': 'entropy', 'max_depth': 3}\n",
      "0.751 (+/-0.003) for {'n_estimators': 100, 'criterion': 'entropy', 'max_depth': 4}\n",
      "0.759 (+/-0.003) for {'n_estimators': 100, 'criterion': 'entropy', 'max_depth': 5}\n",
      "0.765 (+/-0.003) for {'n_estimators': 100, 'criterion': 'entropy', 'max_depth': 6}\n",
      "0.769 (+/-0.002) for {'n_estimators': 100, 'criterion': 'entropy', 'max_depth': 7}\n",
      "0.772 (+/-0.003) for {'n_estimators': 100, 'criterion': 'entropy', 'max_depth': 8}\n",
      "0.775 (+/-0.003) for {'n_estimators': 100, 'criterion': 'entropy', 'max_depth': 9}\n",
      "0.776 (+/-0.003) for {'n_estimators': 100, 'criterion': 'entropy', 'max_depth': 10}\n",
      "0.777 (+/-0.003) for {'n_estimators': 100, 'criterion': 'entropy', 'max_depth': 11}\n",
      "0.778 (+/-0.003) for {'n_estimators': 100, 'criterion': 'entropy', 'max_depth': 12}\n",
      "0.778 (+/-0.004) for {'n_estimators': 100, 'criterion': 'entropy', 'max_depth': 13}\n",
      "0.778 (+/-0.005) for {'n_estimators': 100, 'criterion': 'entropy', 'max_depth': 14}\n",
      "0.778 (+/-0.002) for {'n_estimators': 100, 'criterion': 'entropy', 'max_depth': 15}\n",
      "0.779 (+/-0.005) for {'n_estimators': 100, 'criterion': 'entropy', 'max_depth': 16}\n",
      "0.779 (+/-0.004) for {'n_estimators': 100, 'criterion': 'entropy', 'max_depth': 17}\n",
      "0.778 (+/-0.004) for {'n_estimators': 100, 'criterion': 'entropy', 'max_depth': 18}\n",
      "0.778 (+/-0.005) for {'n_estimators': 100, 'criterion': 'entropy', 'max_depth': 19}\n",
      "{'n_estimators': 100, 'criterion': 'entropy', 'max_depth': 17}\n",
      "0.778820826516\n"
     ]
    }
   ],
   "source": [
    "means = gsearch1.cv_results_['mean_test_score']\n",
    "stds = gsearch1.cv_results_['std_test_score']\n",
    "for mean, std, params in zip(means, stds, gsearch1.cv_results_['params']):\n",
    "    print(\"%0.3f (+/-%0.03f) for %r\"% (mean, std * 2, params))\n",
    "print gsearch1.best_params_\n",
    "print gsearch1.best_score_"
   ]
  },
  {
   "cell_type": "code",
   "execution_count": 45,
   "metadata": {
    "collapsed": false
   },
   "outputs": [
    {
     "data": {
      "image/png": "[encoded data removed]",
      "text/plain": [
       "<matplotlib.figure.Figure at 0x110753b90>"
      ]
     },
     "metadata": {},
     "output_type": "display_data"
    }
   ],
   "source": [
    "xs = range(3, 20, 1)\n",
    "ys = gsearch1.cv_results_['mean_test_score']\n",
    "plt.plot(xs,ys)\n",
    "plt.title(\"Mean Test Score(ROC_AUC) vs Max Tree Depth\")\n",
    "plt.ylabel(\"Mean ROC_AUC Score\")\n",
    "plt.xlabel(\"Max Tree Depth\")\n",
    "plt.savefig(\"plots/rf_depth.png\")"
   ]
  },
  {
   "cell_type": "code",
   "execution_count": 8,
   "metadata": {
    "collapsed": false
   },
   "outputs": [
    {
     "name": "stdout",
     "output_type": "stream",
     "text": [
      "Fitting 3 folds for each of 9 candidates, totalling 27 fits\n",
      "[CV] n_estimators=100, criterion=entropy, max_depth=3 ................\n",
      "[CV] . n_estimators=100, criterion=entropy, max_depth=3, total=  18.5s\n",
      "[CV] n_estimators=100, criterion=entropy, max_depth=3 ................\n"
     ]
    },
    {
     "name": "stderr",
     "output_type": "stream",
     "text": [
      "[Parallel(n_jobs=1)]: Done   1 out of   1 | elapsed:   18.8s remaining:    0.0s\n"
     ]
    },
    {
     "name": "stdout",
     "output_type": "stream",
     "text": [
      "[CV] . n_estimators=100, criterion=entropy, max_depth=3, total=  18.7s\n",
      "[CV] n_estimators=100, criterion=entropy, max_depth=3 ................\n",
      "[CV] . n_estimators=100, criterion=entropy, max_depth=3, total=  18.7s\n",
      "[CV] n_estimators=100, criterion=entropy, max_depth=5 ................\n",
      "[CV] . n_estimators=100, criterion=entropy, max_depth=5, total=  32.0s\n",
      "[CV] n_estimators=100, criterion=entropy, max_depth=5 ................\n",
      "[CV] . n_estimators=100, criterion=entropy, max_depth=5, total=  29.6s\n",
      "[CV] n_estimators=100, criterion=entropy, max_depth=5 ................\n",
      "[CV] . n_estimators=100, criterion=entropy, max_depth=5, total=  29.6s\n",
      "[CV] n_estimators=100, criterion=entropy, max_depth=7 ................\n",
      "[CV] . n_estimators=100, criterion=entropy, max_depth=7, total=  39.2s\n",
      "[CV] n_estimators=100, criterion=entropy, max_depth=7 ................\n",
      "[CV] . n_estimators=100, criterion=entropy, max_depth=7, total=  38.7s\n",
      "[CV] n_estimators=100, criterion=entropy, max_depth=7 ................\n",
      "[CV] . n_estimators=100, criterion=entropy, max_depth=7, total=  36.3s\n",
      "[CV] n_estimators=100, criterion=entropy, max_depth=9 ................\n",
      "[CV] . n_estimators=100, criterion=entropy, max_depth=9, total=  49.0s\n",
      "[CV] n_estimators=100, criterion=entropy, max_depth=9 ................\n",
      "[CV] . n_estimators=100, criterion=entropy, max_depth=9, total=  46.2s\n",
      "[CV] n_estimators=100, criterion=entropy, max_depth=9 ................\n",
      "[CV] . n_estimators=100, criterion=entropy, max_depth=9, total=  44.6s\n",
      "[CV] n_estimators=100, criterion=entropy, max_depth=11 ...............\n",
      "[CV]  n_estimators=100, criterion=entropy, max_depth=11, total=  51.2s\n",
      "[CV] n_estimators=100, criterion=entropy, max_depth=11 ...............\n",
      "[CV]  n_estimators=100, criterion=entropy, max_depth=11, total=  51.9s\n",
      "[CV] n_estimators=100, criterion=entropy, max_depth=11 ...............\n",
      "[CV]  n_estimators=100, criterion=entropy, max_depth=11, total=  51.3s\n",
      "[CV] n_estimators=100, criterion=entropy, max_depth=13 ...............\n",
      "[CV]  n_estimators=100, criterion=entropy, max_depth=13, total=  59.7s\n",
      "[CV] n_estimators=100, criterion=entropy, max_depth=13 ...............\n",
      "[CV]  n_estimators=100, criterion=entropy, max_depth=13, total=  58.9s\n",
      "[CV] n_estimators=100, criterion=entropy, max_depth=13 ...............\n",
      "[CV]  n_estimators=100, criterion=entropy, max_depth=13, total= 1.0min\n",
      "[CV] n_estimators=100, criterion=entropy, max_depth=15 ...............\n",
      "[CV]  n_estimators=100, criterion=entropy, max_depth=15, total= 1.1min\n",
      "[CV] n_estimators=100, criterion=entropy, max_depth=15 ...............\n",
      "[CV]  n_estimators=100, criterion=entropy, max_depth=15, total= 1.1min\n",
      "[CV] n_estimators=100, criterion=entropy, max_depth=15 ...............\n",
      "[CV]  n_estimators=100, criterion=entropy, max_depth=15, total= 1.1min\n",
      "[CV] n_estimators=100, criterion=entropy, max_depth=17 ...............\n",
      "[CV]  n_estimators=100, criterion=entropy, max_depth=17, total= 1.1min\n",
      "[CV] n_estimators=100, criterion=entropy, max_depth=17 ...............\n",
      "[CV]  n_estimators=100, criterion=entropy, max_depth=17, total= 1.1min\n",
      "[CV] n_estimators=100, criterion=entropy, max_depth=17 ...............\n",
      "[CV]  n_estimators=100, criterion=entropy, max_depth=17, total= 1.1min\n",
      "[CV] n_estimators=100, criterion=entropy, max_depth=19 ...............\n",
      "[CV]  n_estimators=100, criterion=entropy, max_depth=19, total= 1.2min\n",
      "[CV] n_estimators=100, criterion=entropy, max_depth=19 ...............\n",
      "[CV]  n_estimators=100, criterion=entropy, max_depth=19, total= 1.2min\n",
      "[CV] n_estimators=100, criterion=entropy, max_depth=19 ...............\n",
      "[CV]  n_estimators=100, criterion=entropy, max_depth=19, total= 1.1min\n"
     ]
    },
    {
     "name": "stderr",
     "output_type": "stream",
     "text": [
      "[Parallel(n_jobs=1)]: Done  27 out of  27 | elapsed: 22.5min finished\n"
     ]
    },
    {
     "data": {
      "text/plain": [
       "GridSearchCV(cv=None, error_score='raise',\n",
       "       estimator=RandomForestClassifier(bootstrap=True, class_weight=None, criterion='gini',\n",
       "            max_depth=None, max_features=None, max_leaf_nodes=None,\n",
       "            min_impurity_split=1e-07, min_samples_leaf=1,\n",
       "            min_samples_split=2, min_weight_fraction_leaf=0.0,\n",
       "            n_estimators=10, n_jobs=4, oob_score=False, random_state=None,\n",
       "            verbose=0, warm_start=False),\n",
       "       fit_params={}, iid=True, n_jobs=1,\n",
       "       param_grid={'n_estimators': [100], 'criterion': ['entropy'], 'max_depth': [3, 5, 7, 9, 11, 13, 15, 17, 19]},\n",
       "       pre_dispatch='2*n_jobs', refit=True, return_train_score=True,\n",
       "       scoring='accuracy', verbose=2)"
      ]
     },
     "execution_count": 8,
     "metadata": {},
     "output_type": "execute_result"
    }
   ],
   "source": [
    "param_test_1 = {\n",
    "    'criterion':['entropy'],\n",
    "    'n_estimators': [100],\n",
    "    'max_depth': range(3, 20, 2)\n",
    "}\n",
    "\n",
    "gsearch1 = GridSearchCV(estimator=RandomForestClassifier(n_jobs=4, max_features=None), \n",
    "                        param_grid=param_test_1,\n",
    "                        scoring='accuracy', verbose=2)\n",
    "\n",
    "gsearch1.fit(X_train, y_train)"
   ]
  },
  {
   "cell_type": "code",
   "execution_count": 9,
   "metadata": {
    "collapsed": false
   },
   "outputs": [
    {
     "name": "stdout",
     "output_type": "stream",
     "text": [
      "0.757 (+/-0.005) for {'n_estimators': 100, 'criterion': 'entropy', 'max_depth': 3}\n",
      "0.768 (+/-0.005) for {'n_estimators': 100, 'criterion': 'entropy', 'max_depth': 5}\n",
      "0.774 (+/-0.004) for {'n_estimators': 100, 'criterion': 'entropy', 'max_depth': 7}\n",
      "0.776 (+/-0.004) for {'n_estimators': 100, 'criterion': 'entropy', 'max_depth': 9}\n",
      "0.777 (+/-0.004) for {'n_estimators': 100, 'criterion': 'entropy', 'max_depth': 11}\n",
      "0.778 (+/-0.004) for {'n_estimators': 100, 'criterion': 'entropy', 'max_depth': 13}\n",
      "0.779 (+/-0.004) for {'n_estimators': 100, 'criterion': 'entropy', 'max_depth': 15}\n",
      "0.778 (+/-0.006) for {'n_estimators': 100, 'criterion': 'entropy', 'max_depth': 17}\n",
      "0.779 (+/-0.003) for {'n_estimators': 100, 'criterion': 'entropy', 'max_depth': 19}\n",
      "{'n_estimators': 100, 'criterion': 'entropy', 'max_depth': 19}\n",
      "0.779238251349\n"
     ]
    }
   ],
   "source": [
    "means = gsearch1.cv_results_['mean_test_score']\n",
    "stds = gsearch1.cv_results_['std_test_score']\n",
    "for mean, std, params in zip(means, stds, gsearch1.cv_results_['params']):\n",
    "    print(\"%0.3f (+/-%0.03f) for %r\"% (mean, std * 2, params))\n",
    "print gsearch1.best_params_\n",
    "print gsearch1.best_score_"
   ]
  },
  {
   "cell_type": "code",
   "execution_count": 10,
   "metadata": {
    "collapsed": false
   },
   "outputs": [
    {
     "data": {
      "image/png": "[encoded data removed]",
      "text/plain": [
       "<matplotlib.figure.Figure at 0x108337e10>"
      ]
     },
     "metadata": {},
     "output_type": "display_data"
    }
   ],
   "source": [
    "xs = range(3, 20, 2)\n",
    "ys = gsearch1.cv_results_['mean_test_score']\n",
    "plt.plot(xs,ys)\n",
    "plt.title(\"Mean Test Score(ACC) vs Max Tree Depth\")\n",
    "plt.ylabel(\"Mean ACC Score\")\n",
    "plt.xlabel(\"Max Tree Depth\")\n",
    "plt.savefig(\"plots/rf_depth_2.png\")"
   ]
  },
  {
   "cell_type": "code",
   "execution_count": 15,
   "metadata": {
    "collapsed": false
   },
   "outputs": [
    {
     "name": "stdout",
     "output_type": "stream",
     "text": [
      "Fitting 3 folds for each of 10 candidates, totalling 30 fits\n",
      "[CV] max_features=0.1, n_estimators=100, criterion=entropy ...........\n",
      "[CV]  max_features=0.1, n_estimators=100, criterion=entropy, total=   9.0s\n",
      "[CV] max_features=0.1, n_estimators=100, criterion=entropy ...........\n"
     ]
    },
    {
     "name": "stderr",
     "output_type": "stream",
     "text": [
      "[Parallel(n_jobs=1)]: Done   1 out of   1 | elapsed:    9.4s remaining:    0.0s\n"
     ]
    },
    {
     "name": "stdout",
     "output_type": "stream",
     "text": [
      "[CV]  max_features=0.1, n_estimators=100, criterion=entropy, total=   8.9s\n",
      "[CV] max_features=0.1, n_estimators=100, criterion=entropy ...........\n",
      "[CV]  max_features=0.1, n_estimators=100, criterion=entropy, total=   9.1s\n",
      "[CV] max_features=0.2, n_estimators=100, criterion=entropy ...........\n",
      "[CV]  max_features=0.2, n_estimators=100, criterion=entropy, total=  17.2s\n",
      "[CV] max_features=0.2, n_estimators=100, criterion=entropy ...........\n",
      "[CV]  max_features=0.2, n_estimators=100, criterion=entropy, total=  18.1s\n",
      "[CV] max_features=0.2, n_estimators=100, criterion=entropy ...........\n",
      "[CV]  max_features=0.2, n_estimators=100, criterion=entropy, total=  17.3s\n",
      "[CV] max_features=0.3, n_estimators=100, criterion=entropy ...........\n",
      "[CV]  max_features=0.3, n_estimators=100, criterion=entropy, total=  25.5s\n",
      "[CV] max_features=0.3, n_estimators=100, criterion=entropy ...........\n",
      "[CV]  max_features=0.3, n_estimators=100, criterion=entropy, total=  24.7s\n",
      "[CV] max_features=0.3, n_estimators=100, criterion=entropy ...........\n",
      "[CV]  max_features=0.3, n_estimators=100, criterion=entropy, total=  24.5s\n",
      "[CV] max_features=0.4, n_estimators=100, criterion=entropy ...........\n",
      "[CV]  max_features=0.4, n_estimators=100, criterion=entropy, total=  32.3s\n",
      "[CV] max_features=0.4, n_estimators=100, criterion=entropy ...........\n",
      "[CV]  max_features=0.4, n_estimators=100, criterion=entropy, total=  32.0s\n",
      "[CV] max_features=0.4, n_estimators=100, criterion=entropy ...........\n",
      "[CV]  max_features=0.4, n_estimators=100, criterion=entropy, total=  32.4s\n",
      "[CV] max_features=0.5, n_estimators=100, criterion=entropy ...........\n",
      "[CV]  max_features=0.5, n_estimators=100, criterion=entropy, total=  38.5s\n",
      "[CV] max_features=0.5, n_estimators=100, criterion=entropy ...........\n",
      "[CV]  max_features=0.5, n_estimators=100, criterion=entropy, total=  42.0s\n",
      "[CV] max_features=0.5, n_estimators=100, criterion=entropy ...........\n",
      "[CV]  max_features=0.5, n_estimators=100, criterion=entropy, total=  39.9s\n",
      "[CV] max_features=0.6, n_estimators=100, criterion=entropy ...........\n",
      "[CV]  max_features=0.6, n_estimators=100, criterion=entropy, total=  46.5s\n",
      "[CV] max_features=0.6, n_estimators=100, criterion=entropy ...........\n",
      "[CV]  max_features=0.6, n_estimators=100, criterion=entropy, total=  46.9s\n",
      "[CV] max_features=0.6, n_estimators=100, criterion=entropy ...........\n",
      "[CV]  max_features=0.6, n_estimators=100, criterion=entropy, total=  49.1s\n",
      "[CV] max_features=0.7, n_estimators=100, criterion=entropy ...........\n",
      "[CV]  max_features=0.7, n_estimators=100, criterion=entropy, total=  57.4s\n",
      "[CV] max_features=0.7, n_estimators=100, criterion=entropy ...........\n",
      "[CV]  max_features=0.7, n_estimators=100, criterion=entropy, total=  54.5s\n",
      "[CV] max_features=0.7, n_estimators=100, criterion=entropy ...........\n",
      "[CV]  max_features=0.7, n_estimators=100, criterion=entropy, total=  57.4s\n",
      "[CV] max_features=0.8, n_estimators=100, criterion=entropy ...........\n",
      "[CV]  max_features=0.8, n_estimators=100, criterion=entropy, total= 1.1min\n",
      "[CV] max_features=0.8, n_estimators=100, criterion=entropy ...........\n",
      "[CV]  max_features=0.8, n_estimators=100, criterion=entropy, total= 1.0min\n",
      "[CV] max_features=0.8, n_estimators=100, criterion=entropy ...........\n",
      "[CV]  max_features=0.8, n_estimators=100, criterion=entropy, total= 1.0min\n",
      "[CV] max_features=0.9, n_estimators=100, criterion=entropy ...........\n",
      "[CV]  max_features=0.9, n_estimators=100, criterion=entropy, total= 1.1min\n",
      "[CV] max_features=0.9, n_estimators=100, criterion=entropy ...........\n",
      "[CV]  max_features=0.9, n_estimators=100, criterion=entropy, total= 1.1min\n",
      "[CV] max_features=0.9, n_estimators=100, criterion=entropy ...........\n",
      "[CV]  max_features=0.9, n_estimators=100, criterion=entropy, total= 1.1min\n",
      "[CV] max_features=1.0, n_estimators=100, criterion=entropy ...........\n",
      "[CV]  max_features=1.0, n_estimators=100, criterion=entropy, total= 1.2min\n",
      "[CV] max_features=1.0, n_estimators=100, criterion=entropy ...........\n",
      "[CV]  max_features=1.0, n_estimators=100, criterion=entropy, total= 1.2min\n",
      "[CV] max_features=1.0, n_estimators=100, criterion=entropy ...........\n",
      "[CV]  max_features=1.0, n_estimators=100, criterion=entropy, total= 1.3min\n"
     ]
    },
    {
     "name": "stderr",
     "output_type": "stream",
     "text": [
      "[Parallel(n_jobs=1)]: Done  30 out of  30 | elapsed: 21.8min finished\n"
     ]
    },
    {
     "data": {
      "text/plain": [
       "GridSearchCV(cv=None, error_score='raise',\n",
       "       estimator=RandomForestClassifier(bootstrap=True, class_weight=None, criterion='gini',\n",
       "            max_depth=17, max_features='auto', max_leaf_nodes=None,\n",
       "            min_impurity_split=1e-07, min_samples_leaf=1,\n",
       "            min_samples_split=2, min_weight_fraction_leaf=0.0,\n",
       "            n_estimators=10, n_jobs=4, oob_score=False, random_state=None,\n",
       "            verbose=0, warm_start=False),\n",
       "       fit_params={}, iid=True, n_jobs=1,\n",
       "       param_grid={'n_estimators': [100], 'max_features': array([ 0.1,  0.2,  0.3,  0.4,  0.5,  0.6,  0.7,  0.8,  0.9,  1. ]), 'criterion': ['entropy']},\n",
       "       pre_dispatch='2*n_jobs', refit=True, return_train_score=True,\n",
       "       scoring='accuracy', verbose=2)"
      ]
     },
     "execution_count": 15,
     "metadata": {},
     "output_type": "execute_result"
    }
   ],
   "source": [
    "param_test_2 = {\n",
    "    'criterion':['entropy'],\n",
    "    'n_estimators': [100],\n",
    "    'max_features': np.linspace(0.1, 1, 10)\n",
    "}\n",
    "\n",
    "gsearch2 = GridSearchCV(estimator=RandomForestClassifier(n_jobs=4, max_depth=17), \n",
    "                        param_grid=param_test_2,\n",
    "                        scoring='accuracy', verbose=2)\n",
    "\n",
    "gsearch2.fit(X_train, y_train)"
   ]
  },
  {
   "cell_type": "code",
   "execution_count": 16,
   "metadata": {
    "collapsed": false
   },
   "outputs": [
    {
     "name": "stdout",
     "output_type": "stream",
     "text": [
      "0.778 (+/-0.002) for {'max_features': 0.10000000000000001, 'n_estimators': 100, 'criterion': 'entropy'}\n",
      "0.778 (+/-0.003) for {'max_features': 0.20000000000000001, 'n_estimators': 100, 'criterion': 'entropy'}\n",
      "0.780 (+/-0.003) for {'max_features': 0.30000000000000004, 'n_estimators': 100, 'criterion': 'entropy'}\n",
      "0.780 (+/-0.004) for {'max_features': 0.40000000000000002, 'n_estimators': 100, 'criterion': 'entropy'}\n",
      "0.780 (+/-0.005) for {'max_features': 0.5, 'n_estimators': 100, 'criterion': 'entropy'}\n",
      "0.779 (+/-0.004) for {'max_features': 0.59999999999999998, 'n_estimators': 100, 'criterion': 'entropy'}\n",
      "0.779 (+/-0.006) for {'max_features': 0.70000000000000007, 'n_estimators': 100, 'criterion': 'entropy'}\n",
      "0.780 (+/-0.003) for {'max_features': 0.80000000000000004, 'n_estimators': 100, 'criterion': 'entropy'}\n",
      "0.780 (+/-0.003) for {'max_features': 0.90000000000000002, 'n_estimators': 100, 'criterion': 'entropy'}\n",
      "0.780 (+/-0.003) for {'max_features': 1.0, 'n_estimators': 100, 'criterion': 'entropy'}\n",
      "{'max_features': 0.5, 'n_estimators': 100, 'criterion': 'entropy'}\n",
      "0.779903196375\n"
     ]
    }
   ],
   "source": [
    "means = gsearch2.cv_results_['mean_test_score']\n",
    "stds = gsearch2.cv_results_['std_test_score']\n",
    "for mean, std, params in zip(means, stds, gsearch2.cv_results_['params']):\n",
    "    print(\"%0.3f (+/-%0.03f) for %r\"% (mean, std * 2, params))\n",
    "print gsearch2.best_params_\n",
    "print gsearch2.best_score_"
   ]
  },
  {
   "cell_type": "code",
   "execution_count": 22,
   "metadata": {
    "collapsed": false
   },
   "outputs": [
    {
     "name": "stdout",
     "output_type": "stream",
     "text": [
      "Fitting 3 folds for each of 5 candidates, totalling 15 fits\n",
      "[CV] max_features=0.1, n_estimators=100, criterion=entropy ...........\n",
      "[CV]  max_features=0.1, n_estimators=100, criterion=entropy, total=   8.9s\n",
      "[CV] max_features=0.1, n_estimators=100, criterion=entropy ...........\n"
     ]
    },
    {
     "name": "stderr",
     "output_type": "stream",
     "text": [
      "[Parallel(n_jobs=1)]: Done   1 out of   1 | elapsed:    9.3s remaining:    0.0s\n"
     ]
    },
    {
     "name": "stdout",
     "output_type": "stream",
     "text": [
      "[CV]  max_features=0.1, n_estimators=100, criterion=entropy, total=   8.6s\n",
      "[CV] max_features=0.1, n_estimators=100, criterion=entropy ...........\n",
      "[CV]  max_features=0.1, n_estimators=100, criterion=entropy, total=   9.4s\n",
      "[CV] max_features=0.325, n_estimators=100, criterion=entropy .........\n",
      "[CV]  max_features=0.325, n_estimators=100, criterion=entropy, total=  26.0s\n",
      "[CV] max_features=0.325, n_estimators=100, criterion=entropy .........\n",
      "[CV]  max_features=0.325, n_estimators=100, criterion=entropy, total=  27.7s\n",
      "[CV] max_features=0.325, n_estimators=100, criterion=entropy .........\n",
      "[CV]  max_features=0.325, n_estimators=100, criterion=entropy, total=  28.3s\n",
      "[CV] max_features=0.55, n_estimators=100, criterion=entropy ..........\n",
      "[CV]  max_features=0.55, n_estimators=100, criterion=entropy, total=  43.8s\n",
      "[CV] max_features=0.55, n_estimators=100, criterion=entropy ..........\n",
      "[CV]  max_features=0.55, n_estimators=100, criterion=entropy, total=  43.8s\n",
      "[CV] max_features=0.55, n_estimators=100, criterion=entropy ..........\n",
      "[CV]  max_features=0.55, n_estimators=100, criterion=entropy, total=  46.3s\n",
      "[CV] max_features=0.775, n_estimators=100, criterion=entropy .........\n",
      "[CV]  max_features=0.775, n_estimators=100, criterion=entropy, total= 1.0min\n",
      "[CV] max_features=0.775, n_estimators=100, criterion=entropy .........\n",
      "[CV]  max_features=0.775, n_estimators=100, criterion=entropy, total=  58.5s\n",
      "[CV] max_features=0.775, n_estimators=100, criterion=entropy .........\n",
      "[CV]  max_features=0.775, n_estimators=100, criterion=entropy, total=  58.3s\n",
      "[CV] max_features=1.0, n_estimators=100, criterion=entropy ...........\n",
      "[CV]  max_features=1.0, n_estimators=100, criterion=entropy, total= 1.2min\n",
      "[CV] max_features=1.0, n_estimators=100, criterion=entropy ...........\n",
      "[CV]  max_features=1.0, n_estimators=100, criterion=entropy, total= 1.3min\n",
      "[CV] max_features=1.0, n_estimators=100, criterion=entropy ...........\n",
      "[CV]  max_features=1.0, n_estimators=100, criterion=entropy, total= 1.4min\n"
     ]
    },
    {
     "name": "stderr",
     "output_type": "stream",
     "text": [
      "[Parallel(n_jobs=1)]: Done  15 out of  15 | elapsed: 11.1min finished\n"
     ]
    },
    {
     "data": {
      "text/plain": [
       "GridSearchCV(cv=None, error_score='raise',\n",
       "       estimator=RandomForestClassifier(bootstrap=True, class_weight=None, criterion='gini',\n",
       "            max_depth=17, max_features='auto', max_leaf_nodes=None,\n",
       "            min_impurity_split=1e-07, min_samples_leaf=1,\n",
       "            min_samples_split=2, min_weight_fraction_leaf=0.0,\n",
       "            n_estimators=10, n_jobs=4, oob_score=False, random_state=None,\n",
       "            verbose=0, warm_start=False),\n",
       "       fit_params={}, iid=True, n_jobs=1,\n",
       "       param_grid={'n_estimators': [100], 'max_features': array([ 0.1  ,  0.325,  0.55 ,  0.775,  1.   ]), 'criterion': ['entropy']},\n",
       "       pre_dispatch='2*n_jobs', refit=True, return_train_score=True,\n",
       "       scoring='roc_auc', verbose=2)"
      ]
     },
     "execution_count": 22,
     "metadata": {},
     "output_type": "execute_result"
    }
   ],
   "source": [
    "param_test_2 = {\n",
    "    'criterion':['entropy'],\n",
    "    'n_estimators': [100],\n",
    "    'max_features': np.linspace(0.1, 1, 5)\n",
    "}\n",
    "\n",
    "gsearch2 = GridSearchCV(estimator=RandomForestClassifier(n_jobs=4, max_depth=17), \n",
    "                        param_grid=param_test_2,\n",
    "                        scoring='roc_auc', verbose=2)\n",
    "\n",
    "gsearch2.fit(X_train, y_train)"
   ]
  },
  {
   "cell_type": "code",
   "execution_count": 23,
   "metadata": {
    "collapsed": false
   },
   "outputs": [
    {
     "name": "stdout",
     "output_type": "stream",
     "text": [
      "0.776 (+/-0.006) for {'max_features': 0.10000000000000001, 'n_estimators': 100, 'criterion': 'entropy'}\n",
      "0.779 (+/-0.006) for {'max_features': 0.32500000000000001, 'n_estimators': 100, 'criterion': 'entropy'}\n",
      "0.779 (+/-0.004) for {'max_features': 0.55000000000000004, 'n_estimators': 100, 'criterion': 'entropy'}\n",
      "0.779 (+/-0.006) for {'max_features': 0.77500000000000002, 'n_estimators': 100, 'criterion': 'entropy'}\n",
      "0.779 (+/-0.004) for {'max_features': 1.0, 'n_estimators': 100, 'criterion': 'entropy'}\n",
      "{'max_features': 0.32500000000000001, 'n_estimators': 100, 'criterion': 'entropy'}\n",
      "0.7794265436\n"
     ]
    }
   ],
   "source": [
    "means = gsearch2.cv_results_['mean_test_score']\n",
    "stds = gsearch2.cv_results_['std_test_score']\n",
    "for mean, std, params in zip(means, stds, gsearch2.cv_results_['params']):\n",
    "    print(\"%0.3f (+/-%0.03f) for %r\"% (mean, std * 2, params))\n",
    "print gsearch2.best_params_\n",
    "print gsearch2.best_score_"
   ]
  },
  {
   "cell_type": "markdown",
   "metadata": {},
   "source": [
    "# Parameter Tuning for Boosted Trees"
   ]
  },
  {
   "cell_type": "code",
   "execution_count": 12,
   "metadata": {
    "collapsed": true
   },
   "outputs": [],
   "source": [
    "import xgboost as xgb\n",
    "from xgboost.sklearn import XGBClassifier"
   ]
  },
  {
   "cell_type": "code",
   "execution_count": 40,
   "metadata": {
    "collapsed": false
   },
   "outputs": [
    {
     "name": "stdout",
     "output_type": "stream",
     "text": [
      "Fitting 3 folds for each of 9 candidates, totalling 27 fits\n",
      "[CV] max_depth=3 .....................................................\n",
      "[CV] max_depth=3 .....................................................\n",
      "[CV] max_depth=3 .....................................................\n",
      "[CV] max_depth=5 .....................................................\n",
      "[CV] ...................................... max_depth=3, total=  44.6s\n",
      "[CV] max_depth=5 .....................................................\n",
      "[CV] ...................................... max_depth=3, total=  45.1s\n",
      "[CV] max_depth=5 .....................................................\n",
      "[CV] ...................................... max_depth=3, total=  45.2s\n",
      "[CV] max_depth=7 .....................................................\n",
      "[CV] ...................................... max_depth=5, total= 1.2min\n",
      "[CV] max_depth=7 .....................................................\n",
      "[CV] ...................................... max_depth=5, total= 1.2min\n",
      "[CV] max_depth=7 .....................................................\n",
      "[CV] ...................................... max_depth=5, total= 1.3min\n",
      "[CV] max_depth=9 .....................................................\n",
      "[CV] ...................................... max_depth=7, total= 1.8min\n",
      "[CV] max_depth=9 .....................................................\n",
      "[CV] ...................................... max_depth=7, total= 1.8min\n",
      "[CV] max_depth=9 .....................................................\n",
      "[CV] ...................................... max_depth=7, total= 1.8min\n",
      "[CV] max_depth=11 ....................................................\n",
      "[CV] ...................................... max_depth=9, total= 2.3min\n",
      "[CV] max_depth=11 ....................................................\n",
      "[CV] ...................................... max_depth=9, total= 2.3min\n",
      "[CV] max_depth=11 ....................................................\n",
      "[CV] ...................................... max_depth=9, total= 2.3min\n",
      "[CV] max_depth=13 ....................................................\n",
      "[CV] ..................................... max_depth=11, total= 2.7min\n",
      "[CV] max_depth=13 ....................................................\n",
      "[CV] ..................................... max_depth=11, total= 2.8min\n",
      "[CV] max_depth=13 ....................................................\n",
      "[CV] ..................................... max_depth=11, total= 2.8min\n",
      "[CV] max_depth=15 ....................................................\n",
      "[CV] ..................................... max_depth=13, total= 3.4min\n",
      "[CV] max_depth=15 ....................................................\n",
      "[CV] ..................................... max_depth=13, total= 3.4min\n",
      "[CV] max_depth=15 ....................................................\n",
      "[CV] ..................................... max_depth=13, total= 3.3min\n",
      "[CV] max_depth=17 ....................................................\n",
      "[CV] ..................................... max_depth=15, total= 3.8min\n",
      "[CV] max_depth=17 ....................................................\n",
      "[CV] ..................................... max_depth=15, total= 3.8min\n",
      "[CV] max_depth=17 ....................................................\n",
      "[CV] ..................................... max_depth=15, total= 3.8min\n",
      "[CV] max_depth=19 ....................................................\n",
      "[CV] ..................................... max_depth=17, total= 4.3min\n",
      "[CV] max_depth=19 ....................................................\n",
      "[CV] ..................................... max_depth=17, total= 4.3min\n",
      "[CV] max_depth=19 ....................................................\n",
      "[CV] ..................................... max_depth=17, total= 4.2min\n",
      "[CV] ..................................... max_depth=19, total= 4.4min\n",
      "[CV] ..................................... max_depth=19, total= 4.2min\n",
      "[CV] ..................................... max_depth=19, total= 3.9min\n"
     ]
    },
    {
     "name": "stderr",
     "output_type": "stream",
     "text": [
      "[Parallel(n_jobs=4)]: Done  27 out of  27 | elapsed: 19.8min finished\n"
     ]
    },
    {
     "data": {
      "text/plain": [
       "GridSearchCV(cv=None, error_score='raise',\n",
       "       estimator=XGBClassifier(base_score=0.5, colsample_bylevel=1, colsample_bytree=0.8,\n",
       "       gamma=0, learning_rate=0.1, max_delta_step=0, max_depth=3,\n",
       "       min_child_weight=1, missing=None, n_estimators=100, nthread=4,\n",
       "       objective='binary:logistic', reg_alpha=0, reg_lambda=1,\n",
       "       scale_pos_weight=1, seed=27, silent=True, subsample=0.8),\n",
       "       fit_params={}, iid=True, n_jobs=4,\n",
       "       param_grid={'max_depth': [3, 5, 7, 9, 11, 13, 15, 17, 19]},\n",
       "       pre_dispatch='2*n_jobs', refit=True, return_train_score=True,\n",
       "       scoring='roc_auc', verbose=2)"
      ]
     },
     "execution_count": 40,
     "metadata": {},
     "output_type": "execute_result"
    }
   ],
   "source": [
    "#Grid seach on max depth\n",
    "param_test1 = {\n",
    "    'max_depth':range(3,20,2),\n",
    "}\n",
    "gsearch3 = GridSearchCV(estimator = XGBClassifier(learning_rate =0.1, n_estimators=100,\n",
    "                                        gamma=0, subsample=0.8, colsample_bytree=0.8,\n",
    "                                        objective= 'binary:logistic', nthread=4, scale_pos_weight=1, seed=27), \n",
    "                       param_grid = param_test1, scoring='roc_auc',n_jobs=4, verbose=2)\n",
    "gsearch3.fit(X_train, y_train)"
   ]
  },
  {
   "cell_type": "code",
   "execution_count": 41,
   "metadata": {
    "collapsed": false
   },
   "outputs": [
    {
     "name": "stdout",
     "output_type": "stream",
     "text": [
      "0.784 (+/-0.005) for {'max_depth': 3}\n",
      "0.788 (+/-0.004) for {'max_depth': 5}\n",
      "0.789 (+/-0.003) for {'max_depth': 7}\n",
      "0.789 (+/-0.005) for {'max_depth': 9}\n",
      "0.787 (+/-0.004) for {'max_depth': 11}\n",
      "0.786 (+/-0.007) for {'max_depth': 13}\n",
      "0.785 (+/-0.002) for {'max_depth': 15}\n",
      "0.786 (+/-0.005) for {'max_depth': 17}\n",
      "0.785 (+/-0.005) for {'max_depth': 19}\n",
      "{'max_depth': 7}\n",
      "0.789183067768\n"
     ]
    }
   ],
   "source": [
    "means = gsearch3.cv_results_['mean_test_score']\n",
    "stds = gsearch3.cv_results_['std_test_score']\n",
    "for mean, std, params in zip(means, stds, gsearch3.cv_results_['params']):\n",
    "    print(\"%0.3f (+/-%0.03f) for %r\"% (mean, std * 2, params))\n",
    "print gsearch3.best_params_\n",
    "print gsearch3.best_score_"
   ]
  },
  {
   "cell_type": "code",
   "execution_count": 43,
   "metadata": {
    "collapsed": false
   },
   "outputs": [
    {
     "data": {
      "image/png": "[encoded data removed]",
      "text/plain": [
       "<matplotlib.figure.Figure at 0x10c42e3d0>"
      ]
     },
     "metadata": {},
     "output_type": "display_data"
    }
   ],
   "source": [
    "xs = range(3,20,2)\n",
    "ys = gsearch3.cv_results_['mean_test_score']\n",
    "plt.plot(xs,ys)\n",
    "plt.title(\"Mean Test Score(ROC_AUC) vs Max Depth\")\n",
    "plt.ylabel(\"Mean ROC_AUC Score\")\n",
    "plt.xlabel(\"Max Depth\")\n",
    "plt.savefig(\"plots/xgb_depth.png\")"
   ]
  },
  {
   "cell_type": "code",
   "execution_count": 15,
   "metadata": {
    "collapsed": false
   },
   "outputs": [
    {
     "name": "stdout",
     "output_type": "stream",
     "text": [
      "Fitting 3 folds for each of 9 candidates, totalling 27 fits\n",
      "[CV] max_depth=3 .....................................................\n",
      "[CV] max_depth=3 .....................................................\n",
      "[CV] max_depth=3 .....................................................\n",
      "[CV] max_depth=5 .....................................................\n",
      "[CV] ...................................... max_depth=3, total=  36.0s\n",
      "[CV] max_depth=5 .....................................................\n",
      "[CV] ...................................... max_depth=3, total=  36.0s\n",
      "[CV] max_depth=5 .....................................................\n",
      "[CV] ...................................... max_depth=3, total=  36.1s\n",
      "[CV] max_depth=7 .....................................................\n",
      "[CV] ...................................... max_depth=5, total=  59.3s\n",
      "[CV] max_depth=7 .....................................................\n",
      "[CV] ...................................... max_depth=5, total=  60.0s\n",
      "[CV] max_depth=7 .....................................................\n",
      "[CV] ...................................... max_depth=5, total= 1.0min\n",
      "[CV] max_depth=9 .....................................................\n",
      "[CV] ...................................... max_depth=7, total= 1.4min\n",
      "[CV] max_depth=9 .....................................................\n",
      "[CV] ...................................... max_depth=7, total= 1.4min\n",
      "[CV] max_depth=9 .....................................................\n",
      "[CV] ...................................... max_depth=7, total= 1.4min\n",
      "[CV] max_depth=11 ....................................................\n",
      "[CV] ...................................... max_depth=9, total= 1.8min\n",
      "[CV] max_depth=11 ....................................................\n",
      "[CV] ...................................... max_depth=9, total= 1.8min\n",
      "[CV] max_depth=11 ....................................................\n",
      "[CV] ...................................... max_depth=9, total= 1.8min\n",
      "[CV] max_depth=13 ....................................................\n",
      "[CV] ..................................... max_depth=11, total= 2.3min\n",
      "[CV] max_depth=13 ....................................................\n",
      "[CV] ..................................... max_depth=11, total= 2.3min\n",
      "[CV] max_depth=13 ....................................................\n",
      "[CV] ..................................... max_depth=11, total= 2.3min\n",
      "[CV] max_depth=15 ....................................................\n",
      "[CV] ..................................... max_depth=13, total= 2.8min\n",
      "[CV] max_depth=15 ....................................................\n",
      "[CV] ..................................... max_depth=13, total= 2.8min\n",
      "[CV] max_depth=15 ....................................................\n",
      "[CV] ..................................... max_depth=13, total= 2.8min\n",
      "[CV] max_depth=17 ....................................................\n",
      "[CV] ..................................... max_depth=15, total= 3.2min\n",
      "[CV] max_depth=17 ....................................................\n",
      "[CV] ..................................... max_depth=15, total= 3.2min\n",
      "[CV] max_depth=17 ....................................................\n",
      "[CV] ..................................... max_depth=15, total= 3.2min\n",
      "[CV] max_depth=19 ....................................................\n",
      "[CV] ..................................... max_depth=17, total= 3.7min\n",
      "[CV] max_depth=19 ....................................................\n",
      "[CV] ..................................... max_depth=17, total= 3.7min\n",
      "[CV] max_depth=19 ....................................................\n",
      "[CV] ..................................... max_depth=17, total= 3.7min\n",
      "[CV] ..................................... max_depth=19, total= 4.0min\n",
      "[CV] ..................................... max_depth=19, total= 3.9min\n",
      "[CV] ..................................... max_depth=19, total= 3.8min\n"
     ]
    },
    {
     "name": "stderr",
     "output_type": "stream",
     "text": [
      "[Parallel(n_jobs=4)]: Done  27 out of  27 | elapsed: 17.0min finished\n"
     ]
    },
    {
     "data": {
      "text/plain": [
       "GridSearchCV(cv=None, error_score='raise',\n",
       "       estimator=XGBClassifier(base_score=0.5, colsample_bylevel=1, colsample_bytree=0.8,\n",
       "       gamma=0, learning_rate=0.1, max_delta_step=0, max_depth=3,\n",
       "       min_child_weight=1, missing=None, n_estimators=100, nthread=4,\n",
       "       objective='binary:logistic', reg_alpha=0, reg_lambda=1,\n",
       "       scale_pos_weight=1, seed=27, silent=True, subsample=0.8),\n",
       "       fit_params={}, iid=True, n_jobs=4,\n",
       "       param_grid={'max_depth': [3, 5, 7, 9, 11, 13, 15, 17, 19]},\n",
       "       pre_dispatch='2*n_jobs', refit=True, return_train_score=True,\n",
       "       scoring='accuracy', verbose=2)"
      ]
     },
     "execution_count": 15,
     "metadata": {},
     "output_type": "execute_result"
    }
   ],
   "source": [
    "#Grid seach on max depth\n",
    "param_test2 = {\n",
    "    'max_depth':range(3,20,2),\n",
    "}\n",
    "gsearch3 = GridSearchCV(estimator = XGBClassifier(learning_rate =0.1, n_estimators=100,\n",
    "                                        gamma=0, subsample=0.8, colsample_bytree=0.8,\n",
    "                                        objective= 'binary:logistic', nthread=4, scale_pos_weight=1, seed=27), \n",
    "                       param_grid = param_test2, scoring='accuracy',n_jobs=4, verbose=2)\n",
    "gsearch3.fit(X_train, y_train)"
   ]
  },
  {
   "cell_type": "code",
   "execution_count": 16,
   "metadata": {
    "collapsed": false
   },
   "outputs": [
    {
     "data": {
      "image/png": "[encoded data removed]",
      "text/plain": [
       "<matplotlib.figure.Figure at 0x107a2b090>"
      ]
     },
     "metadata": {},
     "output_type": "display_data"
    }
   ],
   "source": [
    "xs = range(3,20,2)\n",
    "ys = gsearch3.cv_results_['mean_test_score']\n",
    "plt.plot(xs,ys)\n",
    "plt.title(\"Mean Test Score(ACC) vs Max Depth\")\n",
    "plt.ylabel(\"Mean Accuracy Score\")\n",
    "plt.xlabel(\"Max Depth\")\n",
    "plt.savefig(\"plots/xgb_depth_2.png\")"
   ]
  },
  {
   "cell_type": "code",
   "execution_count": 44,
   "metadata": {
    "collapsed": false
   },
   "outputs": [
    {
     "name": "stdout",
     "output_type": "stream",
     "text": [
      "Fitting 3 folds for each of 16 candidates, totalling 48 fits\n",
      "[CV] subsample=0.6, colsample_bytree=0.6 .............................\n",
      "[CV] subsample=0.6, colsample_bytree=0.6 .............................\n",
      "[CV] subsample=0.6, colsample_bytree=0.6 .............................\n",
      "[CV] subsample=0.7, colsample_bytree=0.6 .............................\n",
      "[CV] .............. subsample=0.7, colsample_bytree=0.6, total= 1.5min\n",
      "[CV] subsample=0.7, colsample_bytree=0.6 .............................\n",
      "[CV] .............. subsample=0.6, colsample_bytree=0.6, total= 1.5min\n",
      "[CV] subsample=0.7, colsample_bytree=0.6 .............................\n",
      "[CV] .............. subsample=0.6, colsample_bytree=0.6, total= 1.5min\n",
      "[CV] subsample=0.8, colsample_bytree=0.6 .............................\n",
      "[CV] .............. subsample=0.6, colsample_bytree=0.6, total= 1.5min\n",
      "[CV] subsample=0.8, colsample_bytree=0.6 .............................\n",
      "[CV] .............. subsample=0.8, colsample_bytree=0.6, total= 1.3min\n",
      "[CV] subsample=0.8, colsample_bytree=0.6 .............................\n",
      "[CV] .............. subsample=0.7, colsample_bytree=0.6, total= 1.3min\n",
      "[CV] subsample=0.9, colsample_bytree=0.6 .............................\n",
      "[CV] .............. subsample=0.8, colsample_bytree=0.6, total= 1.3min\n",
      "[CV] subsample=0.9, colsample_bytree=0.6 .............................\n",
      "[CV] .............. subsample=0.7, colsample_bytree=0.6, total= 1.4min\n",
      "[CV] subsample=0.9, colsample_bytree=0.6 .............................\n",
      "[CV] .............. subsample=0.9, colsample_bytree=0.6, total= 1.4min\n",
      "[CV] subsample=0.6, colsample_bytree=0.7 .............................\n",
      "[CV] .............. subsample=0.9, colsample_bytree=0.6, total= 1.4min\n",
      "[CV] subsample=0.6, colsample_bytree=0.7 .............................\n",
      "[CV] .............. subsample=0.8, colsample_bytree=0.6, total= 1.4min\n",
      "[CV] subsample=0.6, colsample_bytree=0.7 .............................\n",
      "[CV] .............. subsample=0.9, colsample_bytree=0.6, total= 1.4min\n",
      "[CV] subsample=0.7, colsample_bytree=0.7 .............................\n",
      "[CV] .............. subsample=0.7, colsample_bytree=0.7, total= 1.6min\n",
      "[CV] subsample=0.7, colsample_bytree=0.7 .............................\n",
      "[CV] .............. subsample=0.6, colsample_bytree=0.7, total= 1.6min\n",
      "[CV] subsample=0.7, colsample_bytree=0.7 .............................\n",
      "[CV] .............. subsample=0.6, colsample_bytree=0.7, total= 1.6min\n",
      "[CV] subsample=0.8, colsample_bytree=0.7 .............................\n",
      "[CV] .............. subsample=0.6, colsample_bytree=0.7, total= 1.6min\n",
      "[CV] subsample=0.8, colsample_bytree=0.7 .............................\n",
      "[CV] .............. subsample=0.8, colsample_bytree=0.7, total= 1.6min\n",
      "[CV] subsample=0.8, colsample_bytree=0.7 .............................\n",
      "[CV] .............. subsample=0.8, colsample_bytree=0.7, total= 1.6min\n",
      "[CV] .............. subsample=0.7, colsample_bytree=0.7, total= 1.6min\n",
      "[CV] subsample=0.9, colsample_bytree=0.7 .............................\n",
      "[CV] subsample=0.9, colsample_bytree=0.7 .............................\n",
      "[CV] .............. subsample=0.7, colsample_bytree=0.7, total= 1.6min\n",
      "[CV] subsample=0.9, colsample_bytree=0.7 .............................\n",
      "[CV] .............. subsample=0.9, colsample_bytree=0.7, total= 1.5min\n",
      "[CV] subsample=0.6, colsample_bytree=0.8 .............................\n",
      "[CV] .............. subsample=0.9, colsample_bytree=0.7, total= 1.5min\n",
      "[CV] subsample=0.6, colsample_bytree=0.8 .............................\n",
      "[CV] .............. subsample=0.9, colsample_bytree=0.7, total= 1.5min\n",
      "[CV] .............. subsample=0.8, colsample_bytree=0.7, total= 1.5min\n",
      "[CV] subsample=0.6, colsample_bytree=0.8 .............................\n",
      "[CV] subsample=0.7, colsample_bytree=0.8 .............................\n",
      "[CV] .............. subsample=0.7, colsample_bytree=0.8, total= 1.6min\n",
      "[CV] subsample=0.7, colsample_bytree=0.8 .............................\n",
      "[CV] .............. subsample=0.6, colsample_bytree=0.8, total= 1.7min\n",
      "[CV] .............. subsample=0.6, colsample_bytree=0.8, total= 1.7min\n",
      "[CV] subsample=0.7, colsample_bytree=0.8 .............................\n",
      "[CV] subsample=0.8, colsample_bytree=0.8 .............................\n",
      "[CV] .............. subsample=0.6, colsample_bytree=0.8, total= 1.7min\n",
      "[CV] subsample=0.8, colsample_bytree=0.8 .............................\n",
      "[CV] .............. subsample=0.7, colsample_bytree=0.8, total= 1.8min\n",
      "[CV] subsample=0.8, colsample_bytree=0.8 .............................\n",
      "[CV] .............. subsample=0.8, colsample_bytree=0.8, total= 1.7min\n",
      "[CV] subsample=0.9, colsample_bytree=0.8 .............................\n",
      "[CV] .............. subsample=0.8, colsample_bytree=0.8, total= 1.7min\n",
      "[CV] subsample=0.9, colsample_bytree=0.8 .............................\n",
      "[CV] .............. subsample=0.7, colsample_bytree=0.8, total= 1.8min\n",
      "[CV] subsample=0.9, colsample_bytree=0.8 .............................\n",
      "[CV] .............. subsample=0.9, colsample_bytree=0.8, total= 1.7min\n",
      "[CV] subsample=0.6, colsample_bytree=0.9 .............................\n"
     ]
    },
    {
     "name": "stderr",
     "output_type": "stream",
     "text": [
      "[Parallel(n_jobs=4)]: Done  33 tasks      | elapsed: 14.2min\n"
     ]
    },
    {
     "name": "stdout",
     "output_type": "stream",
     "text": [
      "[CV] .............. subsample=0.9, colsample_bytree=0.8, total= 1.7min\n",
      "[CV] subsample=0.6, colsample_bytree=0.9 .............................\n",
      "[CV] .............. subsample=0.8, colsample_bytree=0.8, total= 1.7min\n",
      "[CV] subsample=0.6, colsample_bytree=0.9 .............................\n",
      "[CV] .............. subsample=0.9, colsample_bytree=0.8, total= 1.7min\n",
      "[CV] subsample=0.7, colsample_bytree=0.9 .............................\n",
      "[CV] .............. subsample=0.7, colsample_bytree=0.9, total= 1.8min\n",
      "[CV] subsample=0.7, colsample_bytree=0.9 .............................\n",
      "[CV] .............. subsample=0.6, colsample_bytree=0.9, total= 1.9min\n",
      "[CV] subsample=0.7, colsample_bytree=0.9 .............................\n",
      "[CV] .............. subsample=0.6, colsample_bytree=0.9, total= 1.9min\n",
      "[CV] subsample=0.8, colsample_bytree=0.9 .............................\n",
      "[CV] .............. subsample=0.6, colsample_bytree=0.9, total= 1.9min\n",
      "[CV] subsample=0.8, colsample_bytree=0.9 .............................\n",
      "[CV] .............. subsample=0.8, colsample_bytree=0.9, total= 1.8min\n",
      "[CV] subsample=0.8, colsample_bytree=0.9 .............................\n",
      "[CV] .............. subsample=0.7, colsample_bytree=0.9, total= 1.8min\n",
      "[CV] subsample=0.9, colsample_bytree=0.9 .............................\n",
      "[CV] .............. subsample=0.8, colsample_bytree=0.9, total= 1.8min\n",
      "[CV] subsample=0.9, colsample_bytree=0.9 .............................\n",
      "[CV] .............. subsample=0.7, colsample_bytree=0.9, total= 1.8min\n",
      "[CV] subsample=0.9, colsample_bytree=0.9 .............................\n",
      "[CV] .............. subsample=0.9, colsample_bytree=0.9, total= 1.7min\n",
      "[CV] .............. subsample=0.9, colsample_bytree=0.9, total= 1.7min\n",
      "[CV] .............. subsample=0.9, colsample_bytree=0.9, total= 1.7min\n",
      "[CV] .............. subsample=0.8, colsample_bytree=0.9, total= 1.8min\n"
     ]
    },
    {
     "name": "stderr",
     "output_type": "stream",
     "text": [
      "[Parallel(n_jobs=4)]: Done  48 out of  48 | elapsed: 19.7min finished\n"
     ]
    },
    {
     "data": {
      "text/plain": [
       "GridSearchCV(cv=None, error_score='raise',\n",
       "       estimator=XGBClassifier(base_score=0.5, colsample_bylevel=1, colsample_bytree=1,\n",
       "       gamma=0, learning_rate=0.1, max_delta_step=0, max_depth=7,\n",
       "       min_child_weight=1, missing=None, n_estimators=100, nthread=4,\n",
       "       objective='binary:logistic', reg_alpha=0, reg_lambda=1,\n",
       "       scale_pos_weight=1, seed=27, silent=True, subsample=1),\n",
       "       fit_params={}, iid=False, n_jobs=4,\n",
       "       param_grid={'subsample': [0.6, 0.7, 0.8, 0.9], 'colsample_bytree': [0.6, 0.7, 0.8, 0.9]},\n",
       "       pre_dispatch='2*n_jobs', refit=True, return_train_score=True,\n",
       "       scoring='roc_auc', verbose=2)"
      ]
     },
     "execution_count": 44,
     "metadata": {},
     "output_type": "execute_result"
    }
   ],
   "source": [
    "#Grid seach on subsample and max_features\n",
    "#Choose all predictors except target & IDcols\n",
    "param_test1 = {\n",
    "    'subsample':[i/10.0 for i in range(6,10)],\n",
    "    'colsample_bytree':[i/10.0 for i in range(6,10)]\n",
    "}\n",
    "gsearch4 = GridSearchCV(estimator = XGBClassifier(learning_rate=0.1, n_estimators=100, max_depth=7,\n",
    "                                        gamma=0, objective= 'binary:logistic', nthread=4, \n",
    "                                        scale_pos_weight=1,seed=27), \n",
    "                       param_grid=param_test1, scoring='roc_auc',n_jobs=4,iid=False, verbose = 2)\n",
    "\n",
    "gsearch4.fit(X_train, y_train)"
   ]
  },
  {
   "cell_type": "code",
   "execution_count": 45,
   "metadata": {
    "collapsed": false
   },
   "outputs": [
    {
     "name": "stdout",
     "output_type": "stream",
     "text": [
      "0.788 (+/-0.003) for {'subsample': 0.6, 'colsample_bytree': 0.6}\n",
      "0.788 (+/-0.007) for {'subsample': 0.7, 'colsample_bytree': 0.6}\n",
      "0.789 (+/-0.004) for {'subsample': 0.8, 'colsample_bytree': 0.6}\n",
      "0.789 (+/-0.004) for {'subsample': 0.9, 'colsample_bytree': 0.6}\n",
      "0.787 (+/-0.004) for {'subsample': 0.6, 'colsample_bytree': 0.7}\n",
      "0.788 (+/-0.004) for {'subsample': 0.7, 'colsample_bytree': 0.7}\n",
      "0.789 (+/-0.004) for {'subsample': 0.8, 'colsample_bytree': 0.7}\n",
      "0.789 (+/-0.004) for {'subsample': 0.9, 'colsample_bytree': 0.7}\n",
      "0.787 (+/-0.007) for {'subsample': 0.6, 'colsample_bytree': 0.8}\n",
      "0.788 (+/-0.005) for {'subsample': 0.7, 'colsample_bytree': 0.8}\n",
      "0.789 (+/-0.003) for {'subsample': 0.8, 'colsample_bytree': 0.8}\n",
      "0.788 (+/-0.005) for {'subsample': 0.9, 'colsample_bytree': 0.8}\n",
      "0.787 (+/-0.005) for {'subsample': 0.6, 'colsample_bytree': 0.9}\n",
      "0.789 (+/-0.005) for {'subsample': 0.7, 'colsample_bytree': 0.9}\n",
      "0.789 (+/-0.004) for {'subsample': 0.8, 'colsample_bytree': 0.9}\n",
      "0.788 (+/-0.005) for {'subsample': 0.9, 'colsample_bytree': 0.9}\n",
      "{'subsample': 0.9, 'colsample_bytree': 0.6}\n",
      "0.789481224286\n"
     ]
    }
   ],
   "source": [
    "means = gsearch4.cv_results_['mean_test_score']\n",
    "stds = gsearch4.cv_results_['std_test_score']\n",
    "for mean, std, params in zip(means, stds, gsearch4.cv_results_['params']):\n",
    "    print(\"%0.3f (+/-%0.03f) for %r\"% (mean, std * 2, params))\n",
    "print gsearch4.best_params_\n",
    "print gsearch4.best_score_"
   ]
  },
  {
   "cell_type": "code",
   "execution_count": 17,
   "metadata": {
    "collapsed": false
   },
   "outputs": [
    {
     "name": "stdout",
     "output_type": "stream",
     "text": [
      "Fitting 3 folds for each of 5 candidates, totalling 15 fits\n",
      "[CV] reg_alpha=1e-05 .................................................\n",
      "[CV] reg_alpha=1e-05 .................................................\n",
      "[CV] reg_alpha=1e-05 .................................................\n",
      "[CV] reg_alpha=0.01 ..................................................\n",
      "[CV] .................................. reg_alpha=1e-05, total= 1.1min\n",
      "[CV] reg_alpha=0.01 ..................................................\n",
      "[CV] .................................. reg_alpha=1e-05, total= 1.1min\n",
      "[CV] reg_alpha=0.01 ..................................................\n",
      "[CV] .................................. reg_alpha=1e-05, total= 1.1min\n",
      "[CV] ................................... reg_alpha=0.01, total= 1.1min\n",
      "[CV] reg_alpha=0.1 ...................................................\n",
      "[CV] reg_alpha=0.1 ...................................................\n",
      "[CV] ................................... reg_alpha=0.01, total= 1.1min\n",
      "[CV] reg_alpha=0.1 ...................................................\n",
      "[CV] ................................... reg_alpha=0.01, total= 1.1min\n",
      "[CV] reg_alpha=1 .....................................................\n",
      "[CV] .................................... reg_alpha=0.1, total= 1.1min\n",
      "[CV] reg_alpha=1 .....................................................\n",
      "[CV] .................................... reg_alpha=0.1, total= 1.1min\n",
      "[CV] reg_alpha=1 .....................................................\n",
      "[CV] .................................... reg_alpha=0.1, total= 1.1min\n",
      "[CV] reg_alpha=100 ...................................................\n",
      "[CV] ...................................... reg_alpha=1, total= 1.1min\n",
      "[CV] reg_alpha=100 ...................................................\n",
      "[CV] ...................................... reg_alpha=1, total= 1.1min\n",
      "[CV] reg_alpha=100 ...................................................\n",
      "[CV] ...................................... reg_alpha=1, total= 1.1min\n",
      "[CV] .................................... reg_alpha=100, total=  57.9s\n",
      "[CV] .................................... reg_alpha=100, total=  57.9s\n",
      "[CV] .................................... reg_alpha=100, total=  58.2s\n"
     ]
    },
    {
     "name": "stderr",
     "output_type": "stream",
     "text": [
      "[Parallel(n_jobs=4)]: Done  15 out of  15 | elapsed:  4.3min finished\n"
     ]
    },
    {
     "data": {
      "text/plain": [
       "GridSearchCV(cv=None, error_score='raise',\n",
       "       estimator=XGBClassifier(base_score=0.5, colsample_bylevel=1, colsample_bytree=0.6,\n",
       "       gamma=0, learning_rate=0.1, max_delta_step=0, max_depth=7,\n",
       "       min_child_weight=1, missing=None, n_estimators=100, nthread=4,\n",
       "       objective='binary:logistic', reg_alpha=0, reg_lambda=1,\n",
       "       scale_pos_weight=1, seed=27, silent=True, subsample=0.9),\n",
       "       fit_params={}, iid=False, n_jobs=4,\n",
       "       param_grid={'reg_alpha': [1e-05, 0.01, 0.1, 1, 100]},\n",
       "       pre_dispatch='2*n_jobs', refit=True, return_train_score=True,\n",
       "       scoring='roc_auc', verbose=2)"
      ]
     },
     "execution_count": 17,
     "metadata": {},
     "output_type": "execute_result"
    }
   ],
   "source": [
    "param_test3 = {\n",
    "    'reg_alpha':[1e-5, 1e-2, 0.1, 1, 100]\n",
    "}\n",
    "gsearch5 = GridSearchCV(estimator = XGBClassifier( learning_rate =0.1, n_estimators=100, max_depth=7,\n",
    "                                        subsample=0.9, colsample_bytree=0.6,\n",
    "                                        objective= 'binary:logistic', nthread=4, scale_pos_weight=1,seed=27), \n",
    "                       param_grid = param_test3, scoring='roc_auc',n_jobs=4,iid=False, verbose=2)\n",
    "gsearch5.fit(X_train, y_train)"
   ]
  },
  {
   "cell_type": "code",
   "execution_count": 19,
   "metadata": {
    "collapsed": false
   },
   "outputs": [
    {
     "data": {
      "image/png": "[encoded data removed]",
      "text/plain": [
       "<matplotlib.figure.Figure at 0x10957ef10>"
      ]
     },
     "metadata": {},
     "output_type": "display_data"
    }
   ],
   "source": [
    "xs = [1e-5, 1e-2, 0.1, 1, 100]\n",
    "ys = gsearch5.cv_results_['mean_test_score']\n",
    "plt.semilogx(xs,ys)\n",
    "plt.title(\"Mean Test Score(ROC_AUC) vs Max Depth\")\n",
    "plt.ylabel(\"Mean ROC_AUC Score\")\n",
    "plt.xlabel(\"Reg_alpha\")\n",
    "plt.savefig(\"plots/xgb_alpha.png\")"
   ]
  },
  {
   "cell_type": "code",
   "execution_count": 20,
   "metadata": {
    "collapsed": false
   },
   "outputs": [
    {
     "name": "stdout",
     "output_type": "stream",
     "text": [
      "Fitting 3 folds for each of 5 candidates, totalling 15 fits\n",
      "[CV] reg_alpha=0.1 ...................................................\n",
      "[CV] reg_alpha=0.1 ...................................................\n",
      "[CV] reg_alpha=0.1 ...................................................\n",
      "[CV] reg_alpha=0.5 ...................................................\n",
      "[CV] .................................... reg_alpha=0.1, total= 1.1min\n",
      "[CV] reg_alpha=0.5 ...................................................\n",
      "[CV] .................................... reg_alpha=0.1, total= 1.1min\n",
      "[CV] reg_alpha=0.5 ...................................................\n",
      "[CV] .................................... reg_alpha=0.1, total= 1.1min\n",
      "[CV] reg_alpha=1 .....................................................\n",
      "[CV] .................................... reg_alpha=0.5, total= 1.1min\n",
      "[CV] reg_alpha=1 .....................................................\n",
      "[CV] .................................... reg_alpha=0.5, total= 1.1min\n",
      "[CV] reg_alpha=1 .....................................................\n",
      "[CV] .................................... reg_alpha=0.5, total= 1.1min\n",
      "[CV] reg_alpha=5 .....................................................\n",
      "[CV] ...................................... reg_alpha=1, total= 1.1min\n",
      "[CV] reg_alpha=5 .....................................................\n",
      "[CV] ...................................... reg_alpha=1, total= 1.1min\n",
      "[CV] reg_alpha=5 .....................................................\n",
      "[CV] ...................................... reg_alpha=1, total= 1.1min\n",
      "[CV] reg_alpha=25 ....................................................\n",
      "[CV] ...................................... reg_alpha=5, total= 1.1min\n",
      "[CV] reg_alpha=25 ....................................................\n",
      "[CV] ...................................... reg_alpha=5, total= 1.1min\n",
      "[CV] reg_alpha=25 ....................................................\n",
      "[CV] ...................................... reg_alpha=5, total= 1.1min\n",
      "[CV] ..................................... reg_alpha=25, total=  59.8s\n",
      "[CV] ..................................... reg_alpha=25, total=  59.7s\n",
      "[CV] ..................................... reg_alpha=25, total=  60.0s\n"
     ]
    },
    {
     "name": "stderr",
     "output_type": "stream",
     "text": [
      "[Parallel(n_jobs=4)]: Done  15 out of  15 | elapsed:  4.3min finished\n"
     ]
    },
    {
     "data": {
      "text/plain": [
       "GridSearchCV(cv=None, error_score='raise',\n",
       "       estimator=XGBClassifier(base_score=0.5, colsample_bylevel=1, colsample_bytree=0.6,\n",
       "       gamma=0, learning_rate=0.1, max_delta_step=0, max_depth=7,\n",
       "       min_child_weight=1, missing=None, n_estimators=100, nthread=4,\n",
       "       objective='binary:logistic', reg_alpha=0, reg_lambda=1,\n",
       "       scale_pos_weight=1, seed=27, silent=True, subsample=0.9),\n",
       "       fit_params={}, iid=False, n_jobs=4,\n",
       "       param_grid={'reg_alpha': [0.1, 0.5, 1, 5, 25]},\n",
       "       pre_dispatch='2*n_jobs', refit=True, return_train_score=True,\n",
       "       scoring='roc_auc', verbose=2)"
      ]
     },
     "execution_count": 20,
     "metadata": {},
     "output_type": "execute_result"
    }
   ],
   "source": [
    "param_test4 = {\n",
    "    'reg_alpha':[0.1, 0.5, 1, 5, 25]\n",
    "}\n",
    "gsearch6 = GridSearchCV(estimator = XGBClassifier( learning_rate =0.1, n_estimators=100, max_depth=7,\n",
    "                                        subsample=0.9, colsample_bytree=0.6,\n",
    "                                        objective= 'binary:logistic', nthread=4, scale_pos_weight=1,seed=27), \n",
    "                       param_grid = param_test4, scoring='roc_auc',n_jobs=4,iid=False, verbose=2)\n",
    "gsearch6.fit(X_train, y_train)"
   ]
  },
  {
   "cell_type": "code",
   "execution_count": 23,
   "metadata": {
    "collapsed": false
   },
   "outputs": [
    {
     "data": {
      "image/png": "[encoded data removed]",
      "text/plain": [
       "<matplotlib.figure.Figure at 0x109fb1810>"
      ]
     },
     "metadata": {},
     "output_type": "display_data"
    }
   ],
   "source": [
    "xs = [0.1, 0.5, 1, 5, 25]\n",
    "ys = gsearch6.cv_results_['mean_test_score']\n",
    "plt.semilogx(xs,ys)\n",
    "plt.title(\"Mean Test Score(ROC_AUC) vs Max Depth\")\n",
    "plt.ylabel(\"Mean ROC_AUC Score\")\n",
    "plt.xlabel(\"Reg_alpha\")\n",
    "plt.savefig(\"plots/xgb_alpha_2.png\")"
   ]
  },
  {
   "cell_type": "code",
   "execution_count": 59,
   "metadata": {
    "collapsed": true
   },
   "outputs": [],
   "source": [
    "from sklearn.model_selection import train_test_split"
   ]
  },
  {
   "cell_type": "code",
   "execution_count": 68,
   "metadata": {
    "collapsed": true
   },
   "outputs": [],
   "source": [
    "X_train, X_val, y_train, y_val = train_test_split(X_train, y_train, test_size=0.33)"
   ]
  },
  {
   "cell_type": "code",
   "execution_count": 69,
   "metadata": {
    "collapsed": false
   },
   "outputs": [
    {
     "data": {
      "text/plain": [
       "((43326, 366), (43326,))"
      ]
     },
     "execution_count": 69,
     "metadata": {},
     "output_type": "execute_result"
    }
   ],
   "source": [
    "X_train.shape, y_train.shape"
   ]
  },
  {
   "cell_type": "code",
   "execution_count": 77,
   "metadata": {
    "collapsed": false
   },
   "outputs": [
    {
     "name": "stdout",
     "output_type": "stream",
     "text": [
      "Model Report\n",
      "Accuracy (Train): 0.789664\n",
      "AUC Score (Train): 0.621708\n",
      "\n",
      "Accuracy (Test): 0.776159\n",
      "AUC Score (Test): 0.605098\n"
     ]
    }
   ],
   "source": [
    "xgb = XGBClassifier(base_score=0.5, colsample_bylevel=1, colsample_bytree=0.6,\n",
    "       gamma=0, learning_rate=0.01, max_delta_step=0, max_depth=7,\n",
    "       min_child_weight=1, missing=None, n_estimators=100, nthread=4,\n",
    "       objective='binary:logistic', reg_alpha=5, reg_lambda=1,\n",
    "       scale_pos_weight=1, seed=27, silent=False, subsample=0.9)\n",
    "evaluate_model(xgb, X_train, y_train, X_val, y_val)"
   ]
  },
  {
   "cell_type": "code",
   "execution_count": 78,
   "metadata": {
    "collapsed": false
   },
   "outputs": [
    {
     "name": "stdout",
     "output_type": "stream",
     "text": [
      "Model Report\n",
      "Accuracy (Train): 0.829317\n",
      "AUC Score (Train): 0.706985\n",
      "\n",
      "Accuracy (Test): 0.785905\n",
      "AUC Score (Test): 0.647474\n"
     ]
    }
   ],
   "source": [
    "xgb = XGBClassifier(base_score=0.5, colsample_bylevel=1, colsample_bytree=0.6,\n",
    "       gamma=0, learning_rate=0.01, max_delta_step=0, max_depth=7,\n",
    "       min_child_weight=1, missing=None, n_estimators=1000, nthread=4,\n",
    "       objective='binary:logistic', reg_alpha=5, reg_lambda=1,\n",
    "       scale_pos_weight=1, seed=27, silent=False, subsample=0.9)\n",
    "evaluate_model(xgb, X_train, y_train, X_val, y_val)"
   ]
  },
  {
   "cell_type": "code",
   "execution_count": 81,
   "metadata": {
    "collapsed": false
   },
   "outputs": [
    {
     "name": "stdout",
     "output_type": "stream",
     "text": [
      "Model Report\n",
      "Accuracy (Train): 0.921064\n",
      "AUC Score (Train): 0.858074\n",
      "\n",
      "Accuracy (Test): 0.785483\n",
      "AUC Score (Test): 0.656715\n"
     ]
    }
   ],
   "source": [
    "xgb = XGBClassifier(base_score=0.5, colsample_bylevel=1, colsample_bytree=0.6,\n",
    "       gamma=0, learning_rate=0.01, max_delta_step=0, max_depth=7,\n",
    "       min_child_weight=1, missing=None, n_estimators=5000, nthread=4,\n",
    "       objective='binary:logistic', reg_alpha=5, reg_lambda=1,\n",
    "       scale_pos_weight=1, seed=27, silent=False, subsample=0.9)\n",
    "evaluate_model(xgb, X_train, y_train, X_val, y_val)"
   ]
  },
  {
   "cell_type": "markdown",
   "metadata": {},
   "source": [
    "Model probably overfiting with 5000 estimators, trying other regularization parameters"
   ]
  },
  {
   "cell_type": "code",
   "execution_count": 94,
   "metadata": {
    "collapsed": false
   },
   "outputs": [
    {
     "name": "stdout",
     "output_type": "stream",
     "text": [
      "Fitting 3 folds for each of 12 candidates, totalling 36 fits\n",
      "[CV] max_depth=3, min_child_weight=1 .................................\n",
      "[CV] max_depth=3, min_child_weight=1 .................................\n",
      "[CV] max_depth=3, min_child_weight=1 .................................\n",
      "[CV] max_depth=3, min_child_weight=3 .................................\n",
      "[CV] .................. max_depth=3, min_child_weight=1, total=  30.7s\n",
      "[CV] max_depth=3, min_child_weight=3 .................................\n",
      "[CV] .................. max_depth=3, min_child_weight=1, total=  31.4s\n",
      "[CV] max_depth=3, min_child_weight=3 .................................\n",
      "[CV] .................. max_depth=3, min_child_weight=3, total=  31.6s\n",
      "[CV] .................. max_depth=3, min_child_weight=1, total=  31.9s\n",
      "[CV] max_depth=3, min_child_weight=5 .................................\n",
      "[CV] max_depth=3, min_child_weight=5 .................................\n",
      "[CV] .................. max_depth=3, min_child_weight=3, total=  34.5s\n",
      "[CV] max_depth=3, min_child_weight=5 .................................\n",
      "[CV] .................. max_depth=3, min_child_weight=3, total=  34.1s\n",
      "[CV] max_depth=5, min_child_weight=1 .................................\n",
      "[CV] .................. max_depth=3, min_child_weight=5, total=  33.8s\n",
      "[CV] max_depth=5, min_child_weight=1 .................................\n",
      "[CV] .................. max_depth=3, min_child_weight=5, total=  33.9s\n",
      "[CV] max_depth=5, min_child_weight=1 .................................\n",
      "[CV] .................. max_depth=3, min_child_weight=5, total=  25.5s\n",
      "[CV] max_depth=5, min_child_weight=3 .................................\n",
      "[CV] .................. max_depth=5, min_child_weight=1, total=  40.7s\n",
      "[CV] max_depth=5, min_child_weight=3 .................................\n",
      "[CV] .................. max_depth=5, min_child_weight=1, total=  40.6s\n",
      "[CV] max_depth=5, min_child_weight=3 .................................\n",
      "[CV] .................. max_depth=5, min_child_weight=1, total=  40.8s\n",
      "[CV] max_depth=5, min_child_weight=5 .................................\n",
      "[CV] .................. max_depth=5, min_child_weight=3, total=  40.7s\n",
      "[CV] max_depth=5, min_child_weight=5 .................................\n",
      "[CV] .................. max_depth=5, min_child_weight=3, total=  39.3s\n",
      "[CV] max_depth=5, min_child_weight=5 .................................\n",
      "[CV] .................. max_depth=5, min_child_weight=3, total=  39.2s\n",
      "[CV] max_depth=7, min_child_weight=1 .................................\n",
      "[CV] .................. max_depth=5, min_child_weight=5, total=  39.3s\n",
      "[CV] max_depth=7, min_child_weight=1 .................................\n",
      "[CV] .................. max_depth=5, min_child_weight=5, total=  37.8s\n",
      "[CV] max_depth=7, min_child_weight=1 .................................\n",
      "[CV] .................. max_depth=5, min_child_weight=5, total=  38.8s\n",
      "[CV] max_depth=7, min_child_weight=3 .................................\n",
      "[CV] .................. max_depth=7, min_child_weight=1, total=  54.0s\n",
      "[CV] max_depth=7, min_child_weight=3 .................................\n",
      "[CV] .................. max_depth=7, min_child_weight=1, total=  54.0s\n",
      "[CV] max_depth=7, min_child_weight=3 .................................\n",
      "[CV] .................. max_depth=7, min_child_weight=1, total=  56.2s\n",
      "[CV] max_depth=7, min_child_weight=5 .................................\n",
      "[CV] .................. max_depth=7, min_child_weight=3, total=  56.1s\n",
      "[CV] max_depth=7, min_child_weight=5 .................................\n",
      "[CV] .................. max_depth=7, min_child_weight=3, total=  56.9s\n",
      "[CV] max_depth=7, min_child_weight=5 .................................\n",
      "[CV] .................. max_depth=7, min_child_weight=3, total=  57.2s\n",
      "[CV] max_depth=9, min_child_weight=1 .................................\n",
      "[CV] .................. max_depth=7, min_child_weight=5, total=  57.2s\n",
      "[CV] max_depth=9, min_child_weight=1 .................................\n",
      "[CV] .................. max_depth=7, min_child_weight=5, total=  56.8s\n",
      "[CV] max_depth=9, min_child_weight=1 .................................\n",
      "[CV] .................. max_depth=7, min_child_weight=5, total=  55.9s\n",
      "[CV] max_depth=9, min_child_weight=3 .................................\n",
      "[CV] .................. max_depth=9, min_child_weight=1, total= 1.2min\n",
      "[CV] max_depth=9, min_child_weight=3 .................................\n",
      "[CV] .................. max_depth=9, min_child_weight=1, total= 1.2min\n",
      "[CV] max_depth=9, min_child_weight=3 .................................\n",
      "[CV] .................. max_depth=9, min_child_weight=1, total= 1.2min\n",
      "[CV] max_depth=9, min_child_weight=5 .................................\n",
      "[CV] .................. max_depth=9, min_child_weight=3, total= 1.2min\n",
      "[CV] max_depth=9, min_child_weight=5 .................................\n",
      "[CV] .................. max_depth=9, min_child_weight=3, total= 1.2min\n",
      "[CV] max_depth=9, min_child_weight=5 .................................\n",
      "[CV] .................. max_depth=9, min_child_weight=3, total= 1.2min\n",
      "[CV] .................. max_depth=9, min_child_weight=5, total= 1.1min\n",
      "[CV] .................. max_depth=9, min_child_weight=5, total= 1.1min\n",
      "[CV] .................. max_depth=9, min_child_weight=5, total= 1.1min\n"
     ]
    },
    {
     "name": "stderr",
     "output_type": "stream",
     "text": [
      "[Parallel(n_jobs=4)]: Done  36 out of  36 | elapsed:  7.9min finished\n"
     ]
    },
    {
     "data": {
      "text/plain": [
       "GridSearchCV(cv=None, error_score='raise',\n",
       "       estimator=XGBClassifier(base_score=0.5, colsample_bylevel=1, colsample_bytree=0.5,\n",
       "       gamma=0, learning_rate=0.1, max_delta_step=0, max_depth=3,\n",
       "       min_child_weight=1, missing=None, n_estimators=100, nthread=1,\n",
       "       objective='binary:logistic', reg_alpha=5, reg_lambda=1,\n",
       "       scale_pos_weight=1, seed=27, silent=True, subsample=0.9),\n",
       "       fit_params={}, iid=False, n_jobs=4,\n",
       "       param_grid={'max_depth': [3, 5, 7, 9], 'min_child_weight': [1, 3, 5]},\n",
       "       pre_dispatch='2*n_jobs', refit=True, return_train_score=True,\n",
       "       scoring='roc_auc', verbose=2)"
      ]
     },
     "execution_count": 94,
     "metadata": {},
     "output_type": "execute_result"
    }
   ],
   "source": [
    "param_test1 = {\n",
    "    'max_depth':range(3,10,2),\n",
    "    'min_child_weight':range(1,6,2)\n",
    "}\n",
    "gsearch6 = GridSearchCV(estimator = XGBClassifier(learning_rate=0.1, n_estimators=100, gamma=0, \n",
    "                                                  subsample=0.9, reg_alpha = 5, colsample_bytree=0.5,\n",
    "                                                  objective= 'binary:logistic', nthread=1, scale_pos_weight=1,\n",
    "                                                  seed=27), \n",
    "                       param_grid = param_test1, scoring='roc_auc',n_jobs=4,iid=False, verbose=2)\n",
    "gsearch6.fit(X_train,y_train)"
   ]
  },
  {
   "cell_type": "code",
   "execution_count": 95,
   "metadata": {
    "collapsed": false
   },
   "outputs": [
    {
     "name": "stdout",
     "output_type": "stream",
     "text": [
      "0.783 (+/-0.005) for {'max_depth': 3, 'min_child_weight': 1}\n",
      "0.783 (+/-0.005) for {'max_depth': 3, 'min_child_weight': 3}\n",
      "0.783 (+/-0.005) for {'max_depth': 3, 'min_child_weight': 5}\n",
      "0.789 (+/-0.006) for {'max_depth': 5, 'min_child_weight': 1}\n",
      "0.789 (+/-0.006) for {'max_depth': 5, 'min_child_weight': 3}\n",
      "0.789 (+/-0.006) for {'max_depth': 5, 'min_child_weight': 5}\n",
      "0.791 (+/-0.006) for {'max_depth': 7, 'min_child_weight': 1}\n",
      "0.791 (+/-0.006) for {'max_depth': 7, 'min_child_weight': 3}\n",
      "0.791 (+/-0.006) for {'max_depth': 7, 'min_child_weight': 5}\n",
      "0.790 (+/-0.005) for {'max_depth': 9, 'min_child_weight': 1}\n",
      "0.791 (+/-0.006) for {'max_depth': 9, 'min_child_weight': 3}\n",
      "0.791 (+/-0.005) for {'max_depth': 9, 'min_child_weight': 5}\n",
      "{'max_depth': 9, 'min_child_weight': 3}\n",
      "0.791025045166\n"
     ]
    }
   ],
   "source": [
    "means = gsearch6.cv_results_['mean_test_score']\n",
    "stds = gsearch6.cv_results_['std_test_score']\n",
    "for mean, std, params in zip(means, stds, gsearch6.cv_results_['params']):\n",
    "    print(\"%0.3f (+/-%0.03f) for %r\"% (mean, std * 2, params))\n",
    "print gsearch6.best_params_\n",
    "print gsearch6.best_score_"
   ]
  },
  {
   "cell_type": "code",
   "execution_count": null,
   "metadata": {
    "collapsed": true
   },
   "outputs": [],
   "source": []
  }
 ],
 "metadata": {
  "kernelspec": {
   "display_name": "Python 2",
   "language": "python",
   "name": "python2"
  },
  "language_info": {
   "codemirror_mode": {
    "name": "ipython",
    "version": 2
   },
   "file_extension": ".py",
   "mimetype": "text/x-python",
   "name": "python",
   "nbconvert_exporter": "python",
   "pygments_lexer": "ipython2",
   "version": "2.7.11"
  }
 },
 "nbformat": 4,
 "nbformat_minor": 1
}
