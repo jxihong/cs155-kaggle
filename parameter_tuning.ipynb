{
 "cells": [
  {
   "cell_type": "markdown",
   "metadata": {},
   "source": [
    "# Parameter Tuning for Random Forest"
   ]
  },
  {
   "cell_type": "code",
   "execution_count": 28,
   "metadata": {
    "collapsed": false
   },
   "outputs": [],
   "source": [
    "import numpy as np\n",
    "from sklearn.ensemble import RandomForestClassifier\n",
    "from sklearn.model_selection import GridSearchCV"
   ]
  },
  {
   "cell_type": "code",
   "execution_count": 3,
   "metadata": {
    "collapsed": true
   },
   "outputs": [],
   "source": [
    "from sklearn import metrics\n",
    "from sklearn.model_selection import KFold"
   ]
  },
  {
   "cell_type": "code",
   "execution_count": 29,
   "metadata": {
    "collapsed": false
   },
   "outputs": [],
   "source": [
    "import matplotlib.pylab as plt\n",
    "%matplotlib inline"
   ]
  },
  {
   "cell_type": "code",
   "execution_count": 30,
   "metadata": {
    "collapsed": true
   },
   "outputs": [],
   "source": [
    "from data_utils import load_train, load_test, write_test"
   ]
  },
  {
   "cell_type": "code",
   "execution_count": 91,
   "metadata": {
    "collapsed": true
   },
   "outputs": [],
   "source": [
    "X_train, y_train = load_train('data/train_2008.csv')"
   ]
  },
  {
   "cell_type": "code",
   "execution_count": 84,
   "metadata": {
    "collapsed": false
   },
   "outputs": [
    {
     "data": {
      "text/plain": [
       "((64667, 366), (64667,))"
      ]
     },
     "execution_count": 84,
     "metadata": {},
     "output_type": "execute_result"
    }
   ],
   "source": [
    "X_train.shape, y_train.shape"
   ]
  },
  {
   "cell_type": "code",
   "execution_count": 92,
   "metadata": {
    "collapsed": true
   },
   "outputs": [],
   "source": [
    "y_train[y_train == 1] = -1\n",
    "y_train[y_train == 2] = 1"
   ]
  },
  {
   "cell_type": "code",
   "execution_count": 93,
   "metadata": {
    "collapsed": false
   },
   "outputs": [
    {
     "data": {
      "text/plain": [
       "array([-1, -1, -1, ..., -1, -1, -1])"
      ]
     },
     "execution_count": 93,
     "metadata": {},
     "output_type": "execute_result"
    }
   ],
   "source": [
    "y_train"
   ]
  },
  {
   "cell_type": "code",
   "execution_count": 76,
   "metadata": {
    "collapsed": true
   },
   "outputs": [],
   "source": [
    "def evaluate_model(clf, X_train, y_train, X_test, y_test):\n",
    "    #Fit the algorithm on the data\n",
    "    clf.fit(X_train, y_train, eval_metric='error')\n",
    "    \n",
    "    y_train_pred = clf.predict(X_train)\n",
    "    y_test_pred = clf.predict(X_test)\n",
    "    \n",
    "    #Print model report:\n",
    "    print \"Model Report\"\n",
    "    print \"Accuracy (Train): %f\" % metrics.accuracy_score(y_train, y_train_pred)\n",
    "    print \"AUC Score (Train): %f\" % metrics.roc_auc_score(y_train, y_train_pred)\n",
    "    \n",
    "    print \"\\nAccuracy (Test): %f\" % metrics.accuracy_score(y_test, y_test_pred)\n",
    "    print \"AUC Score (Test): %f\" % metrics.roc_auc_score(y_test, y_test_pred)"
   ]
  },
  {
   "cell_type": "markdown",
   "metadata": {},
   "source": [
    "## Find the right size for each tree estimator"
   ]
  },
  {
   "cell_type": "code",
   "execution_count": 90,
   "metadata": {
    "collapsed": false
   },
   "outputs": [
    {
     "name": "stdout",
     "output_type": "stream",
     "text": [
      "Fitting 3 folds for each of 17 candidates, totalling 51 fits\n",
      "[CV] n_estimators=100, criterion=entropy, max_depth=3 ................\n"
     ]
    },
    {
     "ename": "ValueError",
     "evalue": "Data is not binary and pos_label is not specified",
     "output_type": "error",
     "traceback": [
      "\u001b[0;31m---------------------------------------------------------------------------\u001b[0m",
      "\u001b[0;31mValueError\u001b[0m                                Traceback (most recent call last)",
      "\u001b[0;32m<ipython-input-90-236e5f23ad58>\u001b[0m in \u001b[0;36m<module>\u001b[0;34m()\u001b[0m\n\u001b[1;32m      9\u001b[0m                         scoring='roc_auc', verbose=2)\n\u001b[1;32m     10\u001b[0m \u001b[0;34m\u001b[0m\u001b[0m\n\u001b[0;32m---> 11\u001b[0;31m \u001b[0mgsearch1\u001b[0m\u001b[0;34m.\u001b[0m\u001b[0mfit\u001b[0m\u001b[0;34m(\u001b[0m\u001b[0mX_train\u001b[0m\u001b[0;34m,\u001b[0m \u001b[0my_train\u001b[0m\u001b[0;34m)\u001b[0m\u001b[0;34m\u001b[0m\u001b[0m\n\u001b[0m",
      "\u001b[0;32m/usr/local/lib/python2.7/site-packages/sklearn/model_selection/_search.pyc\u001b[0m in \u001b[0;36mfit\u001b[0;34m(self, X, y, groups)\u001b[0m\n\u001b[1;32m    943\u001b[0m             \u001b[0mtrain\u001b[0m\u001b[0;34m/\u001b[0m\u001b[0mtest\u001b[0m \u001b[0mset\u001b[0m\u001b[0;34m.\u001b[0m\u001b[0;34m\u001b[0m\u001b[0m\n\u001b[1;32m    944\u001b[0m         \"\"\"\n\u001b[0;32m--> 945\u001b[0;31m         \u001b[0;32mreturn\u001b[0m \u001b[0mself\u001b[0m\u001b[0;34m.\u001b[0m\u001b[0m_fit\u001b[0m\u001b[0;34m(\u001b[0m\u001b[0mX\u001b[0m\u001b[0;34m,\u001b[0m \u001b[0my\u001b[0m\u001b[0;34m,\u001b[0m \u001b[0mgroups\u001b[0m\u001b[0;34m,\u001b[0m \u001b[0mParameterGrid\u001b[0m\u001b[0;34m(\u001b[0m\u001b[0mself\u001b[0m\u001b[0;34m.\u001b[0m\u001b[0mparam_grid\u001b[0m\u001b[0;34m)\u001b[0m\u001b[0;34m)\u001b[0m\u001b[0;34m\u001b[0m\u001b[0m\n\u001b[0m\u001b[1;32m    946\u001b[0m \u001b[0;34m\u001b[0m\u001b[0m\n\u001b[1;32m    947\u001b[0m \u001b[0;34m\u001b[0m\u001b[0m\n",
      "\u001b[0;32m/usr/local/lib/python2.7/site-packages/sklearn/model_selection/_search.pyc\u001b[0m in \u001b[0;36m_fit\u001b[0;34m(self, X, y, groups, parameter_iterable)\u001b[0m\n\u001b[1;32m    562\u001b[0m                                   \u001b[0mreturn_times\u001b[0m\u001b[0;34m=\u001b[0m\u001b[0mTrue\u001b[0m\u001b[0;34m,\u001b[0m \u001b[0mreturn_parameters\u001b[0m\u001b[0;34m=\u001b[0m\u001b[0mTrue\u001b[0m\u001b[0;34m,\u001b[0m\u001b[0;34m\u001b[0m\u001b[0m\n\u001b[1;32m    563\u001b[0m                                   error_score=self.error_score)\n\u001b[0;32m--> 564\u001b[0;31m           \u001b[0;32mfor\u001b[0m \u001b[0mparameters\u001b[0m \u001b[0;32min\u001b[0m \u001b[0mparameter_iterable\u001b[0m\u001b[0;34m\u001b[0m\u001b[0m\n\u001b[0m\u001b[1;32m    565\u001b[0m           for train, test in cv_iter)\n\u001b[1;32m    566\u001b[0m \u001b[0;34m\u001b[0m\u001b[0m\n",
      "\u001b[0;32m/usr/local/lib/python2.7/site-packages/sklearn/externals/joblib/parallel.pyc\u001b[0m in \u001b[0;36m__call__\u001b[0;34m(self, iterable)\u001b[0m\n\u001b[1;32m    756\u001b[0m             \u001b[0;31m# was dispatched. In particular this covers the edge\u001b[0m\u001b[0;34m\u001b[0m\u001b[0;34m\u001b[0m\u001b[0m\n\u001b[1;32m    757\u001b[0m             \u001b[0;31m# case of Parallel used with an exhausted iterator.\u001b[0m\u001b[0;34m\u001b[0m\u001b[0;34m\u001b[0m\u001b[0m\n\u001b[0;32m--> 758\u001b[0;31m             \u001b[0;32mwhile\u001b[0m \u001b[0mself\u001b[0m\u001b[0;34m.\u001b[0m\u001b[0mdispatch_one_batch\u001b[0m\u001b[0;34m(\u001b[0m\u001b[0miterator\u001b[0m\u001b[0;34m)\u001b[0m\u001b[0;34m:\u001b[0m\u001b[0;34m\u001b[0m\u001b[0m\n\u001b[0m\u001b[1;32m    759\u001b[0m                 \u001b[0mself\u001b[0m\u001b[0;34m.\u001b[0m\u001b[0m_iterating\u001b[0m \u001b[0;34m=\u001b[0m \u001b[0mTrue\u001b[0m\u001b[0;34m\u001b[0m\u001b[0m\n\u001b[1;32m    760\u001b[0m             \u001b[0;32melse\u001b[0m\u001b[0;34m:\u001b[0m\u001b[0;34m\u001b[0m\u001b[0m\n",
      "\u001b[0;32m/usr/local/lib/python2.7/site-packages/sklearn/externals/joblib/parallel.pyc\u001b[0m in \u001b[0;36mdispatch_one_batch\u001b[0;34m(self, iterator)\u001b[0m\n\u001b[1;32m    606\u001b[0m                 \u001b[0;32mreturn\u001b[0m \u001b[0mFalse\u001b[0m\u001b[0;34m\u001b[0m\u001b[0m\n\u001b[1;32m    607\u001b[0m             \u001b[0;32melse\u001b[0m\u001b[0;34m:\u001b[0m\u001b[0;34m\u001b[0m\u001b[0m\n\u001b[0;32m--> 608\u001b[0;31m                 \u001b[0mself\u001b[0m\u001b[0;34m.\u001b[0m\u001b[0m_dispatch\u001b[0m\u001b[0;34m(\u001b[0m\u001b[0mtasks\u001b[0m\u001b[0;34m)\u001b[0m\u001b[0;34m\u001b[0m\u001b[0m\n\u001b[0m\u001b[1;32m    609\u001b[0m                 \u001b[0;32mreturn\u001b[0m \u001b[0mTrue\u001b[0m\u001b[0;34m\u001b[0m\u001b[0m\n\u001b[1;32m    610\u001b[0m \u001b[0;34m\u001b[0m\u001b[0m\n",
      "\u001b[0;32m/usr/local/lib/python2.7/site-packages/sklearn/externals/joblib/parallel.pyc\u001b[0m in \u001b[0;36m_dispatch\u001b[0;34m(self, batch)\u001b[0m\n\u001b[1;32m    569\u001b[0m         \u001b[0mdispatch_timestamp\u001b[0m \u001b[0;34m=\u001b[0m \u001b[0mtime\u001b[0m\u001b[0;34m.\u001b[0m\u001b[0mtime\u001b[0m\u001b[0;34m(\u001b[0m\u001b[0;34m)\u001b[0m\u001b[0;34m\u001b[0m\u001b[0m\n\u001b[1;32m    570\u001b[0m         \u001b[0mcb\u001b[0m \u001b[0;34m=\u001b[0m \u001b[0mBatchCompletionCallBack\u001b[0m\u001b[0;34m(\u001b[0m\u001b[0mdispatch_timestamp\u001b[0m\u001b[0;34m,\u001b[0m \u001b[0mlen\u001b[0m\u001b[0;34m(\u001b[0m\u001b[0mbatch\u001b[0m\u001b[0;34m)\u001b[0m\u001b[0;34m,\u001b[0m \u001b[0mself\u001b[0m\u001b[0;34m)\u001b[0m\u001b[0;34m\u001b[0m\u001b[0m\n\u001b[0;32m--> 571\u001b[0;31m         \u001b[0mjob\u001b[0m \u001b[0;34m=\u001b[0m \u001b[0mself\u001b[0m\u001b[0;34m.\u001b[0m\u001b[0m_backend\u001b[0m\u001b[0;34m.\u001b[0m\u001b[0mapply_async\u001b[0m\u001b[0;34m(\u001b[0m\u001b[0mbatch\u001b[0m\u001b[0;34m,\u001b[0m \u001b[0mcallback\u001b[0m\u001b[0;34m=\u001b[0m\u001b[0mcb\u001b[0m\u001b[0;34m)\u001b[0m\u001b[0;34m\u001b[0m\u001b[0m\n\u001b[0m\u001b[1;32m    572\u001b[0m         \u001b[0mself\u001b[0m\u001b[0;34m.\u001b[0m\u001b[0m_jobs\u001b[0m\u001b[0;34m.\u001b[0m\u001b[0mappend\u001b[0m\u001b[0;34m(\u001b[0m\u001b[0mjob\u001b[0m\u001b[0;34m)\u001b[0m\u001b[0;34m\u001b[0m\u001b[0m\n\u001b[1;32m    573\u001b[0m \u001b[0;34m\u001b[0m\u001b[0m\n",
      "\u001b[0;32m/usr/local/lib/python2.7/site-packages/sklearn/externals/joblib/_parallel_backends.pyc\u001b[0m in \u001b[0;36mapply_async\u001b[0;34m(self, func, callback)\u001b[0m\n\u001b[1;32m    107\u001b[0m     \u001b[0;32mdef\u001b[0m \u001b[0mapply_async\u001b[0m\u001b[0;34m(\u001b[0m\u001b[0mself\u001b[0m\u001b[0;34m,\u001b[0m \u001b[0mfunc\u001b[0m\u001b[0;34m,\u001b[0m \u001b[0mcallback\u001b[0m\u001b[0;34m=\u001b[0m\u001b[0mNone\u001b[0m\u001b[0;34m)\u001b[0m\u001b[0;34m:\u001b[0m\u001b[0;34m\u001b[0m\u001b[0m\n\u001b[1;32m    108\u001b[0m         \u001b[0;34m\"\"\"Schedule a func to be run\"\"\"\u001b[0m\u001b[0;34m\u001b[0m\u001b[0m\n\u001b[0;32m--> 109\u001b[0;31m         \u001b[0mresult\u001b[0m \u001b[0;34m=\u001b[0m \u001b[0mImmediateResult\u001b[0m\u001b[0;34m(\u001b[0m\u001b[0mfunc\u001b[0m\u001b[0;34m)\u001b[0m\u001b[0;34m\u001b[0m\u001b[0m\n\u001b[0m\u001b[1;32m    110\u001b[0m         \u001b[0;32mif\u001b[0m \u001b[0mcallback\u001b[0m\u001b[0;34m:\u001b[0m\u001b[0;34m\u001b[0m\u001b[0m\n\u001b[1;32m    111\u001b[0m             \u001b[0mcallback\u001b[0m\u001b[0;34m(\u001b[0m\u001b[0mresult\u001b[0m\u001b[0;34m)\u001b[0m\u001b[0;34m\u001b[0m\u001b[0m\n",
      "\u001b[0;32m/usr/local/lib/python2.7/site-packages/sklearn/externals/joblib/_parallel_backends.pyc\u001b[0m in \u001b[0;36m__init__\u001b[0;34m(self, batch)\u001b[0m\n\u001b[1;32m    324\u001b[0m         \u001b[0;31m# Don't delay the application, to avoid keeping the input\u001b[0m\u001b[0;34m\u001b[0m\u001b[0;34m\u001b[0m\u001b[0m\n\u001b[1;32m    325\u001b[0m         \u001b[0;31m# arguments in memory\u001b[0m\u001b[0;34m\u001b[0m\u001b[0;34m\u001b[0m\u001b[0m\n\u001b[0;32m--> 326\u001b[0;31m         \u001b[0mself\u001b[0m\u001b[0;34m.\u001b[0m\u001b[0mresults\u001b[0m \u001b[0;34m=\u001b[0m \u001b[0mbatch\u001b[0m\u001b[0;34m(\u001b[0m\u001b[0;34m)\u001b[0m\u001b[0;34m\u001b[0m\u001b[0m\n\u001b[0m\u001b[1;32m    327\u001b[0m \u001b[0;34m\u001b[0m\u001b[0m\n\u001b[1;32m    328\u001b[0m     \u001b[0;32mdef\u001b[0m \u001b[0mget\u001b[0m\u001b[0;34m(\u001b[0m\u001b[0mself\u001b[0m\u001b[0;34m)\u001b[0m\u001b[0;34m:\u001b[0m\u001b[0;34m\u001b[0m\u001b[0m\n",
      "\u001b[0;32m/usr/local/lib/python2.7/site-packages/sklearn/externals/joblib/parallel.pyc\u001b[0m in \u001b[0;36m__call__\u001b[0;34m(self)\u001b[0m\n\u001b[1;32m    129\u001b[0m \u001b[0;34m\u001b[0m\u001b[0m\n\u001b[1;32m    130\u001b[0m     \u001b[0;32mdef\u001b[0m \u001b[0m__call__\u001b[0m\u001b[0;34m(\u001b[0m\u001b[0mself\u001b[0m\u001b[0;34m)\u001b[0m\u001b[0;34m:\u001b[0m\u001b[0;34m\u001b[0m\u001b[0m\n\u001b[0;32m--> 131\u001b[0;31m         \u001b[0;32mreturn\u001b[0m \u001b[0;34m[\u001b[0m\u001b[0mfunc\u001b[0m\u001b[0;34m(\u001b[0m\u001b[0;34m*\u001b[0m\u001b[0margs\u001b[0m\u001b[0;34m,\u001b[0m \u001b[0;34m**\u001b[0m\u001b[0mkwargs\u001b[0m\u001b[0;34m)\u001b[0m \u001b[0;32mfor\u001b[0m \u001b[0mfunc\u001b[0m\u001b[0;34m,\u001b[0m \u001b[0margs\u001b[0m\u001b[0;34m,\u001b[0m \u001b[0mkwargs\u001b[0m \u001b[0;32min\u001b[0m \u001b[0mself\u001b[0m\u001b[0;34m.\u001b[0m\u001b[0mitems\u001b[0m\u001b[0;34m]\u001b[0m\u001b[0;34m\u001b[0m\u001b[0m\n\u001b[0m\u001b[1;32m    132\u001b[0m \u001b[0;34m\u001b[0m\u001b[0m\n\u001b[1;32m    133\u001b[0m     \u001b[0;32mdef\u001b[0m \u001b[0m__len__\u001b[0m\u001b[0;34m(\u001b[0m\u001b[0mself\u001b[0m\u001b[0;34m)\u001b[0m\u001b[0;34m:\u001b[0m\u001b[0;34m\u001b[0m\u001b[0m\n",
      "\u001b[0;32m/usr/local/lib/python2.7/site-packages/sklearn/model_selection/_validation.pyc\u001b[0m in \u001b[0;36m_fit_and_score\u001b[0;34m(estimator, X, y, scorer, train, test, verbose, parameters, fit_params, return_train_score, return_parameters, return_n_test_samples, return_times, error_score)\u001b[0m\n\u001b[1;32m    258\u001b[0m     \u001b[0;32melse\u001b[0m\u001b[0;34m:\u001b[0m\u001b[0;34m\u001b[0m\u001b[0m\n\u001b[1;32m    259\u001b[0m         \u001b[0mfit_time\u001b[0m \u001b[0;34m=\u001b[0m \u001b[0mtime\u001b[0m\u001b[0;34m.\u001b[0m\u001b[0mtime\u001b[0m\u001b[0;34m(\u001b[0m\u001b[0;34m)\u001b[0m \u001b[0;34m-\u001b[0m \u001b[0mstart_time\u001b[0m\u001b[0;34m\u001b[0m\u001b[0m\n\u001b[0;32m--> 260\u001b[0;31m         \u001b[0mtest_score\u001b[0m \u001b[0;34m=\u001b[0m \u001b[0m_score\u001b[0m\u001b[0;34m(\u001b[0m\u001b[0mestimator\u001b[0m\u001b[0;34m,\u001b[0m \u001b[0mX_test\u001b[0m\u001b[0;34m,\u001b[0m \u001b[0my_test\u001b[0m\u001b[0;34m,\u001b[0m \u001b[0mscorer\u001b[0m\u001b[0;34m)\u001b[0m\u001b[0;34m\u001b[0m\u001b[0m\n\u001b[0m\u001b[1;32m    261\u001b[0m         \u001b[0mscore_time\u001b[0m \u001b[0;34m=\u001b[0m \u001b[0mtime\u001b[0m\u001b[0;34m.\u001b[0m\u001b[0mtime\u001b[0m\u001b[0;34m(\u001b[0m\u001b[0;34m)\u001b[0m \u001b[0;34m-\u001b[0m \u001b[0mstart_time\u001b[0m \u001b[0;34m-\u001b[0m \u001b[0mfit_time\u001b[0m\u001b[0;34m\u001b[0m\u001b[0m\n\u001b[1;32m    262\u001b[0m         \u001b[0;32mif\u001b[0m \u001b[0mreturn_train_score\u001b[0m\u001b[0;34m:\u001b[0m\u001b[0;34m\u001b[0m\u001b[0m\n",
      "\u001b[0;32m/usr/local/lib/python2.7/site-packages/sklearn/model_selection/_validation.pyc\u001b[0m in \u001b[0;36m_score\u001b[0;34m(estimator, X_test, y_test, scorer)\u001b[0m\n\u001b[1;32m    286\u001b[0m         \u001b[0mscore\u001b[0m \u001b[0;34m=\u001b[0m \u001b[0mscorer\u001b[0m\u001b[0;34m(\u001b[0m\u001b[0mestimator\u001b[0m\u001b[0;34m,\u001b[0m \u001b[0mX_test\u001b[0m\u001b[0;34m)\u001b[0m\u001b[0;34m\u001b[0m\u001b[0m\n\u001b[1;32m    287\u001b[0m     \u001b[0;32melse\u001b[0m\u001b[0;34m:\u001b[0m\u001b[0;34m\u001b[0m\u001b[0m\n\u001b[0;32m--> 288\u001b[0;31m         \u001b[0mscore\u001b[0m \u001b[0;34m=\u001b[0m \u001b[0mscorer\u001b[0m\u001b[0;34m(\u001b[0m\u001b[0mestimator\u001b[0m\u001b[0;34m,\u001b[0m \u001b[0mX_test\u001b[0m\u001b[0;34m,\u001b[0m \u001b[0my_test\u001b[0m\u001b[0;34m)\u001b[0m\u001b[0;34m\u001b[0m\u001b[0m\n\u001b[0m\u001b[1;32m    289\u001b[0m     \u001b[0;32mif\u001b[0m \u001b[0mhasattr\u001b[0m\u001b[0;34m(\u001b[0m\u001b[0mscore\u001b[0m\u001b[0;34m,\u001b[0m \u001b[0;34m'item'\u001b[0m\u001b[0;34m)\u001b[0m\u001b[0;34m:\u001b[0m\u001b[0;34m\u001b[0m\u001b[0m\n\u001b[1;32m    290\u001b[0m         \u001b[0;32mtry\u001b[0m\u001b[0;34m:\u001b[0m\u001b[0;34m\u001b[0m\u001b[0m\n",
      "\u001b[0;32m/usr/local/lib/python2.7/site-packages/sklearn/metrics/scorer.pyc\u001b[0m in \u001b[0;36m__call__\u001b[0;34m(self, clf, X, y, sample_weight)\u001b[0m\n\u001b[1;32m    194\u001b[0m                                                  **self._kwargs)\n\u001b[1;32m    195\u001b[0m         \u001b[0;32melse\u001b[0m\u001b[0;34m:\u001b[0m\u001b[0;34m\u001b[0m\u001b[0m\n\u001b[0;32m--> 196\u001b[0;31m             \u001b[0;32mreturn\u001b[0m \u001b[0mself\u001b[0m\u001b[0;34m.\u001b[0m\u001b[0m_sign\u001b[0m \u001b[0;34m*\u001b[0m \u001b[0mself\u001b[0m\u001b[0;34m.\u001b[0m\u001b[0m_score_func\u001b[0m\u001b[0;34m(\u001b[0m\u001b[0my\u001b[0m\u001b[0;34m,\u001b[0m \u001b[0my_pred\u001b[0m\u001b[0;34m,\u001b[0m \u001b[0;34m**\u001b[0m\u001b[0mself\u001b[0m\u001b[0;34m.\u001b[0m\u001b[0m_kwargs\u001b[0m\u001b[0;34m)\u001b[0m\u001b[0;34m\u001b[0m\u001b[0m\n\u001b[0m\u001b[1;32m    197\u001b[0m \u001b[0;34m\u001b[0m\u001b[0m\n\u001b[1;32m    198\u001b[0m     \u001b[0;32mdef\u001b[0m \u001b[0m_factory_args\u001b[0m\u001b[0;34m(\u001b[0m\u001b[0mself\u001b[0m\u001b[0;34m)\u001b[0m\u001b[0;34m:\u001b[0m\u001b[0;34m\u001b[0m\u001b[0m\n",
      "\u001b[0;32m/usr/local/lib/python2.7/site-packages/sklearn/metrics/ranking.pyc\u001b[0m in \u001b[0;36mroc_auc_score\u001b[0;34m(y_true, y_score, average, sample_weight)\u001b[0m\n\u001b[1;32m    258\u001b[0m     return _average_binary_score(\n\u001b[1;32m    259\u001b[0m         \u001b[0m_binary_roc_auc_score\u001b[0m\u001b[0;34m,\u001b[0m \u001b[0my_true\u001b[0m\u001b[0;34m,\u001b[0m \u001b[0my_score\u001b[0m\u001b[0;34m,\u001b[0m \u001b[0maverage\u001b[0m\u001b[0;34m,\u001b[0m\u001b[0;34m\u001b[0m\u001b[0m\n\u001b[0;32m--> 260\u001b[0;31m         sample_weight=sample_weight)\n\u001b[0m\u001b[1;32m    261\u001b[0m \u001b[0;34m\u001b[0m\u001b[0m\n\u001b[1;32m    262\u001b[0m \u001b[0;34m\u001b[0m\u001b[0m\n",
      "\u001b[0;32m/usr/local/lib/python2.7/site-packages/sklearn/metrics/base.pyc\u001b[0m in \u001b[0;36m_average_binary_score\u001b[0;34m(binary_metric, y_true, y_score, average, sample_weight)\u001b[0m\n\u001b[1;32m     82\u001b[0m \u001b[0;34m\u001b[0m\u001b[0m\n\u001b[1;32m     83\u001b[0m     \u001b[0;32mif\u001b[0m \u001b[0my_type\u001b[0m \u001b[0;34m==\u001b[0m \u001b[0;34m\"binary\"\u001b[0m\u001b[0;34m:\u001b[0m\u001b[0;34m\u001b[0m\u001b[0m\n\u001b[0;32m---> 84\u001b[0;31m         \u001b[0;32mreturn\u001b[0m \u001b[0mbinary_metric\u001b[0m\u001b[0;34m(\u001b[0m\u001b[0my_true\u001b[0m\u001b[0;34m,\u001b[0m \u001b[0my_score\u001b[0m\u001b[0;34m,\u001b[0m \u001b[0msample_weight\u001b[0m\u001b[0;34m=\u001b[0m\u001b[0msample_weight\u001b[0m\u001b[0;34m)\u001b[0m\u001b[0;34m\u001b[0m\u001b[0m\n\u001b[0m\u001b[1;32m     85\u001b[0m \u001b[0;34m\u001b[0m\u001b[0m\n\u001b[1;32m     86\u001b[0m     \u001b[0mcheck_consistent_length\u001b[0m\u001b[0;34m(\u001b[0m\u001b[0my_true\u001b[0m\u001b[0;34m,\u001b[0m \u001b[0my_score\u001b[0m\u001b[0;34m,\u001b[0m \u001b[0msample_weight\u001b[0m\u001b[0;34m)\u001b[0m\u001b[0;34m\u001b[0m\u001b[0m\n",
      "\u001b[0;32m/usr/local/lib/python2.7/site-packages/sklearn/metrics/ranking.pyc\u001b[0m in \u001b[0;36m_binary_roc_auc_score\u001b[0;34m(y_true, y_score, sample_weight)\u001b[0m\n\u001b[1;32m    253\u001b[0m \u001b[0;34m\u001b[0m\u001b[0m\n\u001b[1;32m    254\u001b[0m         fpr, tpr, tresholds = roc_curve(y_true, y_score,\n\u001b[0;32m--> 255\u001b[0;31m                                         sample_weight=sample_weight)\n\u001b[0m\u001b[1;32m    256\u001b[0m         \u001b[0;32mreturn\u001b[0m \u001b[0mauc\u001b[0m\u001b[0;34m(\u001b[0m\u001b[0mfpr\u001b[0m\u001b[0;34m,\u001b[0m \u001b[0mtpr\u001b[0m\u001b[0;34m,\u001b[0m \u001b[0mreorder\u001b[0m\u001b[0;34m=\u001b[0m\u001b[0mTrue\u001b[0m\u001b[0;34m)\u001b[0m\u001b[0;34m\u001b[0m\u001b[0m\n\u001b[1;32m    257\u001b[0m \u001b[0;34m\u001b[0m\u001b[0m\n",
      "\u001b[0;32m/usr/local/lib/python2.7/site-packages/sklearn/metrics/ranking.pyc\u001b[0m in \u001b[0;36mroc_curve\u001b[0;34m(y_true, y_score, pos_label, sample_weight, drop_intermediate)\u001b[0m\n\u001b[1;32m    503\u001b[0m     \"\"\"\n\u001b[1;32m    504\u001b[0m     fps, tps, thresholds = _binary_clf_curve(\n\u001b[0;32m--> 505\u001b[0;31m         y_true, y_score, pos_label=pos_label, sample_weight=sample_weight)\n\u001b[0m\u001b[1;32m    506\u001b[0m \u001b[0;34m\u001b[0m\u001b[0m\n\u001b[1;32m    507\u001b[0m     \u001b[0;31m# Attempt to drop thresholds corresponding to points in between and\u001b[0m\u001b[0;34m\u001b[0m\u001b[0;34m\u001b[0m\u001b[0m\n",
      "\u001b[0;32m/usr/local/lib/python2.7/site-packages/sklearn/metrics/ranking.pyc\u001b[0m in \u001b[0;36m_binary_clf_curve\u001b[0;34m(y_true, y_score, pos_label, sample_weight)\u001b[0m\n\u001b[1;32m    312\u001b[0m              \u001b[0marray_equal\u001b[0m\u001b[0;34m(\u001b[0m\u001b[0mclasses\u001b[0m\u001b[0;34m,\u001b[0m \u001b[0;34m[\u001b[0m\u001b[0;34m-\u001b[0m\u001b[0;36m1\u001b[0m\u001b[0;34m]\u001b[0m\u001b[0;34m)\u001b[0m \u001b[0;32mor\u001b[0m\u001b[0;34m\u001b[0m\u001b[0m\n\u001b[1;32m    313\u001b[0m              array_equal(classes, [1]))):\n\u001b[0;32m--> 314\u001b[0;31m         \u001b[0;32mraise\u001b[0m \u001b[0mValueError\u001b[0m\u001b[0;34m(\u001b[0m\u001b[0;34m\"Data is not binary and pos_label is not specified\"\u001b[0m\u001b[0;34m)\u001b[0m\u001b[0;34m\u001b[0m\u001b[0m\n\u001b[0m\u001b[1;32m    315\u001b[0m     \u001b[0;32melif\u001b[0m \u001b[0mpos_label\u001b[0m \u001b[0;32mis\u001b[0m \u001b[0mNone\u001b[0m\u001b[0;34m:\u001b[0m\u001b[0;34m\u001b[0m\u001b[0m\n\u001b[1;32m    316\u001b[0m         \u001b[0mpos_label\u001b[0m \u001b[0;34m=\u001b[0m \u001b[0;36m1.\u001b[0m\u001b[0;34m\u001b[0m\u001b[0m\n",
      "\u001b[0;31mValueError\u001b[0m: Data is not binary and pos_label is not specified"
     ]
    }
   ],
   "source": [
    "param_test_1 = {\n",
    "    'criterion':['entropy'],\n",
    "    'n_estimators': [100],\n",
    "    'max_depth': range(3, 20, 1)\n",
    "}\n",
    "\n",
    "gsearch1 = GridSearchCV(estimator=RandomForestClassifier(n_jobs=4, max_features=None), \n",
    "                        param_grid=param_test_1,\n",
    "                        scoring='roc_auc', verbose=2)\n",
    "\n",
    "gsearch1.fit(X_train, y_train)"
   ]
  },
  {
   "cell_type": "code",
   "execution_count": 41,
   "metadata": {
    "collapsed": false
   },
   "outputs": [
    {
     "name": "stdout",
     "output_type": "stream",
     "text": [
      "0.739 (+/-0.006) for {'n_estimators': 100, 'criterion': 'entropy', 'max_depth': 3}\n",
      "0.751 (+/-0.003) for {'n_estimators': 100, 'criterion': 'entropy', 'max_depth': 4}\n",
      "0.759 (+/-0.003) for {'n_estimators': 100, 'criterion': 'entropy', 'max_depth': 5}\n",
      "0.765 (+/-0.003) for {'n_estimators': 100, 'criterion': 'entropy', 'max_depth': 6}\n",
      "0.769 (+/-0.002) for {'n_estimators': 100, 'criterion': 'entropy', 'max_depth': 7}\n",
      "0.772 (+/-0.003) for {'n_estimators': 100, 'criterion': 'entropy', 'max_depth': 8}\n",
      "0.775 (+/-0.003) for {'n_estimators': 100, 'criterion': 'entropy', 'max_depth': 9}\n",
      "0.776 (+/-0.003) for {'n_estimators': 100, 'criterion': 'entropy', 'max_depth': 10}\n",
      "0.777 (+/-0.003) for {'n_estimators': 100, 'criterion': 'entropy', 'max_depth': 11}\n",
      "0.778 (+/-0.003) for {'n_estimators': 100, 'criterion': 'entropy', 'max_depth': 12}\n",
      "0.778 (+/-0.004) for {'n_estimators': 100, 'criterion': 'entropy', 'max_depth': 13}\n",
      "0.778 (+/-0.005) for {'n_estimators': 100, 'criterion': 'entropy', 'max_depth': 14}\n",
      "0.778 (+/-0.002) for {'n_estimators': 100, 'criterion': 'entropy', 'max_depth': 15}\n",
      "0.779 (+/-0.005) for {'n_estimators': 100, 'criterion': 'entropy', 'max_depth': 16}\n",
      "0.779 (+/-0.004) for {'n_estimators': 100, 'criterion': 'entropy', 'max_depth': 17}\n",
      "0.778 (+/-0.004) for {'n_estimators': 100, 'criterion': 'entropy', 'max_depth': 18}\n",
      "0.778 (+/-0.005) for {'n_estimators': 100, 'criterion': 'entropy', 'max_depth': 19}\n",
      "{'n_estimators': 100, 'criterion': 'entropy', 'max_depth': 17}\n",
      "0.778820826516\n"
     ]
    }
   ],
   "source": [
    "means = gsearch1.cv_results_['mean_test_score']\n",
    "stds = gsearch1.cv_results_['std_test_score']\n",
    "for mean, std, params in zip(means, stds, gsearch1.cv_results_['params']):\n",
    "    print(\"%0.3f (+/-%0.03f) for %r\"% (mean, std * 2, params))\n",
    "print gsearch1.best_params_\n",
    "print gsearch1.best_score_"
   ]
  },
  {
   "cell_type": "code",
   "execution_count": 45,
   "metadata": {
    "collapsed": false
   },
   "outputs": [
    {
     "data": {
      "image/png": "[encoded data removed]",
      "text/plain": [
       "<matplotlib.figure.Figure at 0x110753b90>"
      ]
     },
     "metadata": {},
     "output_type": "display_data"
    }
   ],
   "source": [
    "xs = range(3, 20, 1)\n",
    "ys = gsearch1.cv_results_['mean_test_score']\n",
    "plt.plot(xs,ys)\n",
    "plt.title(\"Mean Test Score(ROC_AUC) vs Max Tree Depth\")\n",
    "plt.ylabel(\"Mean ROC_AUC Score\")\n",
    "plt.xlabel(\"Max Tree Depth\")\n",
    "plt.savefig(\"plots/rf_depth.png\")"
   ]
  },
  {
   "cell_type": "code",
   "execution_count": 8,
   "metadata": {
    "collapsed": false
   },
   "outputs": [
    {
     "name": "stdout",
     "output_type": "stream",
     "text": [
      "Fitting 3 folds for each of 9 candidates, totalling 27 fits\n",
      "[CV] n_estimators=100, criterion=entropy, max_depth=3 ................\n",
      "[CV] . n_estimators=100, criterion=entropy, max_depth=3, total=  18.5s\n",
      "[CV] n_estimators=100, criterion=entropy, max_depth=3 ................\n"
     ]
    },
    {
     "name": "stderr",
     "output_type": "stream",
     "text": [
      "[Parallel(n_jobs=1)]: Done   1 out of   1 | elapsed:   18.8s remaining:    0.0s\n"
     ]
    },
    {
     "name": "stdout",
     "output_type": "stream",
     "text": [
      "[CV] . n_estimators=100, criterion=entropy, max_depth=3, total=  18.7s\n",
      "[CV] n_estimators=100, criterion=entropy, max_depth=3 ................\n",
      "[CV] . n_estimators=100, criterion=entropy, max_depth=3, total=  18.7s\n",
      "[CV] n_estimators=100, criterion=entropy, max_depth=5 ................\n",
      "[CV] . n_estimators=100, criterion=entropy, max_depth=5, total=  32.0s\n",
      "[CV] n_estimators=100, criterion=entropy, max_depth=5 ................\n",
      "[CV] . n_estimators=100, criterion=entropy, max_depth=5, total=  29.6s\n",
      "[CV] n_estimators=100, criterion=entropy, max_depth=5 ................\n",
      "[CV] . n_estimators=100, criterion=entropy, max_depth=5, total=  29.6s\n",
      "[CV] n_estimators=100, criterion=entropy, max_depth=7 ................\n",
      "[CV] . n_estimators=100, criterion=entropy, max_depth=7, total=  39.2s\n",
      "[CV] n_estimators=100, criterion=entropy, max_depth=7 ................\n",
      "[CV] . n_estimators=100, criterion=entropy, max_depth=7, total=  38.7s\n",
      "[CV] n_estimators=100, criterion=entropy, max_depth=7 ................\n",
      "[CV] . n_estimators=100, criterion=entropy, max_depth=7, total=  36.3s\n",
      "[CV] n_estimators=100, criterion=entropy, max_depth=9 ................\n",
      "[CV] . n_estimators=100, criterion=entropy, max_depth=9, total=  49.0s\n",
      "[CV] n_estimators=100, criterion=entropy, max_depth=9 ................\n",
      "[CV] . n_estimators=100, criterion=entropy, max_depth=9, total=  46.2s\n",
      "[CV] n_estimators=100, criterion=entropy, max_depth=9 ................\n",
      "[CV] . n_estimators=100, criterion=entropy, max_depth=9, total=  44.6s\n",
      "[CV] n_estimators=100, criterion=entropy, max_depth=11 ...............\n",
      "[CV]  n_estimators=100, criterion=entropy, max_depth=11, total=  51.2s\n",
      "[CV] n_estimators=100, criterion=entropy, max_depth=11 ...............\n",
      "[CV]  n_estimators=100, criterion=entropy, max_depth=11, total=  51.9s\n",
      "[CV] n_estimators=100, criterion=entropy, max_depth=11 ...............\n",
      "[CV]  n_estimators=100, criterion=entropy, max_depth=11, total=  51.3s\n",
      "[CV] n_estimators=100, criterion=entropy, max_depth=13 ...............\n",
      "[CV]  n_estimators=100, criterion=entropy, max_depth=13, total=  59.7s\n",
      "[CV] n_estimators=100, criterion=entropy, max_depth=13 ...............\n",
      "[CV]  n_estimators=100, criterion=entropy, max_depth=13, total=  58.9s\n",
      "[CV] n_estimators=100, criterion=entropy, max_depth=13 ...............\n",
      "[CV]  n_estimators=100, criterion=entropy, max_depth=13, total= 1.0min\n",
      "[CV] n_estimators=100, criterion=entropy, max_depth=15 ...............\n",
      "[CV]  n_estimators=100, criterion=entropy, max_depth=15, total= 1.1min\n",
      "[CV] n_estimators=100, criterion=entropy, max_depth=15 ...............\n",
      "[CV]  n_estimators=100, criterion=entropy, max_depth=15, total= 1.1min\n",
      "[CV] n_estimators=100, criterion=entropy, max_depth=15 ...............\n",
      "[CV]  n_estimators=100, criterion=entropy, max_depth=15, total= 1.1min\n",
      "[CV] n_estimators=100, criterion=entropy, max_depth=17 ...............\n",
      "[CV]  n_estimators=100, criterion=entropy, max_depth=17, total= 1.1min\n",
      "[CV] n_estimators=100, criterion=entropy, max_depth=17 ...............\n",
      "[CV]  n_estimators=100, criterion=entropy, max_depth=17, total= 1.1min\n",
      "[CV] n_estimators=100, criterion=entropy, max_depth=17 ...............\n",
      "[CV]  n_estimators=100, criterion=entropy, max_depth=17, total= 1.1min\n",
      "[CV] n_estimators=100, criterion=entropy, max_depth=19 ...............\n",
      "[CV]  n_estimators=100, criterion=entropy, max_depth=19, total= 1.2min\n",
      "[CV] n_estimators=100, criterion=entropy, max_depth=19 ...............\n",
      "[CV]  n_estimators=100, criterion=entropy, max_depth=19, total= 1.2min\n",
      "[CV] n_estimators=100, criterion=entropy, max_depth=19 ...............\n",
      "[CV]  n_estimators=100, criterion=entropy, max_depth=19, total= 1.1min\n"
     ]
    },
    {
     "name": "stderr",
     "output_type": "stream",
     "text": [
      "[Parallel(n_jobs=1)]: Done  27 out of  27 | elapsed: 22.5min finished\n"
     ]
    },
    {
     "data": {
      "text/plain": [
       "GridSearchCV(cv=None, error_score='raise',\n",
       "       estimator=RandomForestClassifier(bootstrap=True, class_weight=None, criterion='gini',\n",
       "            max_depth=None, max_features=None, max_leaf_nodes=None,\n",
       "            min_impurity_split=1e-07, min_samples_leaf=1,\n",
       "            min_samples_split=2, min_weight_fraction_leaf=0.0,\n",
       "            n_estimators=10, n_jobs=4, oob_score=False, random_state=None,\n",
       "            verbose=0, warm_start=False),\n",
       "       fit_params={}, iid=True, n_jobs=1,\n",
       "       param_grid={'n_estimators': [100], 'criterion': ['entropy'], 'max_depth': [3, 5, 7, 9, 11, 13, 15, 17, 19]},\n",
       "       pre_dispatch='2*n_jobs', refit=True, return_train_score=True,\n",
       "       scoring='accuracy', verbose=2)"
      ]
     },
     "execution_count": 8,
     "metadata": {},
     "output_type": "execute_result"
    }
   ],
   "source": [
    "param_test_1 = {\n",
    "    'criterion':['entropy'],\n",
    "    'n_estimators': [100],\n",
    "    'max_depth': range(3, 20, 2)\n",
    "}\n",
    "\n",
    "gsearch1 = GridSearchCV(estimator=RandomForestClassifier(n_jobs=4, max_features=None), \n",
    "                        param_grid=param_test_1,\n",
    "                        scoring='accuracy', verbose=2)\n",
    "\n",
    "gsearch1.fit(X_train, y_train)"
   ]
  },
  {
   "cell_type": "code",
   "execution_count": 9,
   "metadata": {
    "collapsed": false
   },
   "outputs": [
    {
     "name": "stdout",
     "output_type": "stream",
     "text": [
      "0.757 (+/-0.005) for {'n_estimators': 100, 'criterion': 'entropy', 'max_depth': 3}\n",
      "0.768 (+/-0.005) for {'n_estimators': 100, 'criterion': 'entropy', 'max_depth': 5}\n",
      "0.774 (+/-0.004) for {'n_estimators': 100, 'criterion': 'entropy', 'max_depth': 7}\n",
      "0.776 (+/-0.004) for {'n_estimators': 100, 'criterion': 'entropy', 'max_depth': 9}\n",
      "0.777 (+/-0.004) for {'n_estimators': 100, 'criterion': 'entropy', 'max_depth': 11}\n",
      "0.778 (+/-0.004) for {'n_estimators': 100, 'criterion': 'entropy', 'max_depth': 13}\n",
      "0.779 (+/-0.004) for {'n_estimators': 100, 'criterion': 'entropy', 'max_depth': 15}\n",
      "0.778 (+/-0.006) for {'n_estimators': 100, 'criterion': 'entropy', 'max_depth': 17}\n",
      "0.779 (+/-0.003) for {'n_estimators': 100, 'criterion': 'entropy', 'max_depth': 19}\n",
      "{'n_estimators': 100, 'criterion': 'entropy', 'max_depth': 19}\n",
      "0.779238251349\n"
     ]
    }
   ],
   "source": [
    "means = gsearch1.cv_results_['mean_test_score']\n",
    "stds = gsearch1.cv_results_['std_test_score']\n",
    "for mean, std, params in zip(means, stds, gsearch1.cv_results_['params']):\n",
    "    print(\"%0.3f (+/-%0.03f) for %r\"% (mean, std * 2, params))\n",
    "print gsearch1.best_params_\n",
    "print gsearch1.best_score_"
   ]
  },
  {
   "cell_type": "code",
   "execution_count": 10,
   "metadata": {
    "collapsed": false
   },
   "outputs": [
    {
     "data": {
      "image/png": "[encoded data removed]",
      "text/plain": [
       "<matplotlib.figure.Figure at 0x108337e10>"
      ]
     },
     "metadata": {},
     "output_type": "display_data"
    }
   ],
   "source": [
    "xs = range(3, 20, 2)\n",
    "ys = gsearch1.cv_results_['mean_test_score']\n",
    "plt.plot(xs,ys)\n",
    "plt.title(\"Mean Test Score(ACC) vs Max Tree Depth\")\n",
    "plt.ylabel(\"Mean ACC Score\")\n",
    "plt.xlabel(\"Max Tree Depth\")\n",
    "plt.savefig(\"plots/rf_depth_2.png\")"
   ]
  },
  {
   "cell_type": "code",
   "execution_count": 15,
   "metadata": {
    "collapsed": false
   },
   "outputs": [
    {
     "name": "stdout",
     "output_type": "stream",
     "text": [
      "Fitting 3 folds for each of 10 candidates, totalling 30 fits\n",
      "[CV] max_features=0.1, n_estimators=100, criterion=entropy ...........\n",
      "[CV]  max_features=0.1, n_estimators=100, criterion=entropy, total=   9.0s\n",
      "[CV] max_features=0.1, n_estimators=100, criterion=entropy ...........\n"
     ]
    },
    {
     "name": "stderr",
     "output_type": "stream",
     "text": [
      "[Parallel(n_jobs=1)]: Done   1 out of   1 | elapsed:    9.4s remaining:    0.0s\n"
     ]
    },
    {
     "name": "stdout",
     "output_type": "stream",
     "text": [
      "[CV]  max_features=0.1, n_estimators=100, criterion=entropy, total=   8.9s\n",
      "[CV] max_features=0.1, n_estimators=100, criterion=entropy ...........\n",
      "[CV]  max_features=0.1, n_estimators=100, criterion=entropy, total=   9.1s\n",
      "[CV] max_features=0.2, n_estimators=100, criterion=entropy ...........\n",
      "[CV]  max_features=0.2, n_estimators=100, criterion=entropy, total=  17.2s\n",
      "[CV] max_features=0.2, n_estimators=100, criterion=entropy ...........\n",
      "[CV]  max_features=0.2, n_estimators=100, criterion=entropy, total=  18.1s\n",
      "[CV] max_features=0.2, n_estimators=100, criterion=entropy ...........\n",
      "[CV]  max_features=0.2, n_estimators=100, criterion=entropy, total=  17.3s\n",
      "[CV] max_features=0.3, n_estimators=100, criterion=entropy ...........\n",
      "[CV]  max_features=0.3, n_estimators=100, criterion=entropy, total=  25.5s\n",
      "[CV] max_features=0.3, n_estimators=100, criterion=entropy ...........\n",
      "[CV]  max_features=0.3, n_estimators=100, criterion=entropy, total=  24.7s\n",
      "[CV] max_features=0.3, n_estimators=100, criterion=entropy ...........\n",
      "[CV]  max_features=0.3, n_estimators=100, criterion=entropy, total=  24.5s\n",
      "[CV] max_features=0.4, n_estimators=100, criterion=entropy ...........\n",
      "[CV]  max_features=0.4, n_estimators=100, criterion=entropy, total=  32.3s\n",
      "[CV] max_features=0.4, n_estimators=100, criterion=entropy ...........\n",
      "[CV]  max_features=0.4, n_estimators=100, criterion=entropy, total=  32.0s\n",
      "[CV] max_features=0.4, n_estimators=100, criterion=entropy ...........\n",
      "[CV]  max_features=0.4, n_estimators=100, criterion=entropy, total=  32.4s\n",
      "[CV] max_features=0.5, n_estimators=100, criterion=entropy ...........\n",
      "[CV]  max_features=0.5, n_estimators=100, criterion=entropy, total=  38.5s\n",
      "[CV] max_features=0.5, n_estimators=100, criterion=entropy ...........\n",
      "[CV]  max_features=0.5, n_estimators=100, criterion=entropy, total=  42.0s\n",
      "[CV] max_features=0.5, n_estimators=100, criterion=entropy ...........\n",
      "[CV]  max_features=0.5, n_estimators=100, criterion=entropy, total=  39.9s\n",
      "[CV] max_features=0.6, n_estimators=100, criterion=entropy ...........\n",
      "[CV]  max_features=0.6, n_estimators=100, criterion=entropy, total=  46.5s\n",
      "[CV] max_features=0.6, n_estimators=100, criterion=entropy ...........\n",
      "[CV]  max_features=0.6, n_estimators=100, criterion=entropy, total=  46.9s\n",
      "[CV] max_features=0.6, n_estimators=100, criterion=entropy ...........\n",
      "[CV]  max_features=0.6, n_estimators=100, criterion=entropy, total=  49.1s\n",
      "[CV] max_features=0.7, n_estimators=100, criterion=entropy ...........\n",
      "[CV]  max_features=0.7, n_estimators=100, criterion=entropy, total=  57.4s\n",
      "[CV] max_features=0.7, n_estimators=100, criterion=entropy ...........\n",
      "[CV]  max_features=0.7, n_estimators=100, criterion=entropy, total=  54.5s\n",
      "[CV] max_features=0.7, n_estimators=100, criterion=entropy ...........\n",
      "[CV]  max_features=0.7, n_estimators=100, criterion=entropy, total=  57.4s\n",
      "[CV] max_features=0.8, n_estimators=100, criterion=entropy ...........\n",
      "[CV]  max_features=0.8, n_estimators=100, criterion=entropy, total= 1.1min\n",
      "[CV] max_features=0.8, n_estimators=100, criterion=entropy ...........\n",
      "[CV]  max_features=0.8, n_estimators=100, criterion=entropy, total= 1.0min\n",
      "[CV] max_features=0.8, n_estimators=100, criterion=entropy ...........\n",
      "[CV]  max_features=0.8, n_estimators=100, criterion=entropy, total= 1.0min\n",
      "[CV] max_features=0.9, n_estimators=100, criterion=entropy ...........\n",
      "[CV]  max_features=0.9, n_estimators=100, criterion=entropy, total= 1.1min\n",
      "[CV] max_features=0.9, n_estimators=100, criterion=entropy ...........\n",
      "[CV]  max_features=0.9, n_estimators=100, criterion=entropy, total= 1.1min\n",
      "[CV] max_features=0.9, n_estimators=100, criterion=entropy ...........\n",
      "[CV]  max_features=0.9, n_estimators=100, criterion=entropy, total= 1.1min\n",
      "[CV] max_features=1.0, n_estimators=100, criterion=entropy ...........\n",
      "[CV]  max_features=1.0, n_estimators=100, criterion=entropy, total= 1.2min\n",
      "[CV] max_features=1.0, n_estimators=100, criterion=entropy ...........\n",
      "[CV]  max_features=1.0, n_estimators=100, criterion=entropy, total= 1.2min\n",
      "[CV] max_features=1.0, n_estimators=100, criterion=entropy ...........\n",
      "[CV]  max_features=1.0, n_estimators=100, criterion=entropy, total= 1.3min\n"
     ]
    },
    {
     "name": "stderr",
     "output_type": "stream",
     "text": [
      "[Parallel(n_jobs=1)]: Done  30 out of  30 | elapsed: 21.8min finished\n"
     ]
    },
    {
     "data": {
      "text/plain": [
       "GridSearchCV(cv=None, error_score='raise',\n",
       "       estimator=RandomForestClassifier(bootstrap=True, class_weight=None, criterion='gini',\n",
       "            max_depth=17, max_features='auto', max_leaf_nodes=None,\n",
       "            min_impurity_split=1e-07, min_samples_leaf=1,\n",
       "            min_samples_split=2, min_weight_fraction_leaf=0.0,\n",
       "            n_estimators=10, n_jobs=4, oob_score=False, random_state=None,\n",
       "            verbose=0, warm_start=False),\n",
       "       fit_params={}, iid=True, n_jobs=1,\n",
       "       param_grid={'n_estimators': [100], 'max_features': array([ 0.1,  0.2,  0.3,  0.4,  0.5,  0.6,  0.7,  0.8,  0.9,  1. ]), 'criterion': ['entropy']},\n",
       "       pre_dispatch='2*n_jobs', refit=True, return_train_score=True,\n",
       "       scoring='accuracy', verbose=2)"
      ]
     },
     "execution_count": 15,
     "metadata": {},
     "output_type": "execute_result"
    }
   ],
   "source": [
    "param_test_2 = {\n",
    "    'criterion':['entropy'],\n",
    "    'n_estimators': [100],\n",
    "    'max_features': np.linspace(0.1, 1, 10)\n",
    "}\n",
    "\n",
    "gsearch2 = GridSearchCV(estimator=RandomForestClassifier(n_jobs=4, max_depth=17), \n",
    "                        param_grid=param_test_2,\n",
    "                        scoring='accuracy', verbose=2)\n",
    "\n",
    "gsearch2.fit(X_train, y_train)"
   ]
  },
  {
   "cell_type": "code",
   "execution_count": 16,
   "metadata": {
    "collapsed": false
   },
   "outputs": [
    {
     "name": "stdout",
     "output_type": "stream",
     "text": [
      "0.778 (+/-0.002) for {'max_features': 0.10000000000000001, 'n_estimators': 100, 'criterion': 'entropy'}\n",
      "0.778 (+/-0.003) for {'max_features': 0.20000000000000001, 'n_estimators': 100, 'criterion': 'entropy'}\n",
      "0.780 (+/-0.003) for {'max_features': 0.30000000000000004, 'n_estimators': 100, 'criterion': 'entropy'}\n",
      "0.780 (+/-0.004) for {'max_features': 0.40000000000000002, 'n_estimators': 100, 'criterion': 'entropy'}\n",
      "0.780 (+/-0.005) for {'max_features': 0.5, 'n_estimators': 100, 'criterion': 'entropy'}\n",
      "0.779 (+/-0.004) for {'max_features': 0.59999999999999998, 'n_estimators': 100, 'criterion': 'entropy'}\n",
      "0.779 (+/-0.006) for {'max_features': 0.70000000000000007, 'n_estimators': 100, 'criterion': 'entropy'}\n",
      "0.780 (+/-0.003) for {'max_features': 0.80000000000000004, 'n_estimators': 100, 'criterion': 'entropy'}\n",
      "0.780 (+/-0.003) for {'max_features': 0.90000000000000002, 'n_estimators': 100, 'criterion': 'entropy'}\n",
      "0.780 (+/-0.003) for {'max_features': 1.0, 'n_estimators': 100, 'criterion': 'entropy'}\n",
      "{'max_features': 0.5, 'n_estimators': 100, 'criterion': 'entropy'}\n",
      "0.779903196375\n"
     ]
    }
   ],
   "source": [
    "means = gsearch2.cv_results_['mean_test_score']\n",
    "stds = gsearch2.cv_results_['std_test_score']\n",
    "for mean, std, params in zip(means, stds, gsearch2.cv_results_['params']):\n",
    "    print(\"%0.3f (+/-%0.03f) for %r\"% (mean, std * 2, params))\n",
    "print gsearch2.best_params_\n",
    "print gsearch2.best_score_"
   ]
  },
  {
   "cell_type": "code",
   "execution_count": 22,
   "metadata": {
    "collapsed": false
   },
   "outputs": [
    {
     "name": "stdout",
     "output_type": "stream",
     "text": [
      "Fitting 3 folds for each of 5 candidates, totalling 15 fits\n",
      "[CV] max_features=0.1, n_estimators=100, criterion=entropy ...........\n",
      "[CV]  max_features=0.1, n_estimators=100, criterion=entropy, total=   8.9s\n",
      "[CV] max_features=0.1, n_estimators=100, criterion=entropy ...........\n"
     ]
    },
    {
     "name": "stderr",
     "output_type": "stream",
     "text": [
      "[Parallel(n_jobs=1)]: Done   1 out of   1 | elapsed:    9.3s remaining:    0.0s\n"
     ]
    },
    {
     "name": "stdout",
     "output_type": "stream",
     "text": [
      "[CV]  max_features=0.1, n_estimators=100, criterion=entropy, total=   8.6s\n",
      "[CV] max_features=0.1, n_estimators=100, criterion=entropy ...........\n",
      "[CV]  max_features=0.1, n_estimators=100, criterion=entropy, total=   9.4s\n",
      "[CV] max_features=0.325, n_estimators=100, criterion=entropy .........\n",
      "[CV]  max_features=0.325, n_estimators=100, criterion=entropy, total=  26.0s\n",
      "[CV] max_features=0.325, n_estimators=100, criterion=entropy .........\n",
      "[CV]  max_features=0.325, n_estimators=100, criterion=entropy, total=  27.7s\n",
      "[CV] max_features=0.325, n_estimators=100, criterion=entropy .........\n",
      "[CV]  max_features=0.325, n_estimators=100, criterion=entropy, total=  28.3s\n",
      "[CV] max_features=0.55, n_estimators=100, criterion=entropy ..........\n",
      "[CV]  max_features=0.55, n_estimators=100, criterion=entropy, total=  43.8s\n",
      "[CV] max_features=0.55, n_estimators=100, criterion=entropy ..........\n",
      "[CV]  max_features=0.55, n_estimators=100, criterion=entropy, total=  43.8s\n",
      "[CV] max_features=0.55, n_estimators=100, criterion=entropy ..........\n",
      "[CV]  max_features=0.55, n_estimators=100, criterion=entropy, total=  46.3s\n",
      "[CV] max_features=0.775, n_estimators=100, criterion=entropy .........\n",
      "[CV]  max_features=0.775, n_estimators=100, criterion=entropy, total= 1.0min\n",
      "[CV] max_features=0.775, n_estimators=100, criterion=entropy .........\n",
      "[CV]  max_features=0.775, n_estimators=100, criterion=entropy, total=  58.5s\n",
      "[CV] max_features=0.775, n_estimators=100, criterion=entropy .........\n",
      "[CV]  max_features=0.775, n_estimators=100, criterion=entropy, total=  58.3s\n",
      "[CV] max_features=1.0, n_estimators=100, criterion=entropy ...........\n",
      "[CV]  max_features=1.0, n_estimators=100, criterion=entropy, total= 1.2min\n",
      "[CV] max_features=1.0, n_estimators=100, criterion=entropy ...........\n",
      "[CV]  max_features=1.0, n_estimators=100, criterion=entropy, total= 1.3min\n",
      "[CV] max_features=1.0, n_estimators=100, criterion=entropy ...........\n",
      "[CV]  max_features=1.0, n_estimators=100, criterion=entropy, total= 1.4min\n"
     ]
    },
    {
     "name": "stderr",
     "output_type": "stream",
     "text": [
      "[Parallel(n_jobs=1)]: Done  15 out of  15 | elapsed: 11.1min finished\n"
     ]
    },
    {
     "data": {
      "text/plain": [
       "GridSearchCV(cv=None, error_score='raise',\n",
       "       estimator=RandomForestClassifier(bootstrap=True, class_weight=None, criterion='gini',\n",
       "            max_depth=17, max_features='auto', max_leaf_nodes=None,\n",
       "            min_impurity_split=1e-07, min_samples_leaf=1,\n",
       "            min_samples_split=2, min_weight_fraction_leaf=0.0,\n",
       "            n_estimators=10, n_jobs=4, oob_score=False, random_state=None,\n",
       "            verbose=0, warm_start=False),\n",
       "       fit_params={}, iid=True, n_jobs=1,\n",
       "       param_grid={'n_estimators': [100], 'max_features': array([ 0.1  ,  0.325,  0.55 ,  0.775,  1.   ]), 'criterion': ['entropy']},\n",
       "       pre_dispatch='2*n_jobs', refit=True, return_train_score=True,\n",
       "       scoring='roc_auc', verbose=2)"
      ]
     },
     "execution_count": 22,
     "metadata": {},
     "output_type": "execute_result"
    }
   ],
   "source": [
    "param_test_2 = {\n",
    "    'criterion':['entropy'],\n",
    "    'n_estimators': [100],\n",
    "    'max_features': np.linspace(0.1, 1, 5)\n",
    "}\n",
    "\n",
    "gsearch2 = GridSearchCV(estimator=RandomForestClassifier(n_jobs=4, max_depth=17), \n",
    "                        param_grid=param_test_2,\n",
    "                        scoring='roc_auc', verbose=2)\n",
    "\n",
    "gsearch2.fit(X_train, y_train)"
   ]
  },
  {
   "cell_type": "code",
   "execution_count": 23,
   "metadata": {
    "collapsed": false
   },
   "outputs": [
    {
     "name": "stdout",
     "output_type": "stream",
     "text": [
      "0.776 (+/-0.006) for {'max_features': 0.10000000000000001, 'n_estimators': 100, 'criterion': 'entropy'}\n",
      "0.779 (+/-0.006) for {'max_features': 0.32500000000000001, 'n_estimators': 100, 'criterion': 'entropy'}\n",
      "0.779 (+/-0.004) for {'max_features': 0.55000000000000004, 'n_estimators': 100, 'criterion': 'entropy'}\n",
      "0.779 (+/-0.006) for {'max_features': 0.77500000000000002, 'n_estimators': 100, 'criterion': 'entropy'}\n",
      "0.779 (+/-0.004) for {'max_features': 1.0, 'n_estimators': 100, 'criterion': 'entropy'}\n",
      "{'max_features': 0.32500000000000001, 'n_estimators': 100, 'criterion': 'entropy'}\n",
      "0.7794265436\n"
     ]
    }
   ],
   "source": [
    "means = gsearch2.cv_results_['mean_test_score']\n",
    "stds = gsearch2.cv_results_['std_test_score']\n",
    "for mean, std, params in zip(means, stds, gsearch2.cv_results_['params']):\n",
    "    print(\"%0.3f (+/-%0.03f) for %r\"% (mean, std * 2, params))\n",
    "print gsearch2.best_params_\n",
    "print gsearch2.best_score_"
   ]
  },
  {
   "cell_type": "markdown",
   "metadata": {},
   "source": [
    "# Parameter Tuning for Boosted Trees"
   ]
  },
  {
   "cell_type": "code",
   "execution_count": 27,
   "metadata": {
    "collapsed": true
   },
   "outputs": [],
   "source": [
    "import xgboost as xgb\n",
    "from xgboost.sklearn import XGBClassifier"
   ]
  },
  {
   "cell_type": "code",
   "execution_count": 40,
   "metadata": {
    "collapsed": false
   },
   "outputs": [
    {
     "name": "stdout",
     "output_type": "stream",
     "text": [
      "Fitting 3 folds for each of 9 candidates, totalling 27 fits\n",
      "[CV] max_depth=3 .....................................................\n",
      "[CV] max_depth=3 .....................................................\n",
      "[CV] max_depth=3 .....................................................\n",
      "[CV] max_depth=5 .....................................................\n",
      "[CV] ...................................... max_depth=3, total=  44.6s\n",
      "[CV] max_depth=5 .....................................................\n",
      "[CV] ...................................... max_depth=3, total=  45.1s\n",
      "[CV] max_depth=5 .....................................................\n",
      "[CV] ...................................... max_depth=3, total=  45.2s\n",
      "[CV] max_depth=7 .....................................................\n",
      "[CV] ...................................... max_depth=5, total= 1.2min\n",
      "[CV] max_depth=7 .....................................................\n",
      "[CV] ...................................... max_depth=5, total= 1.2min\n",
      "[CV] max_depth=7 .....................................................\n",
      "[CV] ...................................... max_depth=5, total= 1.3min\n",
      "[CV] max_depth=9 .....................................................\n",
      "[CV] ...................................... max_depth=7, total= 1.8min\n",
      "[CV] max_depth=9 .....................................................\n",
      "[CV] ...................................... max_depth=7, total= 1.8min\n",
      "[CV] max_depth=9 .....................................................\n",
      "[CV] ...................................... max_depth=7, total= 1.8min\n",
      "[CV] max_depth=11 ....................................................\n",
      "[CV] ...................................... max_depth=9, total= 2.3min\n",
      "[CV] max_depth=11 ....................................................\n",
      "[CV] ...................................... max_depth=9, total= 2.3min\n",
      "[CV] max_depth=11 ....................................................\n",
      "[CV] ...................................... max_depth=9, total= 2.3min\n",
      "[CV] max_depth=13 ....................................................\n",
      "[CV] ..................................... max_depth=11, total= 2.7min\n",
      "[CV] max_depth=13 ....................................................\n",
      "[CV] ..................................... max_depth=11, total= 2.8min\n",
      "[CV] max_depth=13 ....................................................\n",
      "[CV] ..................................... max_depth=11, total= 2.8min\n",
      "[CV] max_depth=15 ....................................................\n",
      "[CV] ..................................... max_depth=13, total= 3.4min\n",
      "[CV] max_depth=15 ....................................................\n",
      "[CV] ..................................... max_depth=13, total= 3.4min\n",
      "[CV] max_depth=15 ....................................................\n",
      "[CV] ..................................... max_depth=13, total= 3.3min\n",
      "[CV] max_depth=17 ....................................................\n",
      "[CV] ..................................... max_depth=15, total= 3.8min\n",
      "[CV] max_depth=17 ....................................................\n",
      "[CV] ..................................... max_depth=15, total= 3.8min\n",
      "[CV] max_depth=17 ....................................................\n",
      "[CV] ..................................... max_depth=15, total= 3.8min\n",
      "[CV] max_depth=19 ....................................................\n",
      "[CV] ..................................... max_depth=17, total= 4.3min\n",
      "[CV] max_depth=19 ....................................................\n",
      "[CV] ..................................... max_depth=17, total= 4.3min\n",
      "[CV] max_depth=19 ....................................................\n",
      "[CV] ..................................... max_depth=17, total= 4.2min\n",
      "[CV] ..................................... max_depth=19, total= 4.4min\n",
      "[CV] ..................................... max_depth=19, total= 4.2min\n",
      "[CV] ..................................... max_depth=19, total= 3.9min\n"
     ]
    },
    {
     "name": "stderr",
     "output_type": "stream",
     "text": [
      "[Parallel(n_jobs=4)]: Done  27 out of  27 | elapsed: 19.8min finished\n"
     ]
    },
    {
     "data": {
      "text/plain": [
       "GridSearchCV(cv=None, error_score='raise',\n",
       "       estimator=XGBClassifier(base_score=0.5, colsample_bylevel=1, colsample_bytree=0.8,\n",
       "       gamma=0, learning_rate=0.1, max_delta_step=0, max_depth=3,\n",
       "       min_child_weight=1, missing=None, n_estimators=100, nthread=4,\n",
       "       objective='binary:logistic', reg_alpha=0, reg_lambda=1,\n",
       "       scale_pos_weight=1, seed=27, silent=True, subsample=0.8),\n",
       "       fit_params={}, iid=True, n_jobs=4,\n",
       "       param_grid={'max_depth': [3, 5, 7, 9, 11, 13, 15, 17, 19]},\n",
       "       pre_dispatch='2*n_jobs', refit=True, return_train_score=True,\n",
       "       scoring='roc_auc', verbose=2)"
      ]
     },
     "execution_count": 40,
     "metadata": {},
     "output_type": "execute_result"
    }
   ],
   "source": [
    "#Grid seach on max depth\n",
    "param_test1 = {\n",
    "    'max_depth':range(3,20,2),\n",
    "}\n",
    "gsearch3 = GridSearchCV(estimator = XGBClassifier(learning_rate =0.1, n_estimators=100,\n",
    "                                        gamma=0, subsample=0.8, colsample_bytree=0.8,\n",
    "                                        objective= 'binary:logistic', nthread=4, scale_pos_weight=1, seed=27), \n",
    "                       param_grid = param_test1, scoring='roc_auc',n_jobs=4, verbose=2)\n",
    "gsearch3.fit(X_train, y_train)"
   ]
  },
  {
   "cell_type": "code",
   "execution_count": 41,
   "metadata": {
    "collapsed": false
   },
   "outputs": [
    {
     "name": "stdout",
     "output_type": "stream",
     "text": [
      "0.784 (+/-0.005) for {'max_depth': 3}\n",
      "0.788 (+/-0.004) for {'max_depth': 5}\n",
      "0.789 (+/-0.003) for {'max_depth': 7}\n",
      "0.789 (+/-0.005) for {'max_depth': 9}\n",
      "0.787 (+/-0.004) for {'max_depth': 11}\n",
      "0.786 (+/-0.007) for {'max_depth': 13}\n",
      "0.785 (+/-0.002) for {'max_depth': 15}\n",
      "0.786 (+/-0.005) for {'max_depth': 17}\n",
      "0.785 (+/-0.005) for {'max_depth': 19}\n",
      "{'max_depth': 7}\n",
      "0.789183067768\n"
     ]
    }
   ],
   "source": [
    "means = gsearch3.cv_results_['mean_test_score']\n",
    "stds = gsearch3.cv_results_['std_test_score']\n",
    "for mean, std, params in zip(means, stds, gsearch3.cv_results_['params']):\n",
    "    print(\"%0.3f (+/-%0.03f) for %r\"% (mean, std * 2, params))\n",
    "print gsearch3.best_params_\n",
    "print gsearch3.best_score_"
   ]
  },
  {
   "cell_type": "code",
   "execution_count": 43,
   "metadata": {
    "collapsed": false
   },
   "outputs": [
    {
     "data": {
      "image/png": "[encoded data removed]",
      "text/plain": [
       "<matplotlib.figure.Figure at 0x10c42e3d0>"
      ]
     },
     "metadata": {},
     "output_type": "display_data"
    }
   ],
   "source": [
    "xs = range(3,20,2)\n",
    "ys = gsearch3.cv_results_['mean_test_score']\n",
    "plt.plot(xs,ys)\n",
    "plt.title(\"Mean Test Score(ROC_AUC) vs Max Depth\")\n",
    "plt.ylabel(\"Mean ROC_AUC Score\")\n",
    "plt.xlabel(\"Max Depth\")\n",
    "plt.savefig(\"plots/xgb_depth.png\")"
   ]
  },
  {
   "cell_type": "code",
   "execution_count": 44,
   "metadata": {
    "collapsed": false
   },
   "outputs": [
    {
     "name": "stdout",
     "output_type": "stream",
     "text": [
      "Fitting 3 folds for each of 16 candidates, totalling 48 fits\n",
      "[CV] subsample=0.6, colsample_bytree=0.6 .............................\n",
      "[CV] subsample=0.6, colsample_bytree=0.6 .............................\n",
      "[CV] subsample=0.6, colsample_bytree=0.6 .............................\n",
      "[CV] subsample=0.7, colsample_bytree=0.6 .............................\n",
      "[CV] .............. subsample=0.7, colsample_bytree=0.6, total= 1.5min\n",
      "[CV] subsample=0.7, colsample_bytree=0.6 .............................\n",
      "[CV] .............. subsample=0.6, colsample_bytree=0.6, total= 1.5min\n",
      "[CV] subsample=0.7, colsample_bytree=0.6 .............................\n",
      "[CV] .............. subsample=0.6, colsample_bytree=0.6, total= 1.5min\n",
      "[CV] subsample=0.8, colsample_bytree=0.6 .............................\n",
      "[CV] .............. subsample=0.6, colsample_bytree=0.6, total= 1.5min\n",
      "[CV] subsample=0.8, colsample_bytree=0.6 .............................\n",
      "[CV] .............. subsample=0.8, colsample_bytree=0.6, total= 1.3min\n",
      "[CV] subsample=0.8, colsample_bytree=0.6 .............................\n",
      "[CV] .............. subsample=0.7, colsample_bytree=0.6, total= 1.3min\n",
      "[CV] subsample=0.9, colsample_bytree=0.6 .............................\n",
      "[CV] .............. subsample=0.8, colsample_bytree=0.6, total= 1.3min\n",
      "[CV] subsample=0.9, colsample_bytree=0.6 .............................\n",
      "[CV] .............. subsample=0.7, colsample_bytree=0.6, total= 1.4min\n",
      "[CV] subsample=0.9, colsample_bytree=0.6 .............................\n",
      "[CV] .............. subsample=0.9, colsample_bytree=0.6, total= 1.4min\n",
      "[CV] subsample=0.6, colsample_bytree=0.7 .............................\n",
      "[CV] .............. subsample=0.9, colsample_bytree=0.6, total= 1.4min\n",
      "[CV] subsample=0.6, colsample_bytree=0.7 .............................\n",
      "[CV] .............. subsample=0.8, colsample_bytree=0.6, total= 1.4min\n",
      "[CV] subsample=0.6, colsample_bytree=0.7 .............................\n",
      "[CV] .............. subsample=0.9, colsample_bytree=0.6, total= 1.4min\n",
      "[CV] subsample=0.7, colsample_bytree=0.7 .............................\n",
      "[CV] .............. subsample=0.7, colsample_bytree=0.7, total= 1.6min\n",
      "[CV] subsample=0.7, colsample_bytree=0.7 .............................\n",
      "[CV] .............. subsample=0.6, colsample_bytree=0.7, total= 1.6min\n",
      "[CV] subsample=0.7, colsample_bytree=0.7 .............................\n",
      "[CV] .............. subsample=0.6, colsample_bytree=0.7, total= 1.6min\n",
      "[CV] subsample=0.8, colsample_bytree=0.7 .............................\n",
      "[CV] .............. subsample=0.6, colsample_bytree=0.7, total= 1.6min\n",
      "[CV] subsample=0.8, colsample_bytree=0.7 .............................\n",
      "[CV] .............. subsample=0.8, colsample_bytree=0.7, total= 1.6min\n",
      "[CV] subsample=0.8, colsample_bytree=0.7 .............................\n",
      "[CV] .............. subsample=0.8, colsample_bytree=0.7, total= 1.6min\n",
      "[CV] .............. subsample=0.7, colsample_bytree=0.7, total= 1.6min\n",
      "[CV] subsample=0.9, colsample_bytree=0.7 .............................\n",
      "[CV] subsample=0.9, colsample_bytree=0.7 .............................\n",
      "[CV] .............. subsample=0.7, colsample_bytree=0.7, total= 1.6min\n",
      "[CV] subsample=0.9, colsample_bytree=0.7 .............................\n",
      "[CV] .............. subsample=0.9, colsample_bytree=0.7, total= 1.5min\n",
      "[CV] subsample=0.6, colsample_bytree=0.8 .............................\n",
      "[CV] .............. subsample=0.9, colsample_bytree=0.7, total= 1.5min\n",
      "[CV] subsample=0.6, colsample_bytree=0.8 .............................\n",
      "[CV] .............. subsample=0.9, colsample_bytree=0.7, total= 1.5min\n",
      "[CV] .............. subsample=0.8, colsample_bytree=0.7, total= 1.5min\n",
      "[CV] subsample=0.6, colsample_bytree=0.8 .............................\n",
      "[CV] subsample=0.7, colsample_bytree=0.8 .............................\n",
      "[CV] .............. subsample=0.7, colsample_bytree=0.8, total= 1.6min\n",
      "[CV] subsample=0.7, colsample_bytree=0.8 .............................\n",
      "[CV] .............. subsample=0.6, colsample_bytree=0.8, total= 1.7min\n",
      "[CV] .............. subsample=0.6, colsample_bytree=0.8, total= 1.7min\n",
      "[CV] subsample=0.7, colsample_bytree=0.8 .............................\n",
      "[CV] subsample=0.8, colsample_bytree=0.8 .............................\n",
      "[CV] .............. subsample=0.6, colsample_bytree=0.8, total= 1.7min\n",
      "[CV] subsample=0.8, colsample_bytree=0.8 .............................\n",
      "[CV] .............. subsample=0.7, colsample_bytree=0.8, total= 1.8min\n",
      "[CV] subsample=0.8, colsample_bytree=0.8 .............................\n",
      "[CV] .............. subsample=0.8, colsample_bytree=0.8, total= 1.7min\n",
      "[CV] subsample=0.9, colsample_bytree=0.8 .............................\n",
      "[CV] .............. subsample=0.8, colsample_bytree=0.8, total= 1.7min\n",
      "[CV] subsample=0.9, colsample_bytree=0.8 .............................\n",
      "[CV] .............. subsample=0.7, colsample_bytree=0.8, total= 1.8min\n",
      "[CV] subsample=0.9, colsample_bytree=0.8 .............................\n",
      "[CV] .............. subsample=0.9, colsample_bytree=0.8, total= 1.7min\n",
      "[CV] subsample=0.6, colsample_bytree=0.9 .............................\n"
     ]
    },
    {
     "name": "stderr",
     "output_type": "stream",
     "text": [
      "[Parallel(n_jobs=4)]: Done  33 tasks      | elapsed: 14.2min\n"
     ]
    },
    {
     "name": "stdout",
     "output_type": "stream",
     "text": [
      "[CV] .............. subsample=0.9, colsample_bytree=0.8, total= 1.7min\n",
      "[CV] subsample=0.6, colsample_bytree=0.9 .............................\n",
      "[CV] .............. subsample=0.8, colsample_bytree=0.8, total= 1.7min\n",
      "[CV] subsample=0.6, colsample_bytree=0.9 .............................\n",
      "[CV] .............. subsample=0.9, colsample_bytree=0.8, total= 1.7min\n",
      "[CV] subsample=0.7, colsample_bytree=0.9 .............................\n",
      "[CV] .............. subsample=0.7, colsample_bytree=0.9, total= 1.8min\n",
      "[CV] subsample=0.7, colsample_bytree=0.9 .............................\n",
      "[CV] .............. subsample=0.6, colsample_bytree=0.9, total= 1.9min\n",
      "[CV] subsample=0.7, colsample_bytree=0.9 .............................\n",
      "[CV] .............. subsample=0.6, colsample_bytree=0.9, total= 1.9min\n",
      "[CV] subsample=0.8, colsample_bytree=0.9 .............................\n",
      "[CV] .............. subsample=0.6, colsample_bytree=0.9, total= 1.9min\n",
      "[CV] subsample=0.8, colsample_bytree=0.9 .............................\n",
      "[CV] .............. subsample=0.8, colsample_bytree=0.9, total= 1.8min\n",
      "[CV] subsample=0.8, colsample_bytree=0.9 .............................\n",
      "[CV] .............. subsample=0.7, colsample_bytree=0.9, total= 1.8min\n",
      "[CV] subsample=0.9, colsample_bytree=0.9 .............................\n",
      "[CV] .............. subsample=0.8, colsample_bytree=0.9, total= 1.8min\n",
      "[CV] subsample=0.9, colsample_bytree=0.9 .............................\n",
      "[CV] .............. subsample=0.7, colsample_bytree=0.9, total= 1.8min\n",
      "[CV] subsample=0.9, colsample_bytree=0.9 .............................\n",
      "[CV] .............. subsample=0.9, colsample_bytree=0.9, total= 1.7min\n",
      "[CV] .............. subsample=0.9, colsample_bytree=0.9, total= 1.7min\n",
      "[CV] .............. subsample=0.9, colsample_bytree=0.9, total= 1.7min\n",
      "[CV] .............. subsample=0.8, colsample_bytree=0.9, total= 1.8min\n"
     ]
    },
    {
     "name": "stderr",
     "output_type": "stream",
     "text": [
      "[Parallel(n_jobs=4)]: Done  48 out of  48 | elapsed: 19.7min finished\n"
     ]
    },
    {
     "data": {
      "text/plain": [
       "GridSearchCV(cv=None, error_score='raise',\n",
       "       estimator=XGBClassifier(base_score=0.5, colsample_bylevel=1, colsample_bytree=1,\n",
       "       gamma=0, learning_rate=0.1, max_delta_step=0, max_depth=7,\n",
       "       min_child_weight=1, missing=None, n_estimators=100, nthread=4,\n",
       "       objective='binary:logistic', reg_alpha=0, reg_lambda=1,\n",
       "       scale_pos_weight=1, seed=27, silent=True, subsample=1),\n",
       "       fit_params={}, iid=False, n_jobs=4,\n",
       "       param_grid={'subsample': [0.6, 0.7, 0.8, 0.9], 'colsample_bytree': [0.6, 0.7, 0.8, 0.9]},\n",
       "       pre_dispatch='2*n_jobs', refit=True, return_train_score=True,\n",
       "       scoring='roc_auc', verbose=2)"
      ]
     },
     "execution_count": 44,
     "metadata": {},
     "output_type": "execute_result"
    }
   ],
   "source": [
    "#Grid seach on subsample and max_features\n",
    "#Choose all predictors except target & IDcols\n",
    "param_test1 = {\n",
    "    'subsample':[i/10.0 for i in range(6,10)],\n",
    "    'colsample_bytree':[i/10.0 for i in range(6,10)]\n",
    "}\n",
    "gsearch4 = GridSearchCV(estimator = XGBClassifier(learning_rate=0.1, n_estimators=100, max_depth=7,\n",
    "                                        gamma=0, objective= 'binary:logistic', nthread=4, \n",
    "                                        scale_pos_weight=1,seed=27), \n",
    "                       param_grid=param_test1, scoring='roc_auc',n_jobs=4,iid=False, verbose = 2)\n",
    "\n",
    "gsearch4.fit(X_train, y_train)"
   ]
  },
  {
   "cell_type": "code",
   "execution_count": 45,
   "metadata": {
    "collapsed": false
   },
   "outputs": [
    {
     "name": "stdout",
     "output_type": "stream",
     "text": [
      "0.788 (+/-0.003) for {'subsample': 0.6, 'colsample_bytree': 0.6}\n",
      "0.788 (+/-0.007) for {'subsample': 0.7, 'colsample_bytree': 0.6}\n",
      "0.789 (+/-0.004) for {'subsample': 0.8, 'colsample_bytree': 0.6}\n",
      "0.789 (+/-0.004) for {'subsample': 0.9, 'colsample_bytree': 0.6}\n",
      "0.787 (+/-0.004) for {'subsample': 0.6, 'colsample_bytree': 0.7}\n",
      "0.788 (+/-0.004) for {'subsample': 0.7, 'colsample_bytree': 0.7}\n",
      "0.789 (+/-0.004) for {'subsample': 0.8, 'colsample_bytree': 0.7}\n",
      "0.789 (+/-0.004) for {'subsample': 0.9, 'colsample_bytree': 0.7}\n",
      "0.787 (+/-0.007) for {'subsample': 0.6, 'colsample_bytree': 0.8}\n",
      "0.788 (+/-0.005) for {'subsample': 0.7, 'colsample_bytree': 0.8}\n",
      "0.789 (+/-0.003) for {'subsample': 0.8, 'colsample_bytree': 0.8}\n",
      "0.788 (+/-0.005) for {'subsample': 0.9, 'colsample_bytree': 0.8}\n",
      "0.787 (+/-0.005) for {'subsample': 0.6, 'colsample_bytree': 0.9}\n",
      "0.789 (+/-0.005) for {'subsample': 0.7, 'colsample_bytree': 0.9}\n",
      "0.789 (+/-0.004) for {'subsample': 0.8, 'colsample_bytree': 0.9}\n",
      "0.788 (+/-0.005) for {'subsample': 0.9, 'colsample_bytree': 0.9}\n",
      "{'subsample': 0.9, 'colsample_bytree': 0.6}\n",
      "0.789481224286\n"
     ]
    }
   ],
   "source": [
    "means = gsearch4.cv_results_['mean_test_score']\n",
    "stds = gsearch4.cv_results_['std_test_score']\n",
    "for mean, std, params in zip(means, stds, gsearch4.cv_results_['params']):\n",
    "    print(\"%0.3f (+/-%0.03f) for %r\"% (mean, std * 2, params))\n",
    "print gsearch4.best_params_\n",
    "print gsearch4.best_score_"
   ]
  },
  {
   "cell_type": "code",
   "execution_count": 47,
   "metadata": {
    "collapsed": false
   },
   "outputs": [
    {
     "name": "stdout",
     "output_type": "stream",
     "text": [
      "Fitting 3 folds for each of 5 candidates, totalling 15 fits\n",
      "[CV] reg_alpha=1e-05 .................................................\n",
      "[CV] reg_alpha=1e-05 .................................................\n",
      "[CV] reg_alpha=1e-05 .................................................\n",
      "[CV] reg_alpha=0.01 ..................................................\n",
      "[CV] .................................. reg_alpha=1e-05, total= 1.3min\n",
      "[CV] reg_alpha=0.01 ..................................................\n",
      "[CV] .................................. reg_alpha=1e-05, total= 1.3min\n",
      "[CV] reg_alpha=0.01 ..................................................\n",
      "[CV] ................................... reg_alpha=0.01, total= 1.3min\n",
      "[CV] .................................. reg_alpha=1e-05, total= 1.3min\n",
      "[CV] reg_alpha=0.1 ...................................................\n",
      "[CV] reg_alpha=0.1 ...................................................\n",
      "[CV] ................................... reg_alpha=0.01, total= 1.3min\n",
      "[CV] reg_alpha=0.1 ...................................................\n",
      "[CV] ................................... reg_alpha=0.01, total= 1.3min\n",
      "[CV] .................................... reg_alpha=0.1, total= 1.3min\n",
      "[CV] reg_alpha=1 .....................................................\n",
      "[CV] reg_alpha=1 .....................................................\n",
      "[CV] .................................... reg_alpha=0.1, total= 1.3min\n",
      "[CV] reg_alpha=1 .....................................................\n",
      "[CV] .................................... reg_alpha=0.1, total= 1.2min\n",
      "[CV] reg_alpha=100 ...................................................\n",
      "[CV] ...................................... reg_alpha=1, total= 1.2min\n",
      "[CV] ...................................... reg_alpha=1, total= 1.2min\n",
      "[CV] reg_alpha=100 ...................................................\n",
      "[CV] reg_alpha=100 ...................................................\n",
      "[CV] ...................................... reg_alpha=1, total= 1.2min\n",
      "[CV] .................................... reg_alpha=100, total=  59.9s\n",
      "[CV] .................................... reg_alpha=100, total= 1.0min\n",
      "[CV] .................................... reg_alpha=100, total= 1.0min\n"
     ]
    },
    {
     "name": "stderr",
     "output_type": "stream",
     "text": [
      "[Parallel(n_jobs=4)]: Done  15 out of  15 | elapsed:  5.0min finished\n"
     ]
    },
    {
     "data": {
      "text/plain": [
       "GridSearchCV(cv=None, error_score='raise',\n",
       "       estimator=XGBClassifier(base_score=0.5, colsample_bylevel=1, colsample_bytree=0.6,\n",
       "       gamma=0, learning_rate=0.1, max_delta_step=0, max_depth=7,\n",
       "       min_child_weight=1, missing=None, n_estimators=100, nthread=4,\n",
       "       objective='binary:logistic', reg_alpha=0, reg_lambda=1,\n",
       "       scale_pos_weight=1, seed=27, silent=True, subsample=0.9),\n",
       "       fit_params={}, iid=False, n_jobs=4,\n",
       "       param_grid={'reg_alpha': [1e-05, 0.01, 0.1, 1, 100]},\n",
       "       pre_dispatch='2*n_jobs', refit=True, return_train_score=True,\n",
       "       scoring='roc_auc', verbose=2)"
      ]
     },
     "execution_count": 47,
     "metadata": {},
     "output_type": "execute_result"
    }
   ],
   "source": [
    "param_test3 = {\n",
    "    'reg_alpha':[1e-5, 1e-2, 0.1, 1, 100]\n",
    "}\n",
    "gsearch5 = GridSearchCV(estimator = XGBClassifier( learning_rate =0.1, n_estimators=100, max_depth=7,\n",
    "                                        subsample=0.9, colsample_bytree=0.6,\n",
    "                                        objective= 'binary:logistic', nthread=4, scale_pos_weight=1,seed=27), \n",
    "                       param_grid = param_test3, scoring='roc_auc',n_jobs=4,iid=False, verbose=2)\n",
    "gsearch5.fit(X_train, y_train)"
   ]
  },
  {
   "cell_type": "code",
   "execution_count": 50,
   "metadata": {
    "collapsed": false
   },
   "outputs": [
    {
     "name": "stdout",
     "output_type": "stream",
     "text": [
      "Fitting 3 folds for each of 4 candidates, totalling 12 fits\n",
      "[CV] reg_alpha=0.1 ...................................................\n",
      "[CV] reg_alpha=0.1 ...................................................\n",
      "[CV] reg_alpha=0.1 ...................................................\n",
      "[CV] reg_alpha=0.5 ...................................................\n",
      "[CV] .................................... reg_alpha=0.1, total= 1.3min\n",
      "[CV] reg_alpha=0.5 ...................................................\n",
      "[CV] .................................... reg_alpha=0.1, total= 1.3min\n",
      "[CV] reg_alpha=0.5 ...................................................\n",
      "[CV] .................................... reg_alpha=0.1, total= 1.3min\n",
      "[CV] reg_alpha=1 .....................................................\n",
      "[CV] .................................... reg_alpha=0.5, total= 1.3min\n",
      "[CV] reg_alpha=1 .....................................................\n",
      "[CV] .................................... reg_alpha=0.5, total= 1.4min\n",
      "[CV] reg_alpha=1 .....................................................\n",
      "[CV] .................................... reg_alpha=0.5, total= 1.4min\n",
      "[CV] reg_alpha=5 .....................................................\n",
      "[CV] ...................................... reg_alpha=1, total= 1.4min\n",
      "[CV] ...................................... reg_alpha=1, total= 1.4min\n",
      "[CV] reg_alpha=5 .....................................................\n",
      "[CV] reg_alpha=5 .....................................................\n",
      "[CV] ...................................... reg_alpha=5, total= 1.2min\n",
      "[CV] ...................................... reg_alpha=1, total= 1.2min\n",
      "[CV] ...................................... reg_alpha=5, total= 1.2min\n",
      "[CV] ...................................... reg_alpha=5, total= 1.2min\n"
     ]
    },
    {
     "name": "stderr",
     "output_type": "stream",
     "text": [
      "[Parallel(n_jobs=4)]: Done  12 out of  12 | elapsed:  3.9min remaining:    0.0s\n",
      "[Parallel(n_jobs=4)]: Done  12 out of  12 | elapsed:  3.9min finished\n"
     ]
    },
    {
     "data": {
      "text/plain": [
       "GridSearchCV(cv=None, error_score='raise',\n",
       "       estimator=XGBClassifier(base_score=0.5, colsample_bylevel=1, colsample_bytree=0.6,\n",
       "       gamma=0, learning_rate=0.1, max_delta_step=0, max_depth=7,\n",
       "       min_child_weight=1, missing=None, n_estimators=100, nthread=4,\n",
       "       objective='binary:logistic', reg_alpha=0, reg_lambda=1,\n",
       "       scale_pos_weight=1, seed=27, silent=True, subsample=0.9),\n",
       "       fit_params={}, iid=False, n_jobs=4,\n",
       "       param_grid={'reg_alpha': [0.1, 0.5, 1, 5]}, pre_dispatch='2*n_jobs',\n",
       "       refit=True, return_train_score=True, scoring='roc_auc', verbose=2)"
      ]
     },
     "execution_count": 50,
     "metadata": {},
     "output_type": "execute_result"
    }
   ],
   "source": [
    "param_test4 = {\n",
    "    'reg_alpha':[0.1, 0.5, 1, 5]\n",
    "}\n",
    "gsearch6 = GridSearchCV(estimator = XGBClassifier( learning_rate =0.1, n_estimators=100, max_depth=7,\n",
    "                                        subsample=0.9, colsample_bytree=0.6,\n",
    "                                        objective= 'binary:logistic', nthread=4, scale_pos_weight=1,seed=27), \n",
    "                       param_grid = param_test4, scoring='roc_auc',n_jobs=4,iid=False, verbose=2)\n",
    "gsearch6.fit(X_train, y_train)"
   ]
  },
  {
   "cell_type": "code",
   "execution_count": 53,
   "metadata": {
    "collapsed": false
   },
   "outputs": [
    {
     "name": "stdout",
     "output_type": "stream",
     "text": [
      "0.790 (+/-0.004) for {'reg_alpha': 0.1}\n",
      "0.790 (+/-0.004) for {'reg_alpha': 0.5}\n",
      "0.790 (+/-0.006) for {'reg_alpha': 1}\n",
      "0.791 (+/-0.006) for {'reg_alpha': 5}\n",
      "{'reg_alpha': 5}\n",
      "0.790644512981\n"
     ]
    }
   ],
   "source": [
    "means = gsearch6.cv_results_['mean_test_score']\n",
    "stds = gsearch6.cv_results_['std_test_score']\n",
    "for mean, std, params in zip(means, stds, gsearch6.cv_results_['params']):\n",
    "    print(\"%0.3f (+/-%0.03f) for %r\"% (mean, std * 2, params))\n",
    "print gsearch6.best_params_\n",
    "print gsearch6.best_score_"
   ]
  },
  {
   "cell_type": "code",
   "execution_count": 59,
   "metadata": {
    "collapsed": true
   },
   "outputs": [],
   "source": [
    "from sklearn.model_selection import train_test_split"
   ]
  },
  {
   "cell_type": "code",
   "execution_count": 68,
   "metadata": {
    "collapsed": true
   },
   "outputs": [],
   "source": [
    "X_train, X_val, y_train, y_val = train_test_split(X_train, y_train, test_size=0.33)"
   ]
  },
  {
   "cell_type": "code",
   "execution_count": 69,
   "metadata": {
    "collapsed": false
   },
   "outputs": [
    {
     "data": {
      "text/plain": [
       "((43326, 366), (43326,))"
      ]
     },
     "execution_count": 69,
     "metadata": {},
     "output_type": "execute_result"
    }
   ],
   "source": [
    "X_train.shape, y_train.shape"
   ]
  },
  {
   "cell_type": "code",
   "execution_count": 77,
   "metadata": {
    "collapsed": false
   },
   "outputs": [
    {
     "name": "stdout",
     "output_type": "stream",
     "text": [
      "Model Report\n",
      "Accuracy (Train): 0.789664\n",
      "AUC Score (Train): 0.621708\n",
      "\n",
      "Accuracy (Test): 0.776159\n",
      "AUC Score (Test): 0.605098\n"
     ]
    }
   ],
   "source": [
    "xgb = XGBClassifier(base_score=0.5, colsample_bylevel=1, colsample_bytree=0.6,\n",
    "       gamma=0, learning_rate=0.01, max_delta_step=0, max_depth=7,\n",
    "       min_child_weight=1, missing=None, n_estimators=100, nthread=4,\n",
    "       objective='binary:logistic', reg_alpha=5, reg_lambda=1,\n",
    "       scale_pos_weight=1, seed=27, silent=False, subsample=0.9)\n",
    "evaluate_model(xgb, X_train, y_train, X_val, y_val)"
   ]
  },
  {
   "cell_type": "code",
   "execution_count": 78,
   "metadata": {
    "collapsed": false
   },
   "outputs": [
    {
     "name": "stdout",
     "output_type": "stream",
     "text": [
      "Model Report\n",
      "Accuracy (Train): 0.829317\n",
      "AUC Score (Train): 0.706985\n",
      "\n",
      "Accuracy (Test): 0.785905\n",
      "AUC Score (Test): 0.647474\n"
     ]
    }
   ],
   "source": [
    "xgb = XGBClassifier(base_score=0.5, colsample_bylevel=1, colsample_bytree=0.6,\n",
    "       gamma=0, learning_rate=0.01, max_delta_step=0, max_depth=7,\n",
    "       min_child_weight=1, missing=None, n_estimators=1000, nthread=4,\n",
    "       objective='binary:logistic', reg_alpha=5, reg_lambda=1,\n",
    "       scale_pos_weight=1, seed=27, silent=False, subsample=0.9)\n",
    "evaluate_model(xgb, X_train, y_train, X_val, y_val)"
   ]
  },
  {
   "cell_type": "code",
   "execution_count": 81,
   "metadata": {
    "collapsed": false
   },
   "outputs": [
    {
     "name": "stdout",
     "output_type": "stream",
     "text": [
      "Model Report\n",
      "Accuracy (Train): 0.921064\n",
      "AUC Score (Train): 0.858074\n",
      "\n",
      "Accuracy (Test): 0.785483\n",
      "AUC Score (Test): 0.656715\n"
     ]
    }
   ],
   "source": [
    "xgb = XGBClassifier(base_score=0.5, colsample_bylevel=1, colsample_bytree=0.6,\n",
    "       gamma=0, learning_rate=0.01, max_delta_step=0, max_depth=7,\n",
    "       min_child_weight=1, missing=None, n_estimators=5000, nthread=4,\n",
    "       objective='binary:logistic', reg_alpha=5, reg_lambda=1,\n",
    "       scale_pos_weight=1, seed=27, silent=False, subsample=0.9)\n",
    "evaluate_model(xgb, X_train, y_train, X_val, y_val)"
   ]
  },
  {
   "cell_type": "markdown",
   "metadata": {},
   "source": [
    "Model probably overfiting with 5000 estimators, trying other regularization parameters"
   ]
  },
  {
   "cell_type": "code",
   "execution_count": 94,
   "metadata": {
    "collapsed": false
   },
   "outputs": [
    {
     "name": "stdout",
     "output_type": "stream",
     "text": [
      "Fitting 3 folds for each of 12 candidates, totalling 36 fits\n",
      "[CV] max_depth=3, min_child_weight=1 .................................\n",
      "[CV] max_depth=3, min_child_weight=1 .................................\n",
      "[CV] max_depth=3, min_child_weight=1 .................................\n",
      "[CV] max_depth=3, min_child_weight=3 .................................\n",
      "[CV] .................. max_depth=3, min_child_weight=1, total=  30.7s\n",
      "[CV] max_depth=3, min_child_weight=3 .................................\n",
      "[CV] .................. max_depth=3, min_child_weight=1, total=  31.4s\n",
      "[CV] max_depth=3, min_child_weight=3 .................................\n",
      "[CV] .................. max_depth=3, min_child_weight=3, total=  31.6s\n",
      "[CV] .................. max_depth=3, min_child_weight=1, total=  31.9s\n",
      "[CV] max_depth=3, min_child_weight=5 .................................\n",
      "[CV] max_depth=3, min_child_weight=5 .................................\n",
      "[CV] .................. max_depth=3, min_child_weight=3, total=  34.5s\n",
      "[CV] max_depth=3, min_child_weight=5 .................................\n",
      "[CV] .................. max_depth=3, min_child_weight=3, total=  34.1s\n",
      "[CV] max_depth=5, min_child_weight=1 .................................\n",
      "[CV] .................. max_depth=3, min_child_weight=5, total=  33.8s\n",
      "[CV] max_depth=5, min_child_weight=1 .................................\n",
      "[CV] .................. max_depth=3, min_child_weight=5, total=  33.9s\n",
      "[CV] max_depth=5, min_child_weight=1 .................................\n",
      "[CV] .................. max_depth=3, min_child_weight=5, total=  25.5s\n",
      "[CV] max_depth=5, min_child_weight=3 .................................\n",
      "[CV] .................. max_depth=5, min_child_weight=1, total=  40.7s\n",
      "[CV] max_depth=5, min_child_weight=3 .................................\n",
      "[CV] .................. max_depth=5, min_child_weight=1, total=  40.6s\n",
      "[CV] max_depth=5, min_child_weight=3 .................................\n",
      "[CV] .................. max_depth=5, min_child_weight=1, total=  40.8s\n",
      "[CV] max_depth=5, min_child_weight=5 .................................\n",
      "[CV] .................. max_depth=5, min_child_weight=3, total=  40.7s\n",
      "[CV] max_depth=5, min_child_weight=5 .................................\n",
      "[CV] .................. max_depth=5, min_child_weight=3, total=  39.3s\n",
      "[CV] max_depth=5, min_child_weight=5 .................................\n",
      "[CV] .................. max_depth=5, min_child_weight=3, total=  39.2s\n",
      "[CV] max_depth=7, min_child_weight=1 .................................\n",
      "[CV] .................. max_depth=5, min_child_weight=5, total=  39.3s\n",
      "[CV] max_depth=7, min_child_weight=1 .................................\n",
      "[CV] .................. max_depth=5, min_child_weight=5, total=  37.8s\n",
      "[CV] max_depth=7, min_child_weight=1 .................................\n",
      "[CV] .................. max_depth=5, min_child_weight=5, total=  38.8s\n",
      "[CV] max_depth=7, min_child_weight=3 .................................\n",
      "[CV] .................. max_depth=7, min_child_weight=1, total=  54.0s\n",
      "[CV] max_depth=7, min_child_weight=3 .................................\n",
      "[CV] .................. max_depth=7, min_child_weight=1, total=  54.0s\n",
      "[CV] max_depth=7, min_child_weight=3 .................................\n",
      "[CV] .................. max_depth=7, min_child_weight=1, total=  56.2s\n",
      "[CV] max_depth=7, min_child_weight=5 .................................\n",
      "[CV] .................. max_depth=7, min_child_weight=3, total=  56.1s\n",
      "[CV] max_depth=7, min_child_weight=5 .................................\n",
      "[CV] .................. max_depth=7, min_child_weight=3, total=  56.9s\n",
      "[CV] max_depth=7, min_child_weight=5 .................................\n",
      "[CV] .................. max_depth=7, min_child_weight=3, total=  57.2s\n",
      "[CV] max_depth=9, min_child_weight=1 .................................\n",
      "[CV] .................. max_depth=7, min_child_weight=5, total=  57.2s\n",
      "[CV] max_depth=9, min_child_weight=1 .................................\n",
      "[CV] .................. max_depth=7, min_child_weight=5, total=  56.8s\n",
      "[CV] max_depth=9, min_child_weight=1 .................................\n",
      "[CV] .................. max_depth=7, min_child_weight=5, total=  55.9s\n",
      "[CV] max_depth=9, min_child_weight=3 .................................\n",
      "[CV] .................. max_depth=9, min_child_weight=1, total= 1.2min\n",
      "[CV] max_depth=9, min_child_weight=3 .................................\n",
      "[CV] .................. max_depth=9, min_child_weight=1, total= 1.2min\n",
      "[CV] max_depth=9, min_child_weight=3 .................................\n",
      "[CV] .................. max_depth=9, min_child_weight=1, total= 1.2min\n",
      "[CV] max_depth=9, min_child_weight=5 .................................\n",
      "[CV] .................. max_depth=9, min_child_weight=3, total= 1.2min\n",
      "[CV] max_depth=9, min_child_weight=5 .................................\n",
      "[CV] .................. max_depth=9, min_child_weight=3, total= 1.2min\n",
      "[CV] max_depth=9, min_child_weight=5 .................................\n",
      "[CV] .................. max_depth=9, min_child_weight=3, total= 1.2min\n",
      "[CV] .................. max_depth=9, min_child_weight=5, total= 1.1min\n",
      "[CV] .................. max_depth=9, min_child_weight=5, total= 1.1min\n",
      "[CV] .................. max_depth=9, min_child_weight=5, total= 1.1min\n"
     ]
    },
    {
     "name": "stderr",
     "output_type": "stream",
     "text": [
      "[Parallel(n_jobs=4)]: Done  36 out of  36 | elapsed:  7.9min finished\n"
     ]
    },
    {
     "data": {
      "text/plain": [
       "GridSearchCV(cv=None, error_score='raise',\n",
       "       estimator=XGBClassifier(base_score=0.5, colsample_bylevel=1, colsample_bytree=0.5,\n",
       "       gamma=0, learning_rate=0.1, max_delta_step=0, max_depth=3,\n",
       "       min_child_weight=1, missing=None, n_estimators=100, nthread=1,\n",
       "       objective='binary:logistic', reg_alpha=5, reg_lambda=1,\n",
       "       scale_pos_weight=1, seed=27, silent=True, subsample=0.9),\n",
       "       fit_params={}, iid=False, n_jobs=4,\n",
       "       param_grid={'max_depth': [3, 5, 7, 9], 'min_child_weight': [1, 3, 5]},\n",
       "       pre_dispatch='2*n_jobs', refit=True, return_train_score=True,\n",
       "       scoring='roc_auc', verbose=2)"
      ]
     },
     "execution_count": 94,
     "metadata": {},
     "output_type": "execute_result"
    }
   ],
   "source": [
    "param_test1 = {\n",
    "    'max_depth':range(3,10,2),\n",
    "    'min_child_weight':range(1,6,2)\n",
    "}\n",
    "gsearch6 = GridSearchCV(estimator = XGBClassifier(learning_rate=0.1, n_estimators=100, gamma=0, \n",
    "                                                  subsample=0.9, reg_alpha = 5, colsample_bytree=0.5,\n",
    "                                                  objective= 'binary:logistic', nthread=1, scale_pos_weight=1,\n",
    "                                                  seed=27), \n",
    "                       param_grid = param_test1, scoring='roc_auc',n_jobs=4,iid=False, verbose=2)\n",
    "gsearch6.fit(X_train,y_train)"
   ]
  },
  {
   "cell_type": "code",
   "execution_count": 95,
   "metadata": {
    "collapsed": false
   },
   "outputs": [
    {
     "name": "stdout",
     "output_type": "stream",
     "text": [
      "0.783 (+/-0.005) for {'max_depth': 3, 'min_child_weight': 1}\n",
      "0.783 (+/-0.005) for {'max_depth': 3, 'min_child_weight': 3}\n",
      "0.783 (+/-0.005) for {'max_depth': 3, 'min_child_weight': 5}\n",
      "0.789 (+/-0.006) for {'max_depth': 5, 'min_child_weight': 1}\n",
      "0.789 (+/-0.006) for {'max_depth': 5, 'min_child_weight': 3}\n",
      "0.789 (+/-0.006) for {'max_depth': 5, 'min_child_weight': 5}\n",
      "0.791 (+/-0.006) for {'max_depth': 7, 'min_child_weight': 1}\n",
      "0.791 (+/-0.006) for {'max_depth': 7, 'min_child_weight': 3}\n",
      "0.791 (+/-0.006) for {'max_depth': 7, 'min_child_weight': 5}\n",
      "0.790 (+/-0.005) for {'max_depth': 9, 'min_child_weight': 1}\n",
      "0.791 (+/-0.006) for {'max_depth': 9, 'min_child_weight': 3}\n",
      "0.791 (+/-0.005) for {'max_depth': 9, 'min_child_weight': 5}\n",
      "{'max_depth': 9, 'min_child_weight': 3}\n",
      "0.791025045166\n"
     ]
    }
   ],
   "source": [
    "means = gsearch6.cv_results_['mean_test_score']\n",
    "stds = gsearch6.cv_results_['std_test_score']\n",
    "for mean, std, params in zip(means, stds, gsearch6.cv_results_['params']):\n",
    "    print(\"%0.3f (+/-%0.03f) for %r\"% (mean, std * 2, params))\n",
    "print gsearch6.best_params_\n",
    "print gsearch6.best_score_"
   ]
  },
  {
   "cell_type": "code",
   "execution_count": null,
   "metadata": {
    "collapsed": true
   },
   "outputs": [],
   "source": []
  }
 ],
 "metadata": {
  "kernelspec": {
   "display_name": "Python 2",
   "language": "python",
   "name": "python2"
  },
  "language_info": {
   "codemirror_mode": {
    "name": "ipython",
    "version": 2
   },
   "file_extension": ".py",
   "mimetype": "text/x-python",
   "name": "python",
   "nbconvert_exporter": "python",
   "pygments_lexer": "ipython2",
   "version": "2.7.11"
  }
 },
 "nbformat": 4,
 "nbformat_minor": 1
}
