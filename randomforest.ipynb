{
 "cells": [
  {
   "cell_type": "code",
   "execution_count": 30,
   "metadata": {
    "collapsed": false
   },
   "outputs": [],
   "source": [
    "import numpy as np\n",
    "from sklearn.ensemble import RandomForestClassifier\n",
    "from sklearn.model_selection import GridSearchCV"
   ]
  },
  {
   "cell_type": "code",
   "execution_count": 6,
   "metadata": {
    "collapsed": true
   },
   "outputs": [],
   "source": [
    "from sklearn import metrics\n",
    "from sklearn.model_selection import KFold"
   ]
  },
  {
   "cell_type": "code",
   "execution_count": 3,
   "metadata": {
    "collapsed": false
   },
   "outputs": [
    {
     "name": "stderr",
     "output_type": "stream",
     "text": [
      "/usr/local/lib/python2.7/site-packages/matplotlib/font_manager.py:273: UserWarning: Matplotlib is building the font cache using fc-list. This may take a moment.\n",
      "  warnings.warn('Matplotlib is building the font cache using fc-list. This may take a moment.')\n"
     ]
    }
   ],
   "source": [
    "import matplotlib.pylab as plt\n",
    "%matplotlib inline"
   ]
  },
  {
   "cell_type": "code",
   "execution_count": 4,
   "metadata": {
    "collapsed": true
   },
   "outputs": [],
   "source": [
    "from data_utils import load_train, load_test, write_test"
   ]
  },
  {
   "cell_type": "code",
   "execution_count": 5,
   "metadata": {
    "collapsed": true
   },
   "outputs": [],
   "source": [
    "X_train, y_train = load_train('data/train_2008.csv')"
   ]
  },
  {
   "cell_type": "code",
   "execution_count": 16,
   "metadata": {
    "collapsed": false
   },
   "outputs": [
    {
     "data": {
      "text/plain": [
       "((64667, 366), (64667,))"
      ]
     },
     "execution_count": 16,
     "metadata": {},
     "output_type": "execute_result"
    }
   ],
   "source": [
    "X_train.shape, y_train.shape"
   ]
  },
  {
   "cell_type": "code",
   "execution_count": 19,
   "metadata": {
    "collapsed": true
   },
   "outputs": [],
   "source": [
    "y_train[y_train == 1] = -1\n",
    "y_train[y_train == 2] = 1"
   ]
  },
  {
   "cell_type": "code",
   "execution_count": 20,
   "metadata": {
    "collapsed": false
   },
   "outputs": [
    {
     "data": {
      "text/plain": [
       "array([-1, -1, -1, ..., -1, -1, -1])"
      ]
     },
     "execution_count": 20,
     "metadata": {},
     "output_type": "execute_result"
    }
   ],
   "source": [
    "y_train"
   ]
  },
  {
   "cell_type": "code",
   "execution_count": 21,
   "metadata": {
    "collapsed": true
   },
   "outputs": [],
   "source": [
    "def evaluate_model(clf, train, test):\n",
    "    X_train, y_train = zip(*train)\n",
    "    #Fit the algorithm on the data\n",
    "    clf.fit(X_train, y_train, eval_metric='auc')\n",
    "    \n",
    "    y_train_pred = clf.predict(X_train)\n",
    "    \n",
    "    X_test, y_test = zip(*test)\n",
    "    y_test_pred = clf.predict(X_test)\n",
    "    \n",
    "    #Print model report:\n",
    "    print \"Model Report\"\n",
    "    print \"Accuracy (Train): %f\" % metrics.accuracy_score(y_train, y_train_pred)\n",
    "    print \"AUC Score (Train): %f\" % metrics.roc_auc_score(y_train, y_train_pred)\n",
    "    \n",
    "    print \"\\nAccuracy (Test): %f\" % metrics.accuracy_score(y_test, y_test_pred)\n",
    "    print \"AUC Score (Test): %f\" % metrics.roc_auc_score(y_test, y_test_pred)"
   ]
  },
  {
   "cell_type": "markdown",
   "metadata": {},
   "source": [
    "## Find the right size for each tree estimator"
   ]
  },
  {
   "cell_type": "code",
   "execution_count": 32,
   "metadata": {
    "collapsed": false
   },
   "outputs": [
    {
     "name": "stdout",
     "output_type": "stream",
     "text": [
      "Fitting 3 folds for each of 17 candidates, totalling 51 fits\n",
      "[CV] n_estimators=100, criterion=entropy, max_depth=3 ................\n",
      "[CV] . n_estimators=100, criterion=entropy, max_depth=3, total=  18.9s\n",
      "[CV] n_estimators=100, criterion=entropy, max_depth=3 ................\n"
     ]
    },
    {
     "name": "stderr",
     "output_type": "stream",
     "text": [
      "[Parallel(n_jobs=1)]: Done   1 out of   1 | elapsed:   19.2s remaining:    0.0s\n"
     ]
    },
    {
     "name": "stdout",
     "output_type": "stream",
     "text": [
      "[CV] . n_estimators=100, criterion=entropy, max_depth=3, total=  18.7s\n",
      "[CV] n_estimators=100, criterion=entropy, max_depth=3 ................\n",
      "[CV] . n_estimators=100, criterion=entropy, max_depth=3, total=  18.8s\n",
      "[CV] n_estimators=100, criterion=entropy, max_depth=4 ................\n",
      "[CV] . n_estimators=100, criterion=entropy, max_depth=4, total=  24.5s\n",
      "[CV] n_estimators=100, criterion=entropy, max_depth=4 ................\n",
      "[CV] . n_estimators=100, criterion=entropy, max_depth=4, total=  25.2s\n",
      "[CV] n_estimators=100, criterion=entropy, max_depth=4 ................\n",
      "[CV] . n_estimators=100, criterion=entropy, max_depth=4, total=  24.7s\n",
      "[CV] n_estimators=100, criterion=entropy, max_depth=5 ................\n",
      "[CV] . n_estimators=100, criterion=entropy, max_depth=5, total=  29.9s\n",
      "[CV] n_estimators=100, criterion=entropy, max_depth=5 ................\n",
      "[CV] . n_estimators=100, criterion=entropy, max_depth=5, total=  30.1s\n",
      "[CV] n_estimators=100, criterion=entropy, max_depth=5 ................\n",
      "[CV] . n_estimators=100, criterion=entropy, max_depth=5, total=  30.5s\n",
      "[CV] n_estimators=100, criterion=entropy, max_depth=6 ................\n",
      "[CV] . n_estimators=100, criterion=entropy, max_depth=6, total=  35.0s\n",
      "[CV] n_estimators=100, criterion=entropy, max_depth=6 ................\n",
      "[CV] . n_estimators=100, criterion=entropy, max_depth=6, total=  35.2s\n",
      "[CV] n_estimators=100, criterion=entropy, max_depth=6 ................\n",
      "[CV] . n_estimators=100, criterion=entropy, max_depth=6, total=  35.0s\n",
      "[CV] n_estimators=100, criterion=entropy, max_depth=7 ................\n",
      "[CV] . n_estimators=100, criterion=entropy, max_depth=7, total=  40.3s\n",
      "[CV] n_estimators=100, criterion=entropy, max_depth=7 ................\n",
      "[CV] . n_estimators=100, criterion=entropy, max_depth=7, total=  40.8s\n",
      "[CV] n_estimators=100, criterion=entropy, max_depth=7 ................\n",
      "[CV] . n_estimators=100, criterion=entropy, max_depth=7, total=  40.1s\n",
      "[CV] n_estimators=100, criterion=entropy, max_depth=8 ................\n",
      "[CV] . n_estimators=100, criterion=entropy, max_depth=8, total=  44.0s\n",
      "[CV] n_estimators=100, criterion=entropy, max_depth=8 ................\n",
      "[CV] . n_estimators=100, criterion=entropy, max_depth=8, total=  44.6s\n",
      "[CV] n_estimators=100, criterion=entropy, max_depth=8 ................\n",
      "[CV] . n_estimators=100, criterion=entropy, max_depth=8, total=  44.4s\n",
      "[CV] n_estimators=100, criterion=entropy, max_depth=9 ................\n",
      "[CV] . n_estimators=100, criterion=entropy, max_depth=9, total=  48.5s\n",
      "[CV] n_estimators=100, criterion=entropy, max_depth=9 ................\n",
      "[CV] . n_estimators=100, criterion=entropy, max_depth=9, total=  48.0s\n",
      "[CV] n_estimators=100, criterion=entropy, max_depth=9 ................\n",
      "[CV] . n_estimators=100, criterion=entropy, max_depth=9, total=  47.8s\n",
      "[CV] n_estimators=100, criterion=entropy, max_depth=10 ...............\n",
      "[CV]  n_estimators=100, criterion=entropy, max_depth=10, total=  51.9s\n",
      "[CV] n_estimators=100, criterion=entropy, max_depth=10 ...............\n",
      "[CV]  n_estimators=100, criterion=entropy, max_depth=10, total=  51.5s\n",
      "[CV] n_estimators=100, criterion=entropy, max_depth=10 ...............\n",
      "[CV]  n_estimators=100, criterion=entropy, max_depth=10, total=  51.3s\n",
      "[CV] n_estimators=100, criterion=entropy, max_depth=11 ...............\n",
      "[CV]  n_estimators=100, criterion=entropy, max_depth=11, total=  57.4s\n",
      "[CV] n_estimators=100, criterion=entropy, max_depth=11 ...............\n",
      "[CV]  n_estimators=100, criterion=entropy, max_depth=11, total=  54.7s\n",
      "[CV] n_estimators=100, criterion=entropy, max_depth=11 ...............\n",
      "[CV]  n_estimators=100, criterion=entropy, max_depth=11, total=  54.8s\n",
      "[CV] n_estimators=100, criterion=entropy, max_depth=12 ...............\n",
      "[CV]  n_estimators=100, criterion=entropy, max_depth=12, total=  57.7s\n",
      "[CV] n_estimators=100, criterion=entropy, max_depth=12 ...............\n",
      "[CV]  n_estimators=100, criterion=entropy, max_depth=12, total=  57.8s\n",
      "[CV] n_estimators=100, criterion=entropy, max_depth=12 ...............\n",
      "[CV]  n_estimators=100, criterion=entropy, max_depth=12, total=  57.6s\n",
      "[CV] n_estimators=100, criterion=entropy, max_depth=13 ...............\n",
      "[CV]  n_estimators=100, criterion=entropy, max_depth=13, total= 1.0min\n",
      "[CV] n_estimators=100, criterion=entropy, max_depth=13 ...............\n",
      "[CV]  n_estimators=100, criterion=entropy, max_depth=13, total= 1.0min\n",
      "[CV] n_estimators=100, criterion=entropy, max_depth=13 ...............\n",
      "[CV]  n_estimators=100, criterion=entropy, max_depth=13, total= 1.0min\n",
      "[CV] n_estimators=100, criterion=entropy, max_depth=14 ...............\n",
      "[CV]  n_estimators=100, criterion=entropy, max_depth=14, total= 1.1min\n",
      "[CV] n_estimators=100, criterion=entropy, max_depth=14 ...............\n",
      "[CV]  n_estimators=100, criterion=entropy, max_depth=14, total= 1.0min\n",
      "[CV] n_estimators=100, criterion=entropy, max_depth=14 ...............\n",
      "[CV]  n_estimators=100, criterion=entropy, max_depth=14, total= 1.1min\n",
      "[CV] n_estimators=100, criterion=entropy, max_depth=15 ...............\n",
      "[CV]  n_estimators=100, criterion=entropy, max_depth=15, total= 1.1min\n",
      "[CV] n_estimators=100, criterion=entropy, max_depth=15 ...............\n",
      "[CV]  n_estimators=100, criterion=entropy, max_depth=15, total= 1.1min\n",
      "[CV] n_estimators=100, criterion=entropy, max_depth=15 ...............\n",
      "[CV]  n_estimators=100, criterion=entropy, max_depth=15, total= 1.1min\n",
      "[CV] n_estimators=100, criterion=entropy, max_depth=16 ...............\n",
      "[CV]  n_estimators=100, criterion=entropy, max_depth=16, total= 1.1min\n",
      "[CV] n_estimators=100, criterion=entropy, max_depth=16 ...............\n",
      "[CV]  n_estimators=100, criterion=entropy, max_depth=16, total= 1.1min\n",
      "[CV] n_estimators=100, criterion=entropy, max_depth=16 ...............\n",
      "[CV]  n_estimators=100, criterion=entropy, max_depth=16, total= 1.1min\n",
      "[CV] n_estimators=100, criterion=entropy, max_depth=17 ...............\n",
      "[CV]  n_estimators=100, criterion=entropy, max_depth=17, total= 1.2min\n",
      "[CV] n_estimators=100, criterion=entropy, max_depth=17 ...............\n",
      "[CV]  n_estimators=100, criterion=entropy, max_depth=17, total= 1.2min\n",
      "[CV] n_estimators=100, criterion=entropy, max_depth=17 ...............\n",
      "[CV]  n_estimators=100, criterion=entropy, max_depth=17, total= 1.2min\n",
      "[CV] n_estimators=100, criterion=entropy, max_depth=18 ...............\n",
      "[CV]  n_estimators=100, criterion=entropy, max_depth=18, total= 1.2min\n",
      "[CV] n_estimators=100, criterion=entropy, max_depth=18 ...............\n",
      "[CV]  n_estimators=100, criterion=entropy, max_depth=18, total= 1.2min\n",
      "[CV] n_estimators=100, criterion=entropy, max_depth=18 ...............\n",
      "[CV]  n_estimators=100, criterion=entropy, max_depth=18, total= 1.2min\n",
      "[CV] n_estimators=100, criterion=entropy, max_depth=19 ...............\n",
      "[CV]  n_estimators=100, criterion=entropy, max_depth=19, total= 1.2min\n",
      "[CV] n_estimators=100, criterion=entropy, max_depth=19 ...............\n",
      "[CV]  n_estimators=100, criterion=entropy, max_depth=19, total= 1.1min\n",
      "[CV] n_estimators=100, criterion=entropy, max_depth=19 ...............\n",
      "[CV]  n_estimators=100, criterion=entropy, max_depth=19, total= 1.1min\n"
     ]
    },
    {
     "name": "stderr",
     "output_type": "stream",
     "text": [
      "[Parallel(n_jobs=1)]: Done  51 out of  51 | elapsed: 44.2min finished\n"
     ]
    },
    {
     "data": {
      "text/plain": [
       "GridSearchCV(cv=None, error_score='raise',\n",
       "       estimator=RandomForestClassifier(bootstrap=True, class_weight=None, criterion='gini',\n",
       "            max_depth=None, max_features=None, max_leaf_nodes=None,\n",
       "            min_impurity_split=1e-07, min_samples_leaf=1,\n",
       "            min_samples_split=2, min_weight_fraction_leaf=0.0,\n",
       "            n_estimators=10, n_jobs=4, oob_score=False, random_state=None,\n",
       "            verbose=0, warm_start=False),\n",
       "       fit_params={}, iid=True, n_jobs=1,\n",
       "       param_grid={'n_estimators': [100], 'criterion': ['entropy'], 'max_depth': [3, 4, 5, 6, 7, 8, 9, 10, 11, 12, 13, 14, 15, 16, 17, 18, 19]},\n",
       "       pre_dispatch='2*n_jobs', refit=True, return_train_score=True,\n",
       "       scoring='roc_auc', verbose=2)"
      ]
     },
     "execution_count": 32,
     "metadata": {},
     "output_type": "execute_result"
    }
   ],
   "source": [
    "param_test_1 = {\n",
    "    'criterion':['entropy'],\n",
    "    'n_estimators': [100],\n",
    "    'max_depth': range(3, 20, 1)\n",
    "}\n",
    "\n",
    "gsearch1 = GridSearchCV(estimator=RandomForestClassifier(n_jobs=4, max_features=None), \n",
    "                        param_grid=param_test_1,\n",
    "                        scoring='roc_auc', verbose=2)\n",
    "\n",
    "gsearch1.fit(X_train, y_train)"
   ]
  },
  {
   "cell_type": "code",
   "execution_count": 41,
   "metadata": {
    "collapsed": false
   },
   "outputs": [
    {
     "name": "stdout",
     "output_type": "stream",
     "text": [
      "0.739 (+/-0.006) for {'n_estimators': 100, 'criterion': 'entropy', 'max_depth': 3}\n",
      "0.751 (+/-0.003) for {'n_estimators': 100, 'criterion': 'entropy', 'max_depth': 4}\n",
      "0.759 (+/-0.003) for {'n_estimators': 100, 'criterion': 'entropy', 'max_depth': 5}\n",
      "0.765 (+/-0.003) for {'n_estimators': 100, 'criterion': 'entropy', 'max_depth': 6}\n",
      "0.769 (+/-0.002) for {'n_estimators': 100, 'criterion': 'entropy', 'max_depth': 7}\n",
      "0.772 (+/-0.003) for {'n_estimators': 100, 'criterion': 'entropy', 'max_depth': 8}\n",
      "0.775 (+/-0.003) for {'n_estimators': 100, 'criterion': 'entropy', 'max_depth': 9}\n",
      "0.776 (+/-0.003) for {'n_estimators': 100, 'criterion': 'entropy', 'max_depth': 10}\n",
      "0.777 (+/-0.003) for {'n_estimators': 100, 'criterion': 'entropy', 'max_depth': 11}\n",
      "0.778 (+/-0.003) for {'n_estimators': 100, 'criterion': 'entropy', 'max_depth': 12}\n",
      "0.778 (+/-0.004) for {'n_estimators': 100, 'criterion': 'entropy', 'max_depth': 13}\n",
      "0.778 (+/-0.005) for {'n_estimators': 100, 'criterion': 'entropy', 'max_depth': 14}\n",
      "0.778 (+/-0.002) for {'n_estimators': 100, 'criterion': 'entropy', 'max_depth': 15}\n",
      "0.779 (+/-0.005) for {'n_estimators': 100, 'criterion': 'entropy', 'max_depth': 16}\n",
      "0.779 (+/-0.004) for {'n_estimators': 100, 'criterion': 'entropy', 'max_depth': 17}\n",
      "0.778 (+/-0.004) for {'n_estimators': 100, 'criterion': 'entropy', 'max_depth': 18}\n",
      "0.778 (+/-0.005) for {'n_estimators': 100, 'criterion': 'entropy', 'max_depth': 19}\n",
      "{'n_estimators': 100, 'criterion': 'entropy', 'max_depth': 17}\n",
      "0.778820826516\n"
     ]
    }
   ],
   "source": [
    "means = gsearch1.cv_results_['mean_test_score']\n",
    "stds = gsearch1.cv_results_['std_test_score']\n",
    "for mean, std, params in zip(means, stds, gsearch1.cv_results_['params']):\n",
    "    print(\"%0.3f (+/-%0.03f) for %r\"% (mean, std * 2, params))\n",
    "print gsearch1.best_params_\n",
    "print gsearch1.best_score_"
   ]
  },
  {
   "cell_type": "code",
   "execution_count": 44,
   "metadata": {
    "collapsed": false
   },
   "outputs": [
    {
     "data": {
      "image/png": "[encoded data removed]",
      "text/plain": [
       "<matplotlib.figure.Figure at 0x10d0490d0>"
      ]
     },
     "metadata": {},
     "output_type": "display_data"
    }
   ],
   "source": [
    "xs = range(3, 20, 1)\n",
    "ys = gsearch1.cv_results_['mean_test_score']\n",
    "plt.plot(xs,ys)\n",
    "plt.title(\"Mean Test Socre(ROC_AUC) vs Max Tree Depth\")\n",
    "plt.ylabel(\"Mean ROC_AUC Score\")\n",
    "plt.xlabel(\"Max Tree Depth\")\n",
    "plt.savefig(\"plots/rf_depth.png\")"
   ]
  },
  {
   "cell_type": "code",
   "execution_count": null,
   "metadata": {
    "collapsed": true
   },
   "outputs": [],
   "source": [
    "param_test_2 = {\n",
    "    'criterion':['entropy'],\n",
    "    'n_estimators': [100],\n",
    "    'max_features': range(0.1, 1, 0.1)\n",
    "}\n",
    "\n",
    "gsearch1 = GridSearchCV(estimator=RandomForestClassifier(n_jobs=4, max_depth=17), \n",
    "                        param_grid=param_test_1,\n",
    "                        scoring='roc_auc', verbose=2)\n",
    "\n",
    "gsearch1.fit(X_train, y_train)"
   ]
  }
 ],
 "metadata": {
  "kernelspec": {
   "display_name": "Python 2",
   "language": "python",
   "name": "python2"
  },
  "language_info": {
   "codemirror_mode": {
    "name": "ipython",
    "version": 2
   },
   "file_extension": ".py",
   "mimetype": "text/x-python",
   "name": "python",
   "nbconvert_exporter": "python",
   "pygments_lexer": "ipython2",
   "version": "2.7.11"
  }
 },
 "nbformat": 4,
 "nbformat_minor": 1
}
